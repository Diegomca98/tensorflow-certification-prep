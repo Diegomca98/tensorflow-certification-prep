{
 "cells": [
  {
   "cell_type": "markdown",
   "metadata": {},
   "source": [
    "# Section 3: Neural Network Regression with TensorFlow"
   ]
  },
  {
   "cell_type": "markdown",
   "metadata": {},
   "source": [
    "There are many definitions for a [regression problem](https://en.wikipedia.org/wiki/Regression_analysis), here are some examples:\n",
    "* How much will this house sell for?\n",
    "* How many people eill bui this app?\n",
    "* Predict the selling price of houses given information about them (such as number of rooms, size, number of bathrooms).\n",
    "* Predict the coordinates of a bounding box of an item in an image.\n",
    "* Predict the cost of medical insurance for an individual given their demographics (age, sex, gender, race).\n",
    "\n",
    "As you can see, the trend is **how much or many something**, to simplyfi it a regression problem is basically **predicting a number** of some sort, maybe coordinates, prices, etc.\n",
    "\n",
    "In this notebook, we're going to set the foundations for how you can take a sample of inputs (this is your data), build a neural network to discover patterns in those inputs and then make a prediction (in the form of a number) based on those inputs."
   ]
  },
  {
   "cell_type": "markdown",
   "metadata": {},
   "source": [
    "## Import Section"
   ]
  },
  {
   "cell_type": "code",
   "execution_count": 3,
   "metadata": {},
   "outputs": [],
   "source": [
    "import tensorflow as tf\n",
    "import numpy as np\n",
    "import matplotlib.pyplot as plt"
   ]
  },
  {
   "cell_type": "code",
   "execution_count": 2,
   "metadata": {},
   "outputs": [
    {
     "name": "stdout",
     "output_type": "stream",
     "text": [
      "2.10.1\n"
     ]
    }
   ],
   "source": [
    "print(tf.__version__)"
   ]
  },
  {
   "cell_type": "markdown",
   "metadata": {},
   "source": [
    "## What we're going to cover"
   ]
  },
  {
   "cell_type": "markdown",
   "metadata": {},
   "source": [
    "Specifically, we're going to go through doing the following with TensorFlow:\n",
    "\n",
    "* **Architecture of a regression model**\n",
    "* **Input shapes and output shapes**\n",
    "  * X: features/data (inputs)\n",
    "  * y: labels (outputs)\n",
    "* **Creating custom data to view and fit**\n",
    "* **Steps in modelling**\n",
    "  * Creating a model\n",
    "  * Compiling a model\n",
    "    * *Defining a loss function*\n",
    "    * *Setting up an optimizer*\n",
    "    * *Creating evaluation metrics*\n",
    "  * Fitting a model (getting it to find patterns in our data)\n",
    "* **Evaluating a model**\n",
    "  * Visualizng the model (\"visualize, visualize, visualize\")\n",
    "  * Looking at training curves\n",
    "  * Compare predictions to ground truth (using our evaluation metrics)\n",
    "* **Saving a model** (so we can use it later)\n",
    "* **Loading a model**\n",
    "\n",
    "Don't worry if none of these make sense now, we're going to go through each."
   ]
  },
  {
   "cell_type": "markdown",
   "metadata": {},
   "source": [
    "## Inputs and Outputs of a Neural Network Regression Model"
   ]
  },
  {
   "cell_type": "markdown",
   "metadata": {},
   "source": [
    "For this example let's say we have a house for sale and we want to build a model to predict how much I should offer if we go to auction:\n",
    "\n",
    "What do we know:\n",
    "* Independent Variables or Features:\n",
    "  * Number of Bathrooms (x4)\n",
    "  * Number of Bedrooms (x2)\n",
    "  * Number of Garages (x2)\n",
    "* Dependant or Target Variables:\n",
    "  * We now the prices of other houses nearby\n",
    "\n",
    "**Inputs:** We have to encode the Features to pass them to the model. It can be as many Features as we want, therefore the shape won't necessarily be fixed.\n",
    "`features = [f1, f2, f3, f4, f5, f6, f7, ..., fn]`\n",
    "\n",
    "**ML Algorithms:** Often someone already did a model to fix your problem, if not, you can build one\n",
    "\n",
    "**Outputs:** Based on the Features and the targets from other records, the model gives us the predicted output. Normally in regression models the shape of the output is fixed to 1.\n",
    "`output = [123456]`"
   ]
  },
  {
   "cell_type": "markdown",
   "metadata": {},
   "source": [
    "## Typical architecture of a regresison neural network"
   ]
  },
  {
   "cell_type": "markdown",
   "metadata": {},
   "source": [
    "### Graphical Representation - Simple Example and Explanation"
   ]
  },
  {
   "cell_type": "markdown",
   "metadata": {},
   "source": [
    "![Neural Network Architecture](../assets/nn_representation.png)\n",
    "\n",
    "| Layer(s) | Description                                                | Units/Neurons in the example image |\n",
    "| -------- | ---------------------------------------------------------- | :--------------------------------: |\n",
    "| Input    | Where the data goes in                                     | 3\n",
    "| Hidden   | Learns patterns in data                                    | 4\n",
    "| Output   | Outputs learned representation or prediction probabilities | 1"
   ]
  },
  {
   "cell_type": "markdown",
   "metadata": {},
   "source": [
    "### Complete Explanation"
   ]
  },
  {
   "cell_type": "markdown",
   "metadata": {},
   "source": [
    "**There are many different ways (actually, there's almost an infinite number of ways) to write neural networks, but the following is a generic setup for ingesting a collection of numbers, finding patterns in them and then outputting some kind of target number.**\n",
    "\n",
    "\n",
    "| Hyperparameters          | Typical Value |\n",
    "| ------------------------ | ------------- |\n",
    "| Input layer shape        | Same shape as number of features (e.g. 3 for # bedrooms, # bathrooms, # car spaces in housing price prediction) |\n",
    "| Hidden layer(s)\t       | Problem specific, minimum = 1, maximum = unlimited |\n",
    "| Neurons per hidden layer | Problem specific, generally 10 to 100 |\n",
    "| Output layer shape\t   | Same shape as desired prediction shape (e.g. 1 for house price) |\n",
    "| Hidden activation\t       | Usually [ReLU](https://www.kaggle.com/dansbecker/rectified-linear-units-relu-in-deep-learning) (rectified linear unit) |\n",
    "| Output activation\t       | None, ReLU, logistic/tanh |\n",
    "| Loss function\t           | [MSE](https://en.wikipedia.org/wiki/Mean_squared_error) (mean square error) or [MAE](https://en.wikipedia.org/wiki/Mean_absolute_error) (mean absolute error)/Huber (combination of MAE/MSE) if outliers |\n",
    "| Optimizer                | [SGD](https://www.tensorflow.org/api_docs/python/tf/keras/optimizers/SGD) (stochastic gradient descent), [Adam](https://www.tensorflow.org/api_docs/python/tf/keras/optimizers/Adam) |\n",
    "\n",
    "*Table 1: Typical architecture of a regression network. Source: Adapted from page 293 of [Hands-On Machine Learning with Scikit-Learn, Keras & TensorFlow Book by Aurélien Géron](https://www.oreilly.com/library/view/hands-on-machine-learning/9781492032632/)*\n",
    "\n",
    "Again, if you're new to neural networks and deep learning in general, much of the above table won't make sense. But don't worry, we'll be getting hands-on with all of it soon.\n",
    "\n",
    "> **Note:** A **hyperparameter** in machine learning is something a data analyst or developer can set themselves, where as a **parameter** usually describes something a model learns on its own (a value not explicitly set by an analyst)."
   ]
  },
  {
   "cell_type": "markdown",
   "metadata": {},
   "source": [
    "## Video Activities "
   ]
  },
  {
   "cell_type": "markdown",
   "metadata": {},
   "source": [
    "### 42. Creating Sample Regression Data (so we can model it)"
   ]
  },
  {
   "cell_type": "code",
   "execution_count": 9,
   "metadata": {},
   "outputs": [
    {
     "data": {
      "image/png": "[encoded data removed]",
      "text/plain": [
       "<Figure size 640x480 with 1 Axes>"
      ]
     },
     "metadata": {},
     "output_type": "display_data"
    }
   ],
   "source": [
    "# Creating features\n",
    "X = np.array(\n",
    "    [-7.0, -4.0, -1.0, 2.0, 5.0, 8.0, 11.0, 14.0]\n",
    ")\n",
    "\n",
    "# Create labels\n",
    "y = np.array(\n",
    "    [3.0, 6.0, 9.0, 12.0, 15.0, 18.0, 21.0, 24.0]\n",
    ")\n",
    "\n",
    "# Visualize it\n",
    "plt.scatter(X,y)\n",
    "plt.title('The relation is y = X+10')\n",
    "plt.show()"
   ]
  },
  {
   "cell_type": "code",
   "execution_count": 10,
   "metadata": {},
   "outputs": [
    {
     "data": {
      "text/plain": [
       "array([ True,  True,  True,  True,  True,  True,  True,  True])"
      ]
     },
     "execution_count": 10,
     "metadata": {},
     "output_type": "execute_result"
    }
   ],
   "source": [
    "y == X+10"
   ]
  },
  {
   "cell_type": "code",
   "execution_count": 13,
   "metadata": {},
   "outputs": [
    {
     "data": {
      "text/plain": [
       "(<tf.Tensor: shape=(3,), dtype=string, numpy=array([b'bedroom', b'bathroom', b'garage'], dtype=object)>,\n",
       " <tf.Tensor: shape=(1,), dtype=int32, numpy=array([939700])>)"
      ]
     },
     "execution_count": 13,
     "metadata": {},
     "output_type": "execute_result"
    }
   ],
   "source": [
    "## Input and Output Shapes - Create a demo tensor for our housing price prediction problem\n",
    "house_info = tf.constant(\n",
    "    ['bedroom', 'bathroom', 'garage']\n",
    ")\n",
    "\n",
    "house_price = tf.constant(\n",
    "    [939700]\n",
    ")\n",
    "\n",
    "house_info, house_price"
   ]
  },
  {
   "cell_type": "code",
   "execution_count": 17,
   "metadata": {},
   "outputs": [
    {
     "data": {
      "text/plain": [
       "((8,), (8,))"
      ]
     },
     "execution_count": 17,
     "metadata": {},
     "output_type": "execute_result"
    }
   ],
   "source": [
    "# In the following case we have 1 input feature to predict 1 output feature, \n",
    "# therfore we have shape 0 since the input and output are scalars, either way\n",
    "# we still have 1 input for 1 output\n",
    "input_shape = X.shape\n",
    "output_shape = y.shape\n",
    "\n",
    "input_shape, output_shape"
   ]
  },
  {
   "cell_type": "code",
   "execution_count": null,
   "metadata": {},
   "outputs": [],
   "source": []
  }
 ],
 "metadata": {
  "kernelspec": {
   "display_name": "tf-dev-cert",
   "language": "python",
   "name": "python3"
  },
  "language_info": {
   "codemirror_mode": {
    "name": "ipython",
    "version": 3
   },
   "file_extension": ".py",
   "mimetype": "text/x-python",
   "name": "python",
   "nbconvert_exporter": "python",
   "pygments_lexer": "ipython3",
   "version": "3.9.19"
  }
 },
 "nbformat": 4,
 "nbformat_minor": 2
}
