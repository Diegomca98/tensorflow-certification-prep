{
 "cells": [
  {
   "cell_type": "markdown",
   "metadata": {},
   "source": [
    "# Section 3: Neural Network Regression with TensorFlow"
   ]
  },
  {
   "cell_type": "markdown",
   "metadata": {},
   "source": [
    "There are many definitions for a [regression problem](https://en.wikipedia.org/wiki/Regression_analysis), here are some examples:\n",
    "* How much will this house sell for?\n",
    "* How many people eill bui this app?\n",
    "* Predict the selling price of houses given information about them (such as number of rooms, size, number of bathrooms).\n",
    "* Predict the coordinates of a bounding box of an item in an image.\n",
    "* Predict the cost of medical insurance for an individual given their demographics (age, sex, gender, race).\n",
    "\n",
    "As you can see, the trend is **how much or many something**, to simplyfi it a regression problem is basically **predicting a number** of some sort, maybe coordinates, prices, etc.\n",
    "\n",
    "In this notebook, we're going to set the foundations for how you can take a sample of inputs (this is your data), build a neural network to discover patterns in those inputs and then make a prediction (in the form of a number) based on those inputs."
   ]
  },
  {
   "cell_type": "markdown",
   "metadata": {},
   "source": [
    "## Import Section"
   ]
  },
  {
   "cell_type": "code",
   "execution_count": 45,
   "metadata": {},
   "outputs": [],
   "source": [
    "import tensorflow as tf\n",
    "import numpy as np\n",
    "import matplotlib.pyplot as plt\n",
    "from sklearn.model_selection import train_test_split"
   ]
  },
  {
   "cell_type": "code",
   "execution_count": 2,
   "metadata": {},
   "outputs": [
    {
     "name": "stdout",
     "output_type": "stream",
     "text": [
      "2.10.1\n"
     ]
    }
   ],
   "source": [
    "print(tf.__version__)"
   ]
  },
  {
   "cell_type": "markdown",
   "metadata": {},
   "source": [
    "## Introduction"
   ]
  },
  {
   "cell_type": "markdown",
   "metadata": {},
   "source": [
    "### What we're going to cover"
   ]
  },
  {
   "cell_type": "markdown",
   "metadata": {},
   "source": [
    "Specifically, we're going to go through doing the following with TensorFlow:\n",
    "\n",
    "* **Architecture of a regression model**\n",
    "* **Input shapes and output shapes**\n",
    "  * X: features/data (inputs)\n",
    "  * y: labels (outputs)\n",
    "* **Creating custom data to view and fit**\n",
    "* **Steps in modelling**\n",
    "  * Creating a model\n",
    "  * Compiling a model\n",
    "    * *Defining a loss function*\n",
    "    * *Setting up an optimizer*\n",
    "    * *Creating evaluation metrics*\n",
    "  * Fitting a model (getting it to find patterns in our data)\n",
    "* **Evaluating a model**\n",
    "  * Visualizng the model (\"visualize, visualize, visualize\")\n",
    "  * Looking at training curves\n",
    "  * Compare predictions to ground truth (using our evaluation metrics)\n",
    "* **Saving a model** (so we can use it later)\n",
    "* **Loading a model**\n",
    "\n",
    "Don't worry if none of these make sense now, we're going to go through each."
   ]
  },
  {
   "cell_type": "markdown",
   "metadata": {},
   "source": [
    "### Inputs and Outputs of a Neural Network Regression Model"
   ]
  },
  {
   "cell_type": "markdown",
   "metadata": {},
   "source": [
    "For this example let's say we have a house for sale and we want to build a model to predict how much I should offer if we go to auction:\n",
    "\n",
    "What do we know:\n",
    "* Independent Variables or Features:\n",
    "  * Number of Bathrooms (x4)\n",
    "  * Number of Bedrooms (x2)\n",
    "  * Number of Garages (x2)\n",
    "* Dependant or Target Variables:\n",
    "  * We now the prices of other houses nearby\n",
    "\n",
    "**Inputs:** We have to encode the Features to pass them to the model. It can be as many Features as we want, therefore the shape won't necessarily be fixed.\n",
    "`features = [f1, f2, f3, f4, f5, f6, f7, ..., fn]`\n",
    "\n",
    "**ML Algorithms:** Often someone already did a model to fix your problem, if not, you can build one\n",
    "\n",
    "**Outputs:** Based on the Features and the targets from other records, the model gives us the predicted output. Normally in regression models the shape of the output is fixed to 1.\n",
    "`output = [123456]`"
   ]
  },
  {
   "cell_type": "markdown",
   "metadata": {},
   "source": [
    "### Typical architecture of a regresison neural network"
   ]
  },
  {
   "cell_type": "markdown",
   "metadata": {},
   "source": [
    "#### Graphical Representation - Simple Example and Explanation"
   ]
  },
  {
   "cell_type": "markdown",
   "metadata": {},
   "source": [
    "![Neural Network Architecture](../assets/nn_representation.png)\n",
    "\n",
    "| Layer(s) | Description                                                | Units/Neurons in the example image |\n",
    "| -------- | ---------------------------------------------------------- | :--------------------------------: |\n",
    "| Input    | Where the data goes in                                     | 3\n",
    "| Hidden   | Learns patterns in data                                    | 4\n",
    "| Output   | Outputs learned representation or prediction probabilities | 1"
   ]
  },
  {
   "cell_type": "markdown",
   "metadata": {},
   "source": [
    "#### Complete Explanation"
   ]
  },
  {
   "cell_type": "markdown",
   "metadata": {},
   "source": [
    "**There are many different ways (actually, there's almost an infinite number of ways) to write neural networks, but the following is a generic setup for ingesting a collection of numbers, finding patterns in them and then outputting some kind of target number.**\n",
    "\n",
    "\n",
    "| Hyperparameters          | Typical Value |\n",
    "| ------------------------ | ------------- |\n",
    "| Input layer shape        | Same shape as number of features (e.g. 3 for # bedrooms, # bathrooms, # car spaces in housing price prediction) |\n",
    "| Hidden layer(s)\t       | Problem specific, minimum = 1, maximum = unlimited |\n",
    "| Neurons per hidden layer | Problem specific, generally 10 to 100 |\n",
    "| Output layer shape\t   | Same shape as desired prediction shape (e.g. 1 for house price) |\n",
    "| Hidden activation\t       | Usually [ReLU](https://www.kaggle.com/dansbecker/rectified-linear-units-relu-in-deep-learning) (rectified linear unit) |\n",
    "| Output activation\t       | None, ReLU, logistic/tanh |\n",
    "| Loss function\t           | [MSE](https://en.wikipedia.org/wiki/Mean_squared_error) (mean square error) or [MAE](https://en.wikipedia.org/wiki/Mean_absolute_error) (mean absolute error)/Huber (combination of MAE/MSE) if outliers |\n",
    "| Optimizer                | [SGD](https://www.tensorflow.org/api_docs/python/tf/keras/optimizers/SGD) (stochastic gradient descent), [Adam](https://www.tensorflow.org/api_docs/python/tf/keras/optimizers/Adam) |\n",
    "\n",
    "*Table 1: Typical architecture of a regression network. Source: Adapted from page 293 of [Hands-On Machine Learning with Scikit-Learn, Keras & TensorFlow Book by Aurélien Géron](https://www.oreilly.com/library/view/hands-on-machine-learning/9781492032632/)*\n",
    "\n",
    "Again, if you're new to neural networks and deep learning in general, much of the above table won't make sense. But don't worry, we'll be getting hands-on with all of it soon.\n",
    "\n",
    "> **Note:** A **hyperparameter** in machine learning is something a data analyst or developer can set themselves, where as a **parameter** usually describes something a model learns on its own (a value not explicitly set by an analyst)."
   ]
  },
  {
   "cell_type": "markdown",
   "metadata": {},
   "source": [
    "## Video Activities "
   ]
  },
  {
   "cell_type": "markdown",
   "metadata": {},
   "source": [
    "### 42. Creating Sample Regression Data (so we can model it)"
   ]
  },
  {
   "cell_type": "markdown",
   "metadata": {},
   "source": [
    "* [tf.keras.Sequential](https://www.tensorflow.org/api_docs/python/tf/keras/Sequential)"
   ]
  },
  {
   "cell_type": "code",
   "execution_count": 3,
   "metadata": {},
   "outputs": [
    {
     "data": {
      "image/png": "[encoded data removed]",
      "text/plain": [
       "<Figure size 640x480 with 1 Axes>"
      ]
     },
     "metadata": {},
     "output_type": "display_data"
    }
   ],
   "source": [
    "# Creating features\n",
    "X = np.array(\n",
    "    [-7.0, -4.0, -1.0, 2.0, 5.0, 8.0, 11.0, 14.0]\n",
    ")\n",
    "\n",
    "# Create labels\n",
    "y = np.array(\n",
    "    [3.0, 6.0, 9.0, 12.0, 15.0, 18.0, 21.0, 24.0]\n",
    ")\n",
    "\n",
    "# Visualize it\n",
    "plt.scatter(X,y)\n",
    "plt.title('The relation is y = X+10')\n",
    "plt.show()"
   ]
  },
  {
   "cell_type": "code",
   "execution_count": 4,
   "metadata": {},
   "outputs": [
    {
     "data": {
      "text/plain": [
       "array([ True,  True,  True,  True,  True,  True,  True,  True])"
      ]
     },
     "execution_count": 4,
     "metadata": {},
     "output_type": "execute_result"
    }
   ],
   "source": [
    "y == X+10"
   ]
  },
  {
   "cell_type": "code",
   "execution_count": 5,
   "metadata": {},
   "outputs": [
    {
     "data": {
      "text/plain": [
       "(<tf.Tensor: shape=(3,), dtype=string, numpy=array([b'bedroom', b'bathroom', b'garage'], dtype=object)>,\n",
       " <tf.Tensor: shape=(1,), dtype=int32, numpy=array([939700])>)"
      ]
     },
     "execution_count": 5,
     "metadata": {},
     "output_type": "execute_result"
    }
   ],
   "source": [
    "## Input and Output Shapes - Create a demo tensor for our housing price prediction problem\n",
    "house_info = tf.constant(\n",
    "    ['bedroom', 'bathroom', 'garage']\n",
    ")\n",
    "\n",
    "house_price = tf.constant(\n",
    "    [939700]\n",
    ")\n",
    "\n",
    "house_info, house_price"
   ]
  },
  {
   "cell_type": "code",
   "execution_count": 6,
   "metadata": {},
   "outputs": [
    {
     "data": {
      "text/plain": [
       "((8,), (8,))"
      ]
     },
     "execution_count": 6,
     "metadata": {},
     "output_type": "execute_result"
    }
   ],
   "source": [
    "# In the following case we have 1 input feature to predict 1 output feature, \n",
    "# therfore we have shape 0 since the input and output are scalars, either way\n",
    "# we still have 1 input for 1 output\n",
    "input_shape = X.shape\n",
    "output_shape = y.shape\n",
    "\n",
    "input_shape, output_shape"
   ]
  },
  {
   "cell_type": "markdown",
   "metadata": {},
   "source": [
    "### 44. The mayor steps in modeling with TensorFlow"
   ]
  },
  {
   "cell_type": "code",
   "execution_count": 7,
   "metadata": {},
   "outputs": [
    {
     "data": {
      "text/plain": [
       "(<tf.Tensor: shape=(8,), dtype=float32, numpy=array([-7., -4., -1.,  2.,  5.,  8., 11., 14.], dtype=float32)>,\n",
       " <tf.Tensor: shape=(8,), dtype=float32, numpy=array([ 3.,  6.,  9., 12., 15., 18., 21., 24.], dtype=float32)>)"
      ]
     },
     "execution_count": 7,
     "metadata": {},
     "output_type": "execute_result"
    }
   ],
   "source": [
    "# NumPy arrays into tensors\n",
    "X = tf.cast(tf.constant(X), dtype = tf.float32)\n",
    "y = tf.cast(tf.constant(y), dtype = tf.float32)\n",
    "\n",
    "X, y"
   ]
  },
  {
   "cell_type": "code",
   "execution_count": 8,
   "metadata": {},
   "outputs": [
    {
     "data": {
      "text/plain": [
       "(TensorShape([]), TensorShape([]))"
      ]
     },
     "execution_count": 8,
     "metadata": {},
     "output_type": "execute_result"
    }
   ],
   "source": [
    "input_shape = X[0].shape\n",
    "output_shape = y[0].shape\n",
    "\n",
    "input_shape, output_shape\n"
   ]
  },
  {
   "cell_type": "code",
   "execution_count": 9,
   "metadata": {},
   "outputs": [
    {
     "data": {
      "text/plain": [
       "<matplotlib.collections.PathCollection at 0x196c3f7ed00>"
      ]
     },
     "execution_count": 9,
     "metadata": {},
     "output_type": "execute_result"
    },
    {
     "data": {
      "image/png": "[encoded data removed]",
      "text/plain": [
       "<Figure size 640x480 with 1 Axes>"
      ]
     },
     "metadata": {},
     "output_type": "display_data"
    }
   ],
   "source": [
    "plt.scatter(X, y)"
   ]
  },
  {
   "cell_type": "markdown",
   "metadata": {},
   "source": [
    "#### **Steps in modelling with TensorFlow**"
   ]
  },
  {
   "cell_type": "markdown",
   "metadata": {},
   "source": [
    "1. **Create model**\n",
    "   1. Defines for the Deep Learning Model:\n",
    "      1. *Input Layer(s)*\n",
    "      2. *Hidden Layer(s)*\n",
    "      3. *Output Layer(s)*\n",
    "\n",
    "2. **Compiling a model**\n",
    "   1. Defines:\n",
    "      1. *Loss function*\n",
    "      2. *Optimizer to improve the patterns*\n",
    "      3. *Evaluation metrics*\n",
    "3. **Fitting the model**\n",
    "   1. Letting the model try to find patterns between X and y (Features and Labels)\n",
    "   2. Defines:\n",
    "      1. *Epochs* (How many times the model will go through all of the training samples)\n",
    "4. Evaluate the model on the test data"
   ]
  },
  {
   "cell_type": "markdown",
   "metadata": {},
   "source": [
    "**Note:** \n",
    "\n",
    "You might see this error\n",
    "\n",
    "```\n",
    "ValueError: Exception encountered when calling layer \"sequential\" (type Sequential).\n",
    "    \n",
    "    Input 0 of layer \"dense\" is incompatible with the layer: expected min_ndim=2, found ndim=1. Full shape received: (None,)\n",
    "    \n",
    "    Call arguments received:\n",
    "      • inputs=tf.Tensor(shape=(None,), dtype=float32)\n",
    "      • training=True\n",
    "      • mask=None\n",
    "```\n",
    "This happens because `model.fit()` no longer automatically upscales inputs from shape `(batch_size, )` to `(batch_size, 1)`.\n",
    "\n",
    "This results in a shape error (remember one of most common errors in deep learning is input and output shapes).\n",
    "\n",
    "**You can add an extra dimension to your input data by using:** \n",
    "* `tf.expand_dims(input_data, axis = -1)`\n",
    "\n",
    "**The code adds an extra dimension to X on the last axis, turning it ndim=1 to ndim=2 (what the model requires).**\n"
   ]
  },
  {
   "cell_type": "code",
   "execution_count": 17,
   "metadata": {},
   "outputs": [
    {
     "name": "stdout",
     "output_type": "stream",
     "text": [
      "Epoch 1/5\n"
     ]
    },
    {
     "name": "stdout",
     "output_type": "stream",
     "text": [
      "1/1 [==============================] - 0s 274ms/step - loss: 12.8676 - mae: 12.8676\n",
      "Epoch 2/5\n",
      "1/1 [==============================] - 0s 5ms/step - loss: 12.7351 - mae: 12.7351\n",
      "Epoch 3/5\n",
      "1/1 [==============================] - 0s 10ms/step - loss: 12.6026 - mae: 12.6026\n",
      "Epoch 4/5\n",
      "1/1 [==============================] - 0s 5ms/step - loss: 12.4701 - mae: 12.4701\n",
      "Epoch 5/5\n",
      "1/1 [==============================] - 0s 4ms/step - loss: 12.3376 - mae: 12.3376\n"
     ]
    },
    {
     "data": {
      "text/plain": [
       "<keras.callbacks.History at 0x196e1a695e0>"
      ]
     },
     "execution_count": 17,
     "metadata": {},
     "output_type": "execute_result"
    }
   ],
   "source": [
    "# Random seed\n",
    "tf.random.set_seed(42)\n",
    "\n",
    "# Create a model using the Sequential API\n",
    "model = tf.keras.Sequential(\n",
    "    [\n",
    "        tf.keras.layers.Dense(1)\n",
    "    ]\n",
    ")\n",
    "\n",
    "# 2. Compile the model\n",
    "model.compile(\n",
    "    loss = tf.keras.losses.mae, # Mean Absolute Error loss = mean(abs(y_true - y_pred), axis = 1)\n",
    "    optimizer = tf.keras.optimizers.SGD(), # Stochastic gradient descent\n",
    "    metrics = ['mae'] \n",
    ")\n",
    "\n",
    "# Fit the model \n",
    "model.fit(\n",
    "    tf.expand_dims(X, axis= -1),\n",
    "    y,\n",
    "    epochs=5\n",
    ")"
   ]
  },
  {
   "cell_type": "code",
   "execution_count": 11,
   "metadata": {},
   "outputs": [
    {
     "data": {
      "text/plain": [
       "(<tf.Tensor: shape=(8,), dtype=float32, numpy=array([-7., -4., -1.,  2.,  5.,  8., 11., 14.], dtype=float32)>,\n",
       " <tf.Tensor: shape=(8,), dtype=float32, numpy=array([ 3.,  6.,  9., 12., 15., 18., 21., 24.], dtype=float32)>)"
      ]
     },
     "execution_count": 11,
     "metadata": {},
     "output_type": "execute_result"
    }
   ],
   "source": [
    "# Let's check X and y\n",
    "X, y"
   ]
  },
  {
   "cell_type": "code",
   "execution_count": 12,
   "metadata": {},
   "outputs": [
    {
     "name": "stdout",
     "output_type": "stream",
     "text": [
      "1/1 [==============================] - 0s 81ms/step\n"
     ]
    },
    {
     "data": {
      "text/plain": [
       "array([[1.097427]], dtype=float32)"
      ]
     },
     "execution_count": 12,
     "metadata": {},
     "output_type": "execute_result"
    }
   ],
   "source": [
    "# Make a prediction using the model\n",
    "y_pred = model.predict([17.0])\n",
    "y_pred"
   ]
  },
  {
   "cell_type": "code",
   "execution_count": 13,
   "metadata": {},
   "outputs": [
    {
     "name": "stdout",
     "output_type": "stream",
     "text": [
      "1/1 [==============================] - 0s 39ms/step\n"
     ]
    },
    {
     "data": {
      "text/plain": [
       "array([[-0.2520416]], dtype=float32)"
      ]
     },
     "execution_count": 13,
     "metadata": {},
     "output_type": "execute_result"
    }
   ],
   "source": [
    "model.predict([-4.])"
   ]
  },
  {
   "cell_type": "code",
   "execution_count": 14,
   "metadata": {},
   "outputs": [
    {
     "data": {
      "text/plain": [
       "array([[10.003127]], dtype=float32)"
      ]
     },
     "execution_count": 14,
     "metadata": {},
     "output_type": "execute_result"
    }
   ],
   "source": [
    "y_pred + 8.9057"
   ]
  },
  {
   "cell_type": "markdown",
   "metadata": {},
   "source": [
    "### 45 - 47. Improving a Model"
   ]
  },
  {
   "cell_type": "markdown",
   "metadata": {},
   "source": [
    "#### 45. Steps in improving a model with TensorFlow - Part 1"
   ]
  },
  {
   "cell_type": "markdown",
   "metadata": {},
   "source": [
    "We can improve our model by altering the steps we took to create a model\n",
    "\n",
    "1. **Creating a Model:** We might add layers, increase the hidden units within the hidden layers, change the activation function of each layer\n",
    "2. **Compiling a Model:** Here we might change the optimization function or perhaps the **learning rate** of the optimization function\n",
    "3. **Fitting a Model:** Here we might fit a model for more **epochs** (leave it training longer) or on more data (give the model more examples to learn from)"
   ]
  },
  {
   "cell_type": "code",
   "execution_count": 26,
   "metadata": {},
   "outputs": [
    {
     "name": "stdout",
     "output_type": "stream",
     "text": [
      "Epoch 1/100\n"
     ]
    },
    {
     "name": "stdout",
     "output_type": "stream",
     "text": [
      "1/1 [==============================] - 0s 229ms/step - loss: 9.2168 - mae: 9.2168\n",
      "Epoch 2/100\n",
      "1/1 [==============================] - 0s 5ms/step - loss: 9.0843 - mae: 9.0843\n",
      "Epoch 3/100\n",
      "1/1 [==============================] - 0s 17ms/step - loss: 8.9518 - mae: 8.9518\n",
      "Epoch 4/100\n",
      "1/1 [==============================] - 0s 5ms/step - loss: 8.8193 - mae: 8.8193\n",
      "Epoch 5/100\n",
      "1/1 [==============================] - 0s 16ms/step - loss: 8.6868 - mae: 8.6868\n",
      "Epoch 6/100\n",
      "1/1 [==============================] - 0s 6ms/step - loss: 8.5543 - mae: 8.5543\n",
      "Epoch 7/100\n",
      "1/1 [==============================] - 0s 18ms/step - loss: 8.4218 - mae: 8.4218\n",
      "Epoch 8/100\n",
      "1/1 [==============================] - 0s 5ms/step - loss: 8.2893 - mae: 8.2893\n",
      "Epoch 9/100\n",
      "1/1 [==============================] - 0s 17ms/step - loss: 8.1568 - mae: 8.1568\n",
      "Epoch 10/100\n",
      "1/1 [==============================] - 0s 5ms/step - loss: 8.0243 - mae: 8.0243\n",
      "Epoch 11/100\n",
      "1/1 [==============================] - 0s 15ms/step - loss: 7.8918 - mae: 7.8918\n",
      "Epoch 12/100\n",
      "1/1 [==============================] - 0s 5ms/step - loss: 7.7593 - mae: 7.7593\n",
      "Epoch 13/100\n",
      "1/1 [==============================] - 0s 5ms/step - loss: 7.6268 - mae: 7.6268\n",
      "Epoch 14/100\n",
      "1/1 [==============================] - 0s 6ms/step - loss: 7.4943 - mae: 7.4943\n",
      "Epoch 15/100\n",
      "1/1 [==============================] - 0s 13ms/step - loss: 7.3950 - mae: 7.3950\n",
      "Epoch 16/100\n",
      "1/1 [==============================] - 0s 16ms/step - loss: 7.3894 - mae: 7.3894\n",
      "Epoch 17/100\n",
      "1/1 [==============================] - 0s 9ms/step - loss: 7.3837 - mae: 7.3837\n",
      "Epoch 18/100\n",
      "1/1 [==============================] - 0s 11ms/step - loss: 7.3781 - mae: 7.3781\n",
      "Epoch 19/100\n",
      "1/1 [==============================] - 0s 6ms/step - loss: 7.3725 - mae: 7.3725\n",
      "Epoch 20/100\n",
      "1/1 [==============================] - 0s 4ms/step - loss: 7.3669 - mae: 7.3669\n",
      "Epoch 21/100\n",
      "1/1 [==============================] - 0s 16ms/step - loss: 7.3612 - mae: 7.3612\n",
      "Epoch 22/100\n",
      "1/1 [==============================] - 0s 5ms/step - loss: 7.3556 - mae: 7.3556\n",
      "Epoch 23/100\n",
      "1/1 [==============================] - 0s 17ms/step - loss: 7.3500 - mae: 7.3500\n",
      "Epoch 24/100\n",
      "1/1 [==============================] - 0s 5ms/step - loss: 7.3444 - mae: 7.3444\n",
      "Epoch 25/100\n",
      "1/1 [==============================] - 0s 5ms/step - loss: 7.3388 - mae: 7.3388\n",
      "Epoch 26/100\n",
      "1/1 [==============================] - 0s 5ms/step - loss: 7.3331 - mae: 7.3331\n",
      "Epoch 27/100\n",
      "1/1 [==============================] - 0s 12ms/step - loss: 7.3275 - mae: 7.3275\n",
      "Epoch 28/100\n",
      "1/1 [==============================] - 0s 14ms/step - loss: 7.3219 - mae: 7.3219\n",
      "Epoch 29/100\n",
      "1/1 [==============================] - 0s 5ms/step - loss: 7.3162 - mae: 7.3162\n",
      "Epoch 30/100\n",
      "1/1 [==============================] - 0s 5ms/step - loss: 7.3106 - mae: 7.3106\n",
      "Epoch 31/100\n",
      "1/1 [==============================] - 0s 16ms/step - loss: 7.3050 - mae: 7.3050\n",
      "Epoch 32/100\n",
      "1/1 [==============================] - 0s 8ms/step - loss: 7.2994 - mae: 7.2994\n",
      "Epoch 33/100\n",
      "1/1 [==============================] - 0s 16ms/step - loss: 7.2938 - mae: 7.2938\n",
      "Epoch 34/100\n",
      "1/1 [==============================] - 0s 12ms/step - loss: 7.2881 - mae: 7.2881\n",
      "Epoch 35/100\n",
      "1/1 [==============================] - 0s 4ms/step - loss: 7.2825 - mae: 7.2825\n",
      "Epoch 36/100\n",
      "1/1 [==============================] - 0s 5ms/step - loss: 7.2769 - mae: 7.2769\n",
      "Epoch 37/100\n",
      "1/1 [==============================] - 0s 11ms/step - loss: 7.2713 - mae: 7.2713\n",
      "Epoch 38/100\n",
      "1/1 [==============================] - 0s 9ms/step - loss: 7.2656 - mae: 7.2656\n",
      "Epoch 39/100\n",
      "1/1 [==============================] - 0s 5ms/step - loss: 7.2600 - mae: 7.2600\n",
      "Epoch 40/100\n",
      "1/1 [==============================] - 0s 7ms/step - loss: 7.2544 - mae: 7.2544\n",
      "Epoch 41/100\n",
      "1/1 [==============================] - 0s 4ms/step - loss: 7.2487 - mae: 7.2487\n",
      "Epoch 42/100\n",
      "1/1 [==============================] - 0s 6ms/step - loss: 7.2431 - mae: 7.2431\n",
      "Epoch 43/100\n",
      "1/1 [==============================] - 0s 4ms/step - loss: 7.2375 - mae: 7.2375\n",
      "Epoch 44/100\n",
      "1/1 [==============================] - 0s 5ms/step - loss: 7.2319 - mae: 7.2319\n",
      "Epoch 45/100\n",
      "1/1 [==============================] - 0s 5ms/step - loss: 7.2263 - mae: 7.2263\n",
      "Epoch 46/100\n",
      "1/1 [==============================] - 0s 7ms/step - loss: 7.2206 - mae: 7.2206\n",
      "Epoch 47/100\n",
      "1/1 [==============================] - 0s 3ms/step - loss: 7.2150 - mae: 7.2150\n",
      "Epoch 48/100\n",
      "1/1 [==============================] - 0s 5ms/step - loss: 7.2094 - mae: 7.2094\n",
      "Epoch 49/100\n",
      "1/1 [==============================] - 0s 5ms/step - loss: 7.2038 - mae: 7.2038\n",
      "Epoch 50/100\n",
      "1/1 [==============================] - 0s 3ms/step - loss: 7.1981 - mae: 7.1981\n",
      "Epoch 51/100\n",
      "1/1 [==============================] - 0s 5ms/step - loss: 7.1925 - mae: 7.1925\n",
      "Epoch 52/100\n",
      "1/1 [==============================] - 0s 4ms/step - loss: 7.1869 - mae: 7.1869\n",
      "Epoch 53/100\n",
      "1/1 [==============================] - 0s 5ms/step - loss: 7.1813 - mae: 7.1813\n",
      "Epoch 54/100\n",
      "1/1 [==============================] - 0s 4ms/step - loss: 7.1756 - mae: 7.1756\n",
      "Epoch 55/100\n",
      "1/1 [==============================] - 0s 8ms/step - loss: 7.1700 - mae: 7.1700\n",
      "Epoch 56/100\n",
      "1/1 [==============================] - 0s 5ms/step - loss: 7.1644 - mae: 7.1644\n",
      "Epoch 57/100\n",
      "1/1 [==============================] - 0s 7ms/step - loss: 7.1588 - mae: 7.1588\n",
      "Epoch 58/100\n",
      "1/1 [==============================] - 0s 4ms/step - loss: 7.1531 - mae: 7.1531\n",
      "Epoch 59/100\n",
      "1/1 [==============================] - 0s 8ms/step - loss: 7.1475 - mae: 7.1475\n",
      "Epoch 60/100\n",
      "1/1 [==============================] - 0s 5ms/step - loss: 7.1419 - mae: 7.1419\n",
      "Epoch 61/100\n",
      "1/1 [==============================] - 0s 5ms/step - loss: 7.1363 - mae: 7.1363\n",
      "Epoch 62/100\n",
      "1/1 [==============================] - 0s 4ms/step - loss: 7.1306 - mae: 7.1306\n",
      "Epoch 63/100\n",
      "1/1 [==============================] - 0s 7ms/step - loss: 7.1250 - mae: 7.1250\n",
      "Epoch 64/100\n",
      "1/1 [==============================] - 0s 4ms/step - loss: 7.1194 - mae: 7.1194\n",
      "Epoch 65/100\n",
      "1/1 [==============================] - 0s 8ms/step - loss: 7.1138 - mae: 7.1138\n",
      "Epoch 66/100\n",
      "1/1 [==============================] - 0s 4ms/step - loss: 7.1081 - mae: 7.1081\n",
      "Epoch 67/100\n",
      "1/1 [==============================] - 0s 9ms/step - loss: 7.1025 - mae: 7.1025\n",
      "Epoch 68/100\n",
      "1/1 [==============================] - 0s 4ms/step - loss: 7.0969 - mae: 7.0969\n",
      "Epoch 69/100\n",
      "1/1 [==============================] - 0s 5ms/step - loss: 7.0913 - mae: 7.0913\n",
      "Epoch 70/100\n",
      "1/1 [==============================] - 0s 4ms/step - loss: 7.0856 - mae: 7.0856\n",
      "Epoch 71/100\n",
      "1/1 [==============================] - 0s 6ms/step - loss: 7.0800 - mae: 7.0800\n",
      "Epoch 72/100\n",
      "1/1 [==============================] - 0s 7ms/step - loss: 7.0744 - mae: 7.0744\n",
      "Epoch 73/100\n",
      "1/1 [==============================] - 0s 5ms/step - loss: 7.0688 - mae: 7.0688\n",
      "Epoch 74/100\n",
      "1/1 [==============================] - 0s 9ms/step - loss: 7.0631 - mae: 7.0631\n",
      "Epoch 75/100\n",
      "1/1 [==============================] - 0s 4ms/step - loss: 7.0575 - mae: 7.0575\n",
      "Epoch 76/100\n",
      "1/1 [==============================] - 0s 6ms/step - loss: 7.0519 - mae: 7.0519\n",
      "Epoch 77/100\n",
      "1/1 [==============================] - 0s 4ms/step - loss: 7.0463 - mae: 7.0463\n",
      "Epoch 78/100\n",
      "1/1 [==============================] - 0s 4ms/step - loss: 7.0406 - mae: 7.0406\n",
      "Epoch 79/100\n",
      "1/1 [==============================] - 0s 6ms/step - loss: 7.0350 - mae: 7.0350\n",
      "Epoch 80/100\n",
      "1/1 [==============================] - 0s 13ms/step - loss: 7.0294 - mae: 7.0294\n",
      "Epoch 81/100\n",
      "1/1 [==============================] - 0s 7ms/step - loss: 7.0238 - mae: 7.0238\n",
      "Epoch 82/100\n",
      "1/1 [==============================] - 0s 9ms/step - loss: 7.0181 - mae: 7.0181\n",
      "Epoch 83/100\n",
      "1/1 [==============================] - 0s 12ms/step - loss: 7.0125 - mae: 7.0125\n",
      "Epoch 84/100\n",
      "1/1 [==============================] - 0s 9ms/step - loss: 7.0069 - mae: 7.0069\n",
      "Epoch 85/100\n",
      "1/1 [==============================] - 0s 4ms/step - loss: 7.0013 - mae: 7.0013\n",
      "Epoch 86/100\n",
      "1/1 [==============================] - 0s 9ms/step - loss: 6.9956 - mae: 6.9956\n",
      "Epoch 87/100\n",
      "1/1 [==============================] - 0s 5ms/step - loss: 6.9900 - mae: 6.9900\n",
      "Epoch 88/100\n",
      "1/1 [==============================] - 0s 7ms/step - loss: 6.9844 - mae: 6.9844\n",
      "Epoch 89/100\n",
      "1/1 [==============================] - 0s 5ms/step - loss: 6.9788 - mae: 6.9788\n",
      "Epoch 90/100\n",
      "1/1 [==============================] - 0s 9ms/step - loss: 6.9731 - mae: 6.9731\n",
      "Epoch 91/100\n",
      "1/1 [==============================] - 0s 4ms/step - loss: 6.9675 - mae: 6.9675\n",
      "Epoch 92/100\n",
      "1/1 [==============================] - 0s 6ms/step - loss: 6.9619 - mae: 6.9619\n",
      "Epoch 93/100\n",
      "1/1 [==============================] - 0s 4ms/step - loss: 6.9563 - mae: 6.9563\n",
      "Epoch 94/100\n",
      "1/1 [==============================] - 0s 8ms/step - loss: 6.9506 - mae: 6.9506\n",
      "Epoch 95/100\n",
      "1/1 [==============================] - 0s 4ms/step - loss: 6.9450 - mae: 6.9450\n",
      "Epoch 96/100\n",
      "1/1 [==============================] - 0s 6ms/step - loss: 6.9394 - mae: 6.9394\n",
      "Epoch 97/100\n",
      "1/1 [==============================] - 0s 4ms/step - loss: 6.9338 - mae: 6.9338\n",
      "Epoch 98/100\n",
      "1/1 [==============================] - 0s 8ms/step - loss: 6.9281 - mae: 6.9281\n",
      "Epoch 99/100\n",
      "1/1 [==============================] - 0s 3ms/step - loss: 6.9225 - mae: 6.9225\n",
      "Epoch 100/100\n",
      "1/1 [==============================] - 0s 7ms/step - loss: 6.9169 - mae: 6.9169\n"
     ]
    },
    {
     "data": {
      "text/plain": [
       "<keras.callbacks.History at 0x197a91ec8e0>"
      ]
     },
     "execution_count": 26,
     "metadata": {},
     "output_type": "execute_result"
    }
   ],
   "source": [
    "# 1. Creating a Model\n",
    "model = tf.keras.Sequential(\n",
    "    [\n",
    "        tf.keras.layers.Dense(1)\n",
    "    ]\n",
    ")\n",
    "\n",
    "# 2. Compile the Model - Optimization Function and Learning Rate\n",
    "model.compile(\n",
    "    loss = tf.keras.losses.mae,\n",
    "    optimizer = tf.keras.optimizers.SGD(), # Stochastic gradient descent\n",
    "    metrics = ['mae']\n",
    ")\n",
    "\n",
    "# 3. Fit the Model - More Epochs and Data\n",
    "model.fit(\n",
    "    tf.expand_dims(\n",
    "        X, \n",
    "        axis = -1\n",
    "    ), \n",
    "    y, \n",
    "    epochs=100\n",
    ") # Originally only 5 epochs"
   ]
  },
  {
   "cell_type": "code",
   "execution_count": 27,
   "metadata": {},
   "outputs": [
    {
     "name": "stdout",
     "output_type": "stream",
     "text": [
      "tf.Tensor([-7. -4. -1.  2.  5.  8. 11. 14.], shape=(8,), dtype=float32)\n",
      "tf.Tensor([ 3.  6.  9. 12. 15. 18. 21. 24.], shape=(8,), dtype=float32)\n"
     ]
    }
   ],
   "source": [
    "print(X)\n",
    "print(y)"
   ]
  },
  {
   "cell_type": "code",
   "execution_count": 28,
   "metadata": {},
   "outputs": [
    {
     "name": "stdout",
     "output_type": "stream",
     "text": [
      "1/1 [==============================] - 0s 54ms/step\n"
     ]
    },
    {
     "data": {
      "text/plain": [
       "array([[29.919144]], dtype=float32)"
      ]
     },
     "execution_count": 28,
     "metadata": {},
     "output_type": "execute_result"
    }
   ],
   "source": [
    "y_pred = model.predict(\n",
    "    [17.0]\n",
    ")\n",
    "y_pred"
   ]
  },
  {
   "cell_type": "markdown",
   "metadata": {},
   "source": [
    "#### 46. Steps in improving a model with TensorFlow - Part 2"
   ]
  },
  {
   "cell_type": "code",
   "execution_count": 30,
   "metadata": {},
   "outputs": [
    {
     "name": "stdout",
     "output_type": "stream",
     "text": [
      "Epoch 1/100\n"
     ]
    },
    {
     "name": "stdout",
     "output_type": "stream",
     "text": [
      "1/1 [==============================] - 0s 427ms/step - loss: 13.5231 - mae: 13.5231\n",
      "Epoch 2/100\n",
      "1/1 [==============================] - 0s 8ms/step - loss: 13.2116 - mae: 13.2116\n",
      "Epoch 3/100\n",
      "1/1 [==============================] - 0s 6ms/step - loss: 12.9049 - mae: 12.9049\n",
      "Epoch 4/100\n",
      "1/1 [==============================] - 0s 9ms/step - loss: 12.5842 - mae: 12.5842\n",
      "Epoch 5/100\n",
      "1/1 [==============================] - 0s 7ms/step - loss: 12.2341 - mae: 12.2341\n",
      "Epoch 6/100\n",
      "1/1 [==============================] - 0s 5ms/step - loss: 11.8414 - mae: 11.8414\n",
      "Epoch 7/100\n",
      "1/1 [==============================] - 0s 10ms/step - loss: 11.3574 - mae: 11.3574\n",
      "Epoch 8/100\n",
      "1/1 [==============================] - 0s 14ms/step - loss: 10.7981 - mae: 10.7981\n",
      "Epoch 9/100\n",
      "1/1 [==============================] - 0s 8ms/step - loss: 10.1140 - mae: 10.1140\n",
      "Epoch 10/100\n",
      "1/1 [==============================] - 0s 7ms/step - loss: 9.2664 - mae: 9.2664\n",
      "Epoch 11/100\n",
      "1/1 [==============================] - 0s 13ms/step - loss: 8.2028 - mae: 8.2028\n",
      "Epoch 12/100\n",
      "1/1 [==============================] - 0s 10ms/step - loss: 6.8127 - mae: 6.8127\n",
      "Epoch 13/100\n",
      "1/1 [==============================] - 0s 9ms/step - loss: 5.1300 - mae: 5.1300\n",
      "Epoch 14/100\n",
      "1/1 [==============================] - 0s 52ms/step - loss: 3.9708 - mae: 3.9708\n",
      "Epoch 15/100\n",
      "1/1 [==============================] - 0s 9ms/step - loss: 3.9485 - mae: 3.9485\n",
      "Epoch 16/100\n",
      "1/1 [==============================] - 0s 8ms/step - loss: 3.9841 - mae: 3.9841\n",
      "Epoch 17/100\n",
      "1/1 [==============================] - 0s 6ms/step - loss: 3.8974 - mae: 3.8974\n",
      "Epoch 18/100\n",
      "1/1 [==============================] - 0s 5ms/step - loss: 3.9975 - mae: 3.9975\n",
      "Epoch 19/100\n",
      "1/1 [==============================] - 0s 6ms/step - loss: 3.8451 - mae: 3.8451\n",
      "Epoch 20/100\n",
      "1/1 [==============================] - 0s 5ms/step - loss: 4.0123 - mae: 4.0123\n",
      "Epoch 21/100\n",
      "1/1 [==============================] - 0s 5ms/step - loss: 3.8089 - mae: 3.8089\n",
      "Epoch 22/100\n",
      "1/1 [==============================] - 0s 5ms/step - loss: 3.9970 - mae: 3.9970\n",
      "Epoch 23/100\n",
      "1/1 [==============================] - 0s 6ms/step - loss: 3.8235 - mae: 3.8235\n",
      "Epoch 24/100\n",
      "1/1 [==============================] - 0s 4ms/step - loss: 3.9433 - mae: 3.9433\n",
      "Epoch 25/100\n",
      "1/1 [==============================] - 0s 5ms/step - loss: 3.8397 - mae: 3.8397\n",
      "Epoch 26/100\n",
      "1/1 [==============================] - 0s 5ms/step - loss: 3.8922 - mae: 3.8922\n",
      "Epoch 27/100\n",
      "1/1 [==============================] - 0s 8ms/step - loss: 3.8892 - mae: 3.8892\n",
      "Epoch 28/100\n",
      "1/1 [==============================] - 0s 6ms/step - loss: 3.8150 - mae: 3.8150\n",
      "Epoch 29/100\n",
      "1/1 [==============================] - 0s 5ms/step - loss: 3.9077 - mae: 3.9077\n",
      "Epoch 30/100\n",
      "1/1 [==============================] - 0s 4ms/step - loss: 3.7561 - mae: 3.7561\n",
      "Epoch 31/100\n",
      "1/1 [==============================] - 0s 5ms/step - loss: 3.9270 - mae: 3.9270\n",
      "Epoch 32/100\n",
      "1/1 [==============================] - 0s 5ms/step - loss: 3.7294 - mae: 3.7294\n",
      "Epoch 33/100\n",
      "1/1 [==============================] - 0s 4ms/step - loss: 3.9003 - mae: 3.9003\n",
      "Epoch 34/100\n",
      "1/1 [==============================] - 0s 4ms/step - loss: 3.7490 - mae: 3.7490\n",
      "Epoch 35/100\n",
      "1/1 [==============================] - 0s 6ms/step - loss: 3.8412 - mae: 3.8412\n",
      "Epoch 36/100\n",
      "1/1 [==============================] - 0s 4ms/step - loss: 3.7990 - mae: 3.7990\n",
      "Epoch 37/100\n",
      "1/1 [==============================] - 0s 6ms/step - loss: 3.7625 - mae: 3.7625\n",
      "Epoch 38/100\n",
      "1/1 [==============================] - 0s 4ms/step - loss: 3.8205 - mae: 3.8205\n",
      "Epoch 39/100\n",
      "1/1 [==============================] - 0s 5ms/step - loss: 3.6977 - mae: 3.6977\n",
      "Epoch 40/100\n",
      "1/1 [==============================] - 0s 4ms/step - loss: 3.8443 - mae: 3.8443\n",
      "Epoch 41/100\n",
      "1/1 [==============================] - 0s 4ms/step - loss: 3.6517 - mae: 3.6517\n",
      "Epoch 42/100\n",
      "1/1 [==============================] - 0s 5ms/step - loss: 3.8354 - mae: 3.8354\n",
      "Epoch 43/100\n",
      "1/1 [==============================] - 0s 5ms/step - loss: 3.6738 - mae: 3.6738\n",
      "Epoch 44/100\n",
      "1/1 [==============================] - 0s 5ms/step - loss: 3.7712 - mae: 3.7712\n",
      "Epoch 45/100\n",
      "1/1 [==============================] - 0s 5ms/step - loss: 3.6973 - mae: 3.6973\n",
      "Epoch 46/100\n",
      "1/1 [==============================] - 0s 5ms/step - loss: 3.7099 - mae: 3.7099\n",
      "Epoch 47/100\n",
      "1/1 [==============================] - 0s 5ms/step - loss: 3.7535 - mae: 3.7535\n",
      "Epoch 48/100\n",
      "1/1 [==============================] - 0s 4ms/step - loss: 3.6188 - mae: 3.6188\n",
      "Epoch 49/100\n",
      "1/1 [==============================] - 0s 5ms/step - loss: 3.7796 - mae: 3.7796\n",
      "Epoch 50/100\n",
      "1/1 [==============================] - 0s 5ms/step - loss: 3.5909 - mae: 3.5909\n",
      "Epoch 51/100\n",
      "1/1 [==============================] - 0s 5ms/step - loss: 3.7483 - mae: 3.7483\n",
      "Epoch 52/100\n",
      "1/1 [==============================] - 0s 5ms/step - loss: 3.6158 - mae: 3.6158\n",
      "Epoch 53/100\n",
      "1/1 [==============================] - 0s 5ms/step - loss: 3.6769 - mae: 3.6769\n",
      "Epoch 54/100\n",
      "1/1 [==============================] - 0s 5ms/step - loss: 3.6424 - mae: 3.6424\n",
      "Epoch 55/100\n",
      "1/1 [==============================] - 0s 5ms/step - loss: 3.6036 - mae: 3.6036\n",
      "Epoch 56/100\n",
      "1/1 [==============================] - 0s 5ms/step - loss: 3.6703 - mae: 3.6703\n",
      "Epoch 57/100\n",
      "1/1 [==============================] - 0s 5ms/step - loss: 3.5287 - mae: 3.5287\n",
      "Epoch 58/100\n",
      "1/1 [==============================] - 0s 4ms/step - loss: 3.7306 - mae: 3.7306\n",
      "Epoch 59/100\n",
      "1/1 [==============================] - 0s 5ms/step - loss: 3.5425 - mae: 3.5425\n",
      "Epoch 60/100\n",
      "1/1 [==============================] - 0s 5ms/step - loss: 3.6391 - mae: 3.6391\n",
      "Epoch 61/100\n",
      "1/1 [==============================] - 0s 5ms/step - loss: 3.5704 - mae: 3.5704\n",
      "Epoch 62/100\n",
      "1/1 [==============================] - 0s 5ms/step - loss: 3.5617 - mae: 3.5617\n",
      "Epoch 63/100\n",
      "1/1 [==============================] - 0s 4ms/step - loss: 3.6003 - mae: 3.6003\n",
      "Epoch 64/100\n",
      "1/1 [==============================] - 0s 5ms/step - loss: 3.4810 - mae: 3.4810\n",
      "Epoch 65/100\n",
      "1/1 [==============================] - 0s 5ms/step - loss: 3.6312 - mae: 3.6312\n",
      "Epoch 66/100\n",
      "1/1 [==============================] - 0s 5ms/step - loss: 3.4505 - mae: 3.4505\n",
      "Epoch 67/100\n",
      "1/1 [==============================] - 0s 5ms/step - loss: 3.6049 - mae: 3.6049\n",
      "Epoch 68/100\n",
      "1/1 [==============================] - 0s 5ms/step - loss: 3.5097 - mae: 3.5097\n",
      "Epoch 69/100\n",
      "1/1 [==============================] - 0s 4ms/step - loss: 3.5015 - mae: 3.5015\n",
      "Epoch 70/100\n",
      "1/1 [==============================] - 0s 5ms/step - loss: 3.5403 - mae: 3.5403\n",
      "Epoch 71/100\n",
      "1/1 [==============================] - 0s 5ms/step - loss: 3.4150 - mae: 3.4150\n",
      "Epoch 72/100\n",
      "1/1 [==============================] - 0s 5ms/step - loss: 3.5725 - mae: 3.5725\n",
      "Epoch 73/100\n",
      "1/1 [==============================] - 0s 5ms/step - loss: 3.3934 - mae: 3.3934\n",
      "Epoch 74/100\n",
      "1/1 [==============================] - 0s 6ms/step - loss: 3.5251 - mae: 3.5251\n",
      "Epoch 75/100\n",
      "1/1 [==============================] - 0s 4ms/step - loss: 3.4258 - mae: 3.4258\n",
      "Epoch 76/100\n",
      "1/1 [==============================] - 0s 5ms/step - loss: 3.4348 - mae: 3.4348\n",
      "Epoch 77/100\n",
      "1/1 [==============================] - 0s 5ms/step - loss: 3.4599 - mae: 3.4599\n",
      "Epoch 78/100\n",
      "1/1 [==============================] - 0s 5ms/step - loss: 3.3434 - mae: 3.3434\n",
      "Epoch 79/100\n",
      "1/1 [==============================] - 0s 5ms/step - loss: 3.4964 - mae: 3.4964\n",
      "Epoch 80/100\n",
      "1/1 [==============================] - 0s 5ms/step - loss: 3.3202 - mae: 3.3202\n",
      "Epoch 81/100\n",
      "1/1 [==============================] - 0s 4ms/step - loss: 3.4697 - mae: 3.4697\n",
      "Epoch 82/100\n",
      "1/1 [==============================] - 0s 4ms/step - loss: 3.3829 - mae: 3.3829\n",
      "Epoch 83/100\n",
      "1/1 [==============================] - 0s 6ms/step - loss: 3.3413 - mae: 3.3413\n",
      "Epoch 84/100\n",
      "1/1 [==============================] - 0s 5ms/step - loss: 3.4176 - mae: 3.4176\n",
      "Epoch 85/100\n",
      "1/1 [==============================] - 0s 5ms/step - loss: 3.2469 - mae: 3.2469\n",
      "Epoch 86/100\n",
      "1/1 [==============================] - 0s 4ms/step - loss: 3.4395 - mae: 3.4395\n",
      "Epoch 87/100\n",
      "1/1 [==============================] - 0s 4ms/step - loss: 3.2809 - mae: 3.2809\n",
      "Epoch 88/100\n",
      "1/1 [==============================] - 0s 6ms/step - loss: 3.3440 - mae: 3.3440\n",
      "Epoch 89/100\n",
      "1/1 [==============================] - 0s 4ms/step - loss: 3.3173 - mae: 3.3173\n",
      "Epoch 90/100\n",
      "1/1 [==============================] - 0s 6ms/step - loss: 3.2437 - mae: 3.2437\n",
      "Epoch 91/100\n",
      "1/1 [==============================] - 0s 5ms/step - loss: 3.3557 - mae: 3.3557\n",
      "Epoch 92/100\n",
      "1/1 [==============================] - 0s 6ms/step - loss: 3.1859 - mae: 3.1859\n",
      "Epoch 93/100\n",
      "1/1 [==============================] - 0s 5ms/step - loss: 3.3561 - mae: 3.3561\n",
      "Epoch 94/100\n",
      "1/1 [==============================] - 0s 6ms/step - loss: 3.2510 - mae: 3.2510\n",
      "Epoch 95/100\n",
      "1/1 [==============================] - 0s 5ms/step - loss: 3.2211 - mae: 3.2211\n",
      "Epoch 96/100\n",
      "1/1 [==============================] - 0s 5ms/step - loss: 3.2882 - mae: 3.2882\n",
      "Epoch 97/100\n",
      "1/1 [==============================] - 0s 5ms/step - loss: 3.1208 - mae: 3.1208\n",
      "Epoch 98/100\n",
      "1/1 [==============================] - 0s 5ms/step - loss: 3.3092 - mae: 3.3092\n",
      "Epoch 99/100\n",
      "1/1 [==============================] - 0s 5ms/step - loss: 3.1574 - mae: 3.1574\n",
      "Epoch 100/100\n",
      "1/1 [==============================] - 0s 5ms/step - loss: 3.2017 - mae: 3.2017\n"
     ]
    },
    {
     "data": {
      "text/plain": [
       "<keras.callbacks.History at 0x197adc60ca0>"
      ]
     },
     "execution_count": 30,
     "metadata": {},
     "output_type": "execute_result"
    }
   ],
   "source": [
    "model = tf.keras.Sequential(\n",
    "    [\n",
    "        tf.keras.layers.Dense(100, activation = \"relu\"),\n",
    "        tf.keras.layers.Dense(100, activation = \"relu\"),\n",
    "        tf.keras.layers.Dense(100, activation = \"relu\"),\n",
    "        tf.keras.layers.Dense(1)\n",
    "    ]\n",
    ")\n",
    "\n",
    "model.compile(\n",
    "    loss = tf.keras.losses.mae,\n",
    "    optimizer = tf.keras.optimizers.SGD(),\n",
    "    metrics = ['mae']\n",
    ")\n",
    "\n",
    "model.fit(\n",
    "    tf.expand_dims(X, axis = -1),\n",
    "    y,\n",
    "    epochs = 100\n",
    ")"
   ]
  },
  {
   "cell_type": "code",
   "execution_count": 33,
   "metadata": {},
   "outputs": [
    {
     "name": "stdout",
     "output_type": "stream",
     "text": [
      "tf.Tensor([-7. -4. -1.  2.  5.  8. 11. 14.], shape=(8,), dtype=float32)\n",
      "tf.Tensor([ 3.  6.  9. 12. 15. 18. 21. 24.], shape=(8,), dtype=float32)\n"
     ]
    }
   ],
   "source": [
    "print(X)\n",
    "print(y)"
   ]
  },
  {
   "cell_type": "code",
   "execution_count": 31,
   "metadata": {},
   "outputs": [
    {
     "name": "stdout",
     "output_type": "stream",
     "text": [
      "1/1 [==============================] - 0s 67ms/step\n"
     ]
    },
    {
     "data": {
      "text/plain": [
       "array([[32.9666]], dtype=float32)"
      ]
     },
     "execution_count": 31,
     "metadata": {},
     "output_type": "execute_result"
    }
   ],
   "source": [
    "y_pred = model.predict([17.0])\n",
    "y_pred"
   ]
  },
  {
   "cell_type": "markdown",
   "metadata": {},
   "source": [
    "#### 47. Steps in improving a model with TensorFlow - Part 3"
   ]
  },
  {
   "cell_type": "code",
   "execution_count": 40,
   "metadata": {},
   "outputs": [
    {
     "name": "stdout",
     "output_type": "stream",
     "text": [
      "Epoch 1/100\n"
     ]
    },
    {
     "name": "stdout",
     "output_type": "stream",
     "text": [
      "1/1 [==============================] - 0s 385ms/step - loss: 15.1564 - mae: 15.1564\n",
      "Epoch 2/100\n",
      "1/1 [==============================] - 0s 6ms/step - loss: 12.9258 - mae: 12.9258\n",
      "Epoch 3/100\n",
      "1/1 [==============================] - 0s 8ms/step - loss: 11.3261 - mae: 11.3261\n",
      "Epoch 4/100\n",
      "1/1 [==============================] - 0s 10ms/step - loss: 9.7606 - mae: 9.7606\n",
      "Epoch 5/100\n",
      "1/1 [==============================] - 0s 13ms/step - loss: 8.2609 - mae: 8.2609\n",
      "Epoch 6/100\n",
      "1/1 [==============================] - 0s 13ms/step - loss: 6.2649 - mae: 6.2649\n",
      "Epoch 7/100\n",
      "1/1 [==============================] - 0s 12ms/step - loss: 4.0124 - mae: 4.0124\n",
      "Epoch 8/100\n",
      "1/1 [==============================] - 0s 17ms/step - loss: 4.8940 - mae: 4.8940\n",
      "Epoch 9/100\n",
      "1/1 [==============================] - 0s 7ms/step - loss: 5.8618 - mae: 5.8618\n",
      "Epoch 10/100\n",
      "1/1 [==============================] - 0s 15ms/step - loss: 5.9268 - mae: 5.9268\n",
      "Epoch 11/100\n",
      "1/1 [==============================] - 0s 7ms/step - loss: 5.4302 - mae: 5.4302\n",
      "Epoch 12/100\n",
      "1/1 [==============================] - 0s 14ms/step - loss: 4.6140 - mae: 4.6140\n",
      "Epoch 13/100\n",
      "1/1 [==============================] - 0s 13ms/step - loss: 3.7999 - mae: 3.7999\n",
      "Epoch 14/100\n",
      "1/1 [==============================] - 0s 13ms/step - loss: 3.6674 - mae: 3.6674\n",
      "Epoch 15/100\n",
      "1/1 [==============================] - 0s 13ms/step - loss: 4.1603 - mae: 4.1603\n",
      "Epoch 16/100\n",
      "1/1 [==============================] - 0s 13ms/step - loss: 4.3126 - mae: 4.3126\n",
      "Epoch 17/100\n",
      "1/1 [==============================] - 0s 13ms/step - loss: 3.9839 - mae: 3.9839\n",
      "Epoch 18/100\n",
      "1/1 [==============================] - 0s 14ms/step - loss: 3.4774 - mae: 3.4774\n",
      "Epoch 19/100\n",
      "1/1 [==============================] - 0s 13ms/step - loss: 3.3376 - mae: 3.3376\n",
      "Epoch 20/100\n",
      "1/1 [==============================] - 0s 13ms/step - loss: 3.4608 - mae: 3.4608\n",
      "Epoch 21/100\n",
      "1/1 [==============================] - 0s 12ms/step - loss: 3.6528 - mae: 3.6528\n",
      "Epoch 22/100\n",
      "1/1 [==============================] - 0s 14ms/step - loss: 3.6015 - mae: 3.6015\n",
      "Epoch 23/100\n",
      "1/1 [==============================] - 0s 14ms/step - loss: 3.3347 - mae: 3.3347\n",
      "Epoch 24/100\n",
      "1/1 [==============================] - 0s 13ms/step - loss: 3.1347 - mae: 3.1347\n",
      "Epoch 25/100\n",
      "1/1 [==============================] - 0s 14ms/step - loss: 2.9359 - mae: 2.9359\n",
      "Epoch 26/100\n",
      "1/1 [==============================] - 0s 14ms/step - loss: 2.9912 - mae: 2.9912\n",
      "Epoch 27/100\n",
      "1/1 [==============================] - 0s 14ms/step - loss: 2.9564 - mae: 2.9564\n",
      "Epoch 28/100\n",
      "1/1 [==============================] - 0s 14ms/step - loss: 2.8509 - mae: 2.8509\n",
      "Epoch 29/100\n",
      "1/1 [==============================] - 0s 14ms/step - loss: 2.6250 - mae: 2.6250\n",
      "Epoch 30/100\n",
      "1/1 [==============================] - 0s 14ms/step - loss: 2.4375 - mae: 2.4375\n",
      "Epoch 31/100\n",
      "1/1 [==============================] - 0s 13ms/step - loss: 2.3863 - mae: 2.3863\n",
      "Epoch 32/100\n",
      "1/1 [==============================] - 0s 13ms/step - loss: 2.3617 - mae: 2.3617\n",
      "Epoch 33/100\n",
      "1/1 [==============================] - 0s 13ms/step - loss: 2.0747 - mae: 2.0747\n",
      "Epoch 34/100\n",
      "1/1 [==============================] - 0s 14ms/step - loss: 1.8346 - mae: 1.8346\n",
      "Epoch 35/100\n",
      "1/1 [==============================] - 0s 13ms/step - loss: 1.6728 - mae: 1.6728\n",
      "Epoch 36/100\n",
      "1/1 [==============================] - 0s 8ms/step - loss: 1.4295 - mae: 1.4295\n",
      "Epoch 37/100\n",
      "1/1 [==============================] - 0s 6ms/step - loss: 1.2945 - mae: 1.2945\n",
      "Epoch 38/100\n",
      "1/1 [==============================] - 0s 6ms/step - loss: 1.4093 - mae: 1.4093\n",
      "Epoch 39/100\n",
      "1/1 [==============================] - 0s 6ms/step - loss: 0.9007 - mae: 0.9007\n",
      "Epoch 40/100\n",
      "1/1 [==============================] - 0s 6ms/step - loss: 0.7967 - mae: 0.7967\n",
      "Epoch 41/100\n",
      "1/1 [==============================] - 0s 8ms/step - loss: 0.9037 - mae: 0.9037\n",
      "Epoch 42/100\n",
      "1/1 [==============================] - 0s 5ms/step - loss: 0.7738 - mae: 0.7738\n",
      "Epoch 43/100\n",
      "1/1 [==============================] - 0s 7ms/step - loss: 0.5450 - mae: 0.5450\n",
      "Epoch 44/100\n",
      "1/1 [==============================] - 0s 6ms/step - loss: 0.5904 - mae: 0.5904\n",
      "Epoch 45/100\n",
      "1/1 [==============================] - 0s 7ms/step - loss: 0.7522 - mae: 0.7522\n",
      "Epoch 46/100\n",
      "1/1 [==============================] - 0s 7ms/step - loss: 0.9214 - mae: 0.9214\n",
      "Epoch 47/100\n",
      "1/1 [==============================] - 0s 6ms/step - loss: 1.0385 - mae: 1.0385\n",
      "Epoch 48/100\n",
      "1/1 [==============================] - 0s 7ms/step - loss: 0.6219 - mae: 0.6219\n",
      "Epoch 49/100\n",
      "1/1 [==============================] - 0s 5ms/step - loss: 0.5808 - mae: 0.5808\n",
      "Epoch 50/100\n",
      "1/1 [==============================] - 0s 7ms/step - loss: 0.8598 - mae: 0.8598\n",
      "Epoch 51/100\n",
      "1/1 [==============================] - 0s 6ms/step - loss: 0.9379 - mae: 0.9379\n",
      "Epoch 52/100\n",
      "1/1 [==============================] - 0s 5ms/step - loss: 0.4048 - mae: 0.4048\n",
      "Epoch 53/100\n",
      "1/1 [==============================] - 0s 8ms/step - loss: 0.5579 - mae: 0.5579\n",
      "Epoch 54/100\n",
      "1/1 [==============================] - 0s 6ms/step - loss: 0.3797 - mae: 0.3797\n",
      "Epoch 55/100\n",
      "1/1 [==============================] - 0s 6ms/step - loss: 0.2509 - mae: 0.2509\n",
      "Epoch 56/100\n",
      "1/1 [==============================] - 0s 5ms/step - loss: 0.2562 - mae: 0.2562\n",
      "Epoch 57/100\n",
      "1/1 [==============================] - 0s 7ms/step - loss: 0.2902 - mae: 0.2902\n",
      "Epoch 58/100\n",
      "1/1 [==============================] - 0s 5ms/step - loss: 0.3527 - mae: 0.3527\n",
      "Epoch 59/100\n",
      "1/1 [==============================] - 0s 6ms/step - loss: 0.3373 - mae: 0.3373\n",
      "Epoch 60/100\n",
      "1/1 [==============================] - 0s 7ms/step - loss: 0.1261 - mae: 0.1261\n",
      "Epoch 61/100\n",
      "1/1 [==============================] - 0s 5ms/step - loss: 0.3094 - mae: 0.3094\n",
      "Epoch 62/100\n",
      "1/1 [==============================] - 0s 8ms/step - loss: 0.3504 - mae: 0.3504\n",
      "Epoch 63/100\n",
      "1/1 [==============================] - 0s 5ms/step - loss: 0.0765 - mae: 0.0765\n",
      "Epoch 64/100\n",
      "1/1 [==============================] - 0s 6ms/step - loss: 0.7011 - mae: 0.7011\n",
      "Epoch 65/100\n",
      "1/1 [==============================] - 0s 6ms/step - loss: 0.4131 - mae: 0.4131\n",
      "Epoch 66/100\n",
      "1/1 [==============================] - 0s 6ms/step - loss: 0.5667 - mae: 0.5667\n",
      "Epoch 67/100\n",
      "1/1 [==============================] - 0s 8ms/step - loss: 0.7167 - mae: 0.7167\n",
      "Epoch 68/100\n",
      "1/1 [==============================] - 0s 5ms/step - loss: 0.3057 - mae: 0.3057\n",
      "Epoch 69/100\n",
      "1/1 [==============================] - 0s 6ms/step - loss: 0.9137 - mae: 0.9137\n",
      "Epoch 70/100\n",
      "1/1 [==============================] - 0s 6ms/step - loss: 1.0945 - mae: 1.0945\n",
      "Epoch 71/100\n",
      "1/1 [==============================] - 0s 6ms/step - loss: 0.5727 - mae: 0.5727\n",
      "Epoch 72/100\n",
      "1/1 [==============================] - 0s 5ms/step - loss: 0.8608 - mae: 0.8608\n",
      "Epoch 73/100\n",
      "1/1 [==============================] - 0s 6ms/step - loss: 1.1585 - mae: 1.1585\n",
      "Epoch 74/100\n",
      "1/1 [==============================] - 0s 8ms/step - loss: 0.8097 - mae: 0.8097\n",
      "Epoch 75/100\n",
      "1/1 [==============================] - 0s 6ms/step - loss: 0.2227 - mae: 0.2227\n",
      "Epoch 76/100\n",
      "1/1 [==============================] - 0s 6ms/step - loss: 0.7664 - mae: 0.7664\n",
      "Epoch 77/100\n",
      "1/1 [==============================] - 0s 5ms/step - loss: 0.6232 - mae: 0.6232\n",
      "Epoch 78/100\n",
      "1/1 [==============================] - 0s 6ms/step - loss: 0.3397 - mae: 0.3397\n",
      "Epoch 79/100\n",
      "1/1 [==============================] - 0s 5ms/step - loss: 0.4264 - mae: 0.4264\n",
      "Epoch 80/100\n",
      "1/1 [==============================] - 0s 8ms/step - loss: 0.2709 - mae: 0.2709\n",
      "Epoch 81/100\n",
      "1/1 [==============================] - 0s 5ms/step - loss: 0.5267 - mae: 0.5267\n",
      "Epoch 82/100\n",
      "1/1 [==============================] - 0s 6ms/step - loss: 0.3639 - mae: 0.3639\n",
      "Epoch 83/100\n",
      "1/1 [==============================] - 0s 5ms/step - loss: 0.3948 - mae: 0.3948\n",
      "Epoch 84/100\n",
      "1/1 [==============================] - 0s 8ms/step - loss: 0.3856 - mae: 0.3856\n",
      "Epoch 85/100\n",
      "1/1 [==============================] - 0s 5ms/step - loss: 0.2726 - mae: 0.2726\n",
      "Epoch 86/100\n",
      "1/1 [==============================] - 0s 7ms/step - loss: 0.4627 - mae: 0.4627\n",
      "Epoch 87/100\n",
      "1/1 [==============================] - 0s 6ms/step - loss: 0.2745 - mae: 0.2745\n",
      "Epoch 88/100\n",
      "1/1 [==============================] - 0s 7ms/step - loss: 0.3734 - mae: 0.3734\n",
      "Epoch 89/100\n",
      "1/1 [==============================] - 0s 6ms/step - loss: 0.2461 - mae: 0.2461\n",
      "Epoch 90/100\n",
      "1/1 [==============================] - 0s 6ms/step - loss: 0.4444 - mae: 0.4444\n",
      "Epoch 91/100\n",
      "1/1 [==============================] - 0s 5ms/step - loss: 0.3798 - mae: 0.3798\n",
      "Epoch 92/100\n",
      "1/1 [==============================] - 0s 7ms/step - loss: 0.3655 - mae: 0.3655\n",
      "Epoch 93/100\n",
      "1/1 [==============================] - 0s 5ms/step - loss: 0.3096 - mae: 0.3096\n",
      "Epoch 94/100\n",
      "1/1 [==============================] - 0s 7ms/step - loss: 0.3101 - mae: 0.3101\n",
      "Epoch 95/100\n",
      "1/1 [==============================] - 0s 5ms/step - loss: 0.3423 - mae: 0.3423\n",
      "Epoch 96/100\n",
      "1/1 [==============================] - 0s 7ms/step - loss: 0.3229 - mae: 0.3229\n",
      "Epoch 97/100\n",
      "1/1 [==============================] - 0s 6ms/step - loss: 0.2868 - mae: 0.2868\n",
      "Epoch 98/100\n",
      "1/1 [==============================] - 0s 8ms/step - loss: 0.2228 - mae: 0.2228\n",
      "Epoch 99/100\n",
      "1/1 [==============================] - 0s 5ms/step - loss: 0.2351 - mae: 0.2351\n",
      "Epoch 100/100\n",
      "1/1 [==============================] - 0s 8ms/step - loss: 0.2219 - mae: 0.2219\n"
     ]
    },
    {
     "data": {
      "text/plain": [
       "<keras.callbacks.History at 0x197b985a160>"
      ]
     },
     "execution_count": 40,
     "metadata": {},
     "output_type": "execute_result"
    }
   ],
   "source": [
    "model = tf.keras.Sequential(\n",
    "    [\n",
    "        tf.keras.layers.Dense(50, activation = \"relu\"),\n",
    "        tf.keras.layers.Dense(50, activation = \"relu\"),\n",
    "        tf.keras.layers.Dense(50, activation = \"relu\"),\n",
    "        tf.keras.layers.Dense(1),\n",
    "    ]\n",
    ")\n",
    "\n",
    "model.compile(\n",
    "    loss = tf.keras.losses.mae,\n",
    "    optimizer = tf.keras.optimizers.Adam(lr=0.01),\n",
    "    metrics = ['mae']\n",
    ")\n",
    "\n",
    "model.fit(\n",
    "    tf.expand_dims(\n",
    "        X, \n",
    "        axis = -1\n",
    "    ),\n",
    "    y,\n",
    "    epochs = 100\n",
    ")"
   ]
  },
  {
   "cell_type": "code",
   "execution_count": 41,
   "metadata": {},
   "outputs": [
    {
     "name": "stdout",
     "output_type": "stream",
     "text": [
      "1/1 [==============================] - 0s 67ms/step\n"
     ]
    },
    {
     "data": {
      "text/plain": [
       "array([[27.122803]], dtype=float32)"
      ]
     },
     "execution_count": 41,
     "metadata": {},
     "output_type": "execute_result"
    }
   ],
   "source": [
    "y_pred = model.predict([17.0])\n",
    "y_pred"
   ]
  },
  {
   "cell_type": "markdown",
   "metadata": {},
   "source": [
    "### 48 - 55. Evaluating a TensorFlow Model"
   ]
  },
  {
   "cell_type": "markdown",
   "metadata": {},
   "source": [
    "In practice, a typical workflow we'll have to go through when building neural networks is:\n",
    "\n",
    "```\n",
    "Build mode -> Fit -> Evaluate -> tweak model -> Build mode -> Fit -> Evaluate -> tweak model -> Build mode -> Fit -> Evaluate -> tweak model -> ...\n",
    "```"
   ]
  },
  {
   "cell_type": "markdown",
   "metadata": {},
   "source": [
    "#### 48. \"Visualize, Visualize, Visualize\""
   ]
  },
  {
   "cell_type": "markdown",
   "metadata": {},
   "source": [
    "It's a good idea to visualize:\n",
    "* **Data** - What data are we working with? What does it look like?\n",
    "* **Model** - What does our model look like?\n",
    "* **Training of a Model** - How does a model perform while it learns?\n",
    "* **Predictions** - How do the predictions of a model line up against the groudn truth (original labels)?"
   ]
  },
  {
   "cell_type": "code",
   "execution_count": 55,
   "metadata": {},
   "outputs": [
    {
     "data": {
      "text/plain": [
       "(<tf.Tensor: shape=(50,), dtype=int32, numpy=\n",
       " array([-100,  -96,  -92,  -88,  -84,  -80,  -76,  -72,  -68,  -64,  -60,\n",
       "         -56,  -52,  -48,  -44,  -40,  -36,  -32,  -28,  -24,  -20,  -16,\n",
       "         -12,   -8,   -4,    0,    4,    8,   12,   16,   20,   24,   28,\n",
       "          32,   36,   40,   44,   48,   52,   56,   60,   64,   68,   72,\n",
       "          76,   80,   84,   88,   92,   96])>,\n",
       " <tf.Tensor: shape=(50,), dtype=int32, numpy=\n",
       " array([-90, -86, -82, -78, -74, -70, -66, -62, -58, -54, -50, -46, -42,\n",
       "        -38, -34, -30, -26, -22, -18, -14, -10,  -6,  -2,   2,   6,  10,\n",
       "         14,  18,  22,  26,  30,  34,  38,  42,  46,  50,  54,  58,  62,\n",
       "         66,  70,  74,  78,  82,  86,  90,  94,  98, 102, 106])>)"
      ]
     },
     "execution_count": 55,
     "metadata": {},
     "output_type": "execute_result"
    }
   ],
   "source": [
    "# Make bigger dataset\n",
    "X = tf.range(-100, 100, 4)\n",
    "y = (X + 10)\n",
    "\n",
    "X, y"
   ]
  },
  {
   "cell_type": "code",
   "execution_count": 56,
   "metadata": {},
   "outputs": [
    {
     "data": {
      "text/plain": [
       "<matplotlib.collections.PathCollection at 0x197c06de610>"
      ]
     },
     "execution_count": 56,
     "metadata": {},
     "output_type": "execute_result"
    },
    {
     "data": {
      "image/png": "[encoded data removed]",
      "text/plain": [
       "<Figure size 640x480 with 1 Axes>"
      ]
     },
     "metadata": {},
     "output_type": "display_data"
    }
   ],
   "source": [
    "# Visualize the data\n",
    "plt.scatter(X, y)"
   ]
  },
  {
   "cell_type": "markdown",
   "metadata": {},
   "source": [
    "#### 49. The Three Datasets"
   ]
  },
  {
   "cell_type": "code",
   "execution_count": 60,
   "metadata": {},
   "outputs": [],
   "source": [
    "# Training | Validation(?) | Test\n",
    "X_train, X_test, y_train, y_test = train_test_split(\n",
    "    X.numpy(), \n",
    "    y.numpy(),\n",
    "    test_size = 0.2,\n",
    "    random_state = 42\n",
    ")\n",
    "\n",
    "X_train = tf.convert_to_tensor(X_train)\n",
    "X_test = tf.convert_to_tensor(X_test)\n",
    "y_train = tf.convert_to_tensor(y_train)\n",
    "y_test = tf.convert_to_tensor(y_test)"
   ]
  },
  {
   "cell_type": "code",
   "execution_count": 66,
   "metadata": {},
   "outputs": [
    {
     "data": {
      "image/png": "[encoded data removed]",
      "text/plain": [
       "<Figure size 1000x1000 with 3 Axes>"
      ]
     },
     "metadata": {},
     "output_type": "display_data"
    }
   ],
   "source": [
    "# Visualize splitted data\n",
    "fig, axes = plt.subplots(\n",
    "    figsize = (10, 10),\n",
    "    nrows=3,\n",
    "    ncols  = 1\n",
    ")\n",
    "\n",
    "# Plot training data\n",
    "axes[0].scatter(X_train, y_train, color='blue', label='Training data')\n",
    "axes[0].scatter(X_test, y_test, color='red', label='Testing data')\n",
    "axes[0].set_title('All Data')\n",
    "axes[0].set_xlabel('X')\n",
    "axes[0].set_ylabel('y')\n",
    "axes[0].legend()\n",
    "\n",
    "# Plot training data\n",
    "axes[1].scatter(X_train, y_train, color='blue', label='Training data')\n",
    "axes[1].set_title('Training Data')\n",
    "axes[1].set_xlabel('X')\n",
    "axes[1].set_ylabel('y')\n",
    "axes[1].legend()\n",
    "\n",
    "# Plot testing data\n",
    "axes[2].scatter(X_test, y_test, color='red', label='Testing data')\n",
    "axes[2].set_title('Testing Data')\n",
    "axes[2].set_xlabel('X')\n",
    "axes[2].set_ylabel('y')\n",
    "axes[2].legend()\n",
    "\n",
    "# Adjust layout\n",
    "plt.tight_layout()\n",
    "\n",
    "# Show plot\n",
    "plt.show()"
   ]
  },
  {
   "cell_type": "markdown",
   "metadata": {},
   "source": [
    "#### 50. Getting a model summary"
   ]
  },
  {
   "cell_type": "code",
   "execution_count": null,
   "metadata": {},
   "outputs": [],
   "source": []
  },
  {
   "cell_type": "markdown",
   "metadata": {},
   "source": [
    "#### 51. Visualizing a Model's Layer"
   ]
  },
  {
   "cell_type": "code",
   "execution_count": null,
   "metadata": {},
   "outputs": [],
   "source": []
  },
  {
   "cell_type": "markdown",
   "metadata": {},
   "source": [
    "#### 52. Visualizing a Model's Predictions"
   ]
  },
  {
   "cell_type": "code",
   "execution_count": null,
   "metadata": {},
   "outputs": [],
   "source": []
  },
  {
   "cell_type": "markdown",
   "metadata": {},
   "source": [
    "#### 53. Common Regression Evaluation Metrics"
   ]
  },
  {
   "cell_type": "code",
   "execution_count": null,
   "metadata": {},
   "outputs": [],
   "source": []
  },
  {
   "cell_type": "markdown",
   "metadata": {},
   "source": [
    "#### 54. Mean Absolute Error"
   ]
  },
  {
   "cell_type": "code",
   "execution_count": null,
   "metadata": {},
   "outputs": [],
   "source": []
  },
  {
   "cell_type": "markdown",
   "metadata": {},
   "source": [
    "#### 55. Mean Square Error"
   ]
  },
  {
   "cell_type": "code",
   "execution_count": null,
   "metadata": {},
   "outputs": [],
   "source": []
  },
  {
   "cell_type": "markdown",
   "metadata": {},
   "source": [
    "### 56 - 57. Setting up Modelling Experiments"
   ]
  },
  {
   "cell_type": "markdown",
   "metadata": {},
   "source": []
  },
  {
   "cell_type": "markdown",
   "metadata": {},
   "source": [
    "#### 56. Start with a Simple Model"
   ]
  },
  {
   "cell_type": "code",
   "execution_count": null,
   "metadata": {},
   "outputs": [],
   "source": []
  },
  {
   "cell_type": "markdown",
   "metadata": {},
   "source": [
    "#### 57. Increasing Complexity"
   ]
  },
  {
   "cell_type": "code",
   "execution_count": null,
   "metadata": {},
   "outputs": [],
   "source": []
  },
  {
   "cell_type": "markdown",
   "metadata": {},
   "source": [
    "### 58. Comparing and tracking your TensorFlow modelling experiments"
   ]
  },
  {
   "cell_type": "code",
   "execution_count": null,
   "metadata": {},
   "outputs": [],
   "source": []
  },
  {
   "cell_type": "markdown",
   "metadata": {},
   "source": [
    "### 59. How to save a TensorFlow model"
   ]
  },
  {
   "cell_type": "code",
   "execution_count": null,
   "metadata": {},
   "outputs": [],
   "source": []
  },
  {
   "cell_type": "markdown",
   "metadata": {},
   "source": [
    "### 60. How to load and use a saved TensorFlow model"
   ]
  },
  {
   "cell_type": "code",
   "execution_count": null,
   "metadata": {},
   "outputs": [],
   "source": []
  },
  {
   "cell_type": "markdown",
   "metadata": {},
   "source": [
    "### 62 - 64. Putting together what we've learned"
   ]
  },
  {
   "cell_type": "markdown",
   "metadata": {},
   "source": [
    "#### 62. Preparing a Dataset"
   ]
  },
  {
   "cell_type": "code",
   "execution_count": null,
   "metadata": {},
   "outputs": [],
   "source": []
  },
  {
   "cell_type": "markdown",
   "metadata": {},
   "source": [
    "#### 63. Building a Regression Model"
   ]
  },
  {
   "cell_type": "code",
   "execution_count": null,
   "metadata": {},
   "outputs": [],
   "source": []
  },
  {
   "cell_type": "markdown",
   "metadata": {},
   "source": [
    "#### 64. Improving our Regression Model"
   ]
  },
  {
   "cell_type": "code",
   "execution_count": null,
   "metadata": {},
   "outputs": [],
   "source": []
  },
  {
   "cell_type": "markdown",
   "metadata": {},
   "source": [
    "### 65 - 67. Preprocessing data with Feature Scaling"
   ]
  },
  {
   "cell_type": "markdown",
   "metadata": {},
   "source": [
    "#### 65. What is Feature Scaling?"
   ]
  },
  {
   "cell_type": "code",
   "execution_count": null,
   "metadata": {},
   "outputs": [],
   "source": []
  },
  {
   "cell_type": "markdown",
   "metadata": {},
   "source": [
    "#### 66. Normalizing our Data"
   ]
  },
  {
   "cell_type": "code",
   "execution_count": null,
   "metadata": {},
   "outputs": [],
   "source": []
  },
  {
   "cell_type": "markdown",
   "metadata": {},
   "source": [
    "#### 67. Fitting a Model on Scaled Data"
   ]
  },
  {
   "cell_type": "markdown",
   "metadata": {},
   "source": []
  }
 ],
 "metadata": {
  "kernelspec": {
   "display_name": "tf-dev-cert",
   "language": "python",
   "name": "python3"
  },
  "language_info": {
   "codemirror_mode": {
    "name": "ipython",
    "version": 3
   },
   "file_extension": ".py",
   "mimetype": "text/x-python",
   "name": "python",
   "nbconvert_exporter": "python",
   "pygments_lexer": "ipython3",
   "version": "3.9.19"
  }
 },
 "nbformat": 4,
 "nbformat_minor": 2
}
