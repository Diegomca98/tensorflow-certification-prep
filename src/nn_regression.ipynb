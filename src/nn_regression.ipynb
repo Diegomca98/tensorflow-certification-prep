{
 "cells": [
  {
   "cell_type": "markdown",
   "metadata": {},
   "source": [
    "# Section 3: Neural Network Regression with TensorFlow"
   ]
  },
  {
   "cell_type": "markdown",
   "metadata": {},
   "source": [
    "There are many definitions for a [regression problem](https://en.wikipedia.org/wiki/Regression_analysis), here are some examples:\n",
    "* How much will this house sell for?\n",
    "* How many people eill bui this app?\n",
    "* Predict the selling price of houses given information about them (such as number of rooms, size, number of bathrooms).\n",
    "* Predict the coordinates of a bounding box of an item in an image.\n",
    "* Predict the cost of medical insurance for an individual given their demographics (age, sex, gender, race).\n",
    "\n",
    "As you can see, the trend is **how much or many something**, to simplyfi it a regression problem is basically **predicting a number** of some sort, maybe coordinates, prices, etc.\n",
    "\n",
    "In this notebook, we're going to set the foundations for how you can take a sample of inputs (this is your data), build a neural network to discover patterns in those inputs and then make a prediction (in the form of a number) based on those inputs."
   ]
  },
  {
   "cell_type": "markdown",
   "metadata": {},
   "source": [
    "## Import Section"
   ]
  },
  {
   "cell_type": "code",
   "execution_count": 1,
   "metadata": {},
   "outputs": [],
   "source": [
    "import tensorflow as tf\n",
    "import numpy as np\n",
    "import matplotlib.pyplot as plt\n",
    "from tensorflow.keras.utils import plot_model\n",
    "from sklearn.model_selection import train_test_split"
   ]
  },
  {
   "cell_type": "code",
   "execution_count": 2,
   "metadata": {},
   "outputs": [
    {
     "name": "stdout",
     "output_type": "stream",
     "text": [
      "2.10.1\n"
     ]
    }
   ],
   "source": [
    "print(tf.__version__)"
   ]
  },
  {
   "cell_type": "markdown",
   "metadata": {},
   "source": [
    "## Introduction"
   ]
  },
  {
   "cell_type": "markdown",
   "metadata": {},
   "source": [
    "### What we're going to cover"
   ]
  },
  {
   "cell_type": "markdown",
   "metadata": {},
   "source": [
    "Specifically, we're going to go through doing the following with TensorFlow:\n",
    "\n",
    "* **Architecture of a regression model**\n",
    "* **Input shapes and output shapes**\n",
    "  * X: features/data (inputs)\n",
    "  * y: labels (outputs)\n",
    "* **Creating custom data to view and fit**\n",
    "* **Steps in modelling**\n",
    "  * Creating a model\n",
    "  * Compiling a model\n",
    "    * *Defining a loss function*\n",
    "    * *Setting up an optimizer*\n",
    "    * *Creating evaluation metrics*\n",
    "  * Fitting a model (getting it to find patterns in our data)\n",
    "* **Evaluating a model**\n",
    "  * Visualizng the model (\"visualize, visualize, visualize\")\n",
    "  * Looking at training curves\n",
    "  * Compare predictions to ground truth (using our evaluation metrics)\n",
    "* **Saving a model** (so we can use it later)\n",
    "* **Loading a model**\n",
    "\n",
    "Don't worry if none of these make sense now, we're going to go through each."
   ]
  },
  {
   "cell_type": "markdown",
   "metadata": {},
   "source": [
    "### Inputs and Outputs of a Neural Network Regression Model"
   ]
  },
  {
   "cell_type": "markdown",
   "metadata": {},
   "source": [
    "For this example let's say we have a house for sale and we want to build a model to predict how much I should offer if we go to auction:\n",
    "\n",
    "What do we know:\n",
    "* Independent Variables or Features:\n",
    "  * Number of Bathrooms (x4)\n",
    "  * Number of Bedrooms (x2)\n",
    "  * Number of Garages (x2)\n",
    "* Dependant or Target Variables:\n",
    "  * We now the prices of other houses nearby\n",
    "\n",
    "**Inputs:** We have to encode the Features to pass them to the model. It can be as many Features as we want, therefore the shape won't necessarily be fixed.\n",
    "`features = [f1, f2, f3, f4, f5, f6, f7, ..., fn]`\n",
    "\n",
    "**ML Algorithms:** Often someone already did a model to fix your problem, if not, you can build one\n",
    "\n",
    "**Outputs:** Based on the Features and the targets from other records, the model gives us the predicted output. Normally in regression models the shape of the output is fixed to 1.\n",
    "`output = [123456]`"
   ]
  },
  {
   "cell_type": "markdown",
   "metadata": {},
   "source": [
    "### Typical architecture of a regresison neural network"
   ]
  },
  {
   "cell_type": "markdown",
   "metadata": {},
   "source": [
    "#### Graphical Representation - Simple Example and Explanation"
   ]
  },
  {
   "cell_type": "markdown",
   "metadata": {},
   "source": [
    "![Neural Network Architecture](../assets/nn_representation.png)\n",
    "\n",
    "| Layer(s) | Description                                                | Units/Neurons in the example image |\n",
    "| -------- | ---------------------------------------------------------- | :--------------------------------: |\n",
    "| Input    | Where the data goes in                                     | 3\n",
    "| Hidden   | Learns patterns in data                                    | 4\n",
    "| Output   | Outputs learned representation or prediction probabilities | 1"
   ]
  },
  {
   "cell_type": "markdown",
   "metadata": {},
   "source": [
    "#### Complete Explanation"
   ]
  },
  {
   "cell_type": "markdown",
   "metadata": {},
   "source": [
    "**There are many different ways (actually, there's almost an infinite number of ways) to write neural networks, but the following is a generic setup for ingesting a collection of numbers, finding patterns in them and then outputting some kind of target number.**\n",
    "\n",
    "\n",
    "| Hyperparameters          | Typical Value |\n",
    "| ------------------------ | ------------- |\n",
    "| Input layer shape        | Same shape as number of features (e.g. 3 for # bedrooms, # bathrooms, # car spaces in housing price prediction) |\n",
    "| Hidden layer(s)\t       | Problem specific, minimum = 1, maximum = unlimited |\n",
    "| Neurons per hidden layer | Problem specific, generally 10 to 100 |\n",
    "| Output layer shape\t   | Same shape as desired prediction shape (e.g. 1 for house price) |\n",
    "| Hidden activation\t       | Usually [ReLU](https://www.kaggle.com/dansbecker/rectified-linear-units-relu-in-deep-learning) (rectified linear unit) |\n",
    "| Output activation\t       | None, ReLU, logistic/tanh |\n",
    "| Loss function\t           | [MSE](https://en.wikipedia.org/wiki/Mean_squared_error) (mean square error) or [MAE](https://en.wikipedia.org/wiki/Mean_absolute_error) (mean absolute error)/Huber (combination of MAE/MSE) if outliers |\n",
    "| Optimizer                | [SGD](https://www.tensorflow.org/api_docs/python/tf/keras/optimizers/SGD) (stochastic gradient descent), [Adam](https://www.tensorflow.org/api_docs/python/tf/keras/optimizers/Adam) |\n",
    "\n",
    "*Table 1: Typical architecture of a regression network. Source: Adapted from page 293 of [Hands-On Machine Learning with Scikit-Learn, Keras & TensorFlow Book by Aurélien Géron](https://www.oreilly.com/library/view/hands-on-machine-learning/9781492032632/)*\n",
    "\n",
    "Again, if you're new to neural networks and deep learning in general, much of the above table won't make sense. But don't worry, we'll be getting hands-on with all of it soon.\n",
    "\n",
    "> **Note:** A **hyperparameter** in machine learning is something a data analyst or developer can set themselves, where as a **parameter** usually describes something a model learns on its own (a value not explicitly set by an analyst)."
   ]
  },
  {
   "cell_type": "markdown",
   "metadata": {},
   "source": [
    "## Video Activities "
   ]
  },
  {
   "cell_type": "markdown",
   "metadata": {},
   "source": [
    "### 42. Creating Sample Regression Data (so we can model it)"
   ]
  },
  {
   "cell_type": "markdown",
   "metadata": {},
   "source": [
    "* [tf.keras.Sequential](https://www.tensorflow.org/api_docs/python/tf/keras/Sequential)"
   ]
  },
  {
   "cell_type": "code",
   "execution_count": 3,
   "metadata": {},
   "outputs": [
    {
     "data": {
      "image/png": "[encoded data removed]",
      "text/plain": [
       "<Figure size 640x480 with 1 Axes>"
      ]
     },
     "metadata": {},
     "output_type": "display_data"
    }
   ],
   "source": [
    "# Creating features\n",
    "X = np.array(\n",
    "    [-7.0, -4.0, -1.0, 2.0, 5.0, 8.0, 11.0, 14.0]\n",
    ")\n",
    "\n",
    "# Create labels\n",
    "y = np.array(\n",
    "    [3.0, 6.0, 9.0, 12.0, 15.0, 18.0, 21.0, 24.0]\n",
    ")\n",
    "\n",
    "# Visualize it\n",
    "plt.scatter(X,y)\n",
    "plt.title('The relation is y = X+10')\n",
    "plt.show()"
   ]
  },
  {
   "cell_type": "code",
   "execution_count": 4,
   "metadata": {},
   "outputs": [
    {
     "data": {
      "text/plain": [
       "array([ True,  True,  True,  True,  True,  True,  True,  True])"
      ]
     },
     "execution_count": 4,
     "metadata": {},
     "output_type": "execute_result"
    }
   ],
   "source": [
    "y == X+10"
   ]
  },
  {
   "cell_type": "code",
   "execution_count": 5,
   "metadata": {},
   "outputs": [
    {
     "data": {
      "text/plain": [
       "(<tf.Tensor: shape=(3,), dtype=string, numpy=array([b'bedroom', b'bathroom', b'garage'], dtype=object)>,\n",
       " <tf.Tensor: shape=(1,), dtype=int32, numpy=array([939700])>)"
      ]
     },
     "execution_count": 5,
     "metadata": {},
     "output_type": "execute_result"
    }
   ],
   "source": [
    "## Input and Output Shapes - Create a demo tensor for our housing price prediction problem\n",
    "house_info = tf.constant(\n",
    "    ['bedroom', 'bathroom', 'garage']\n",
    ")\n",
    "\n",
    "house_price = tf.constant(\n",
    "    [939700]\n",
    ")\n",
    "\n",
    "house_info, house_price"
   ]
  },
  {
   "cell_type": "code",
   "execution_count": 6,
   "metadata": {},
   "outputs": [
    {
     "data": {
      "text/plain": [
       "((8,), (8,))"
      ]
     },
     "execution_count": 6,
     "metadata": {},
     "output_type": "execute_result"
    }
   ],
   "source": [
    "# In the following case we have 1 input feature to predict 1 output feature, \n",
    "# therfore we have shape 0 since the input and output are scalars, either way\n",
    "# we still have 1 input for 1 output\n",
    "input_shape = X.shape\n",
    "output_shape = y.shape\n",
    "\n",
    "input_shape, output_shape"
   ]
  },
  {
   "cell_type": "markdown",
   "metadata": {},
   "source": [
    "### 44. The mayor steps in modeling with TensorFlow"
   ]
  },
  {
   "cell_type": "code",
   "execution_count": 7,
   "metadata": {},
   "outputs": [
    {
     "data": {
      "text/plain": [
       "(<tf.Tensor: shape=(8,), dtype=float32, numpy=array([-7., -4., -1.,  2.,  5.,  8., 11., 14.], dtype=float32)>,\n",
       " <tf.Tensor: shape=(8,), dtype=float32, numpy=array([ 3.,  6.,  9., 12., 15., 18., 21., 24.], dtype=float32)>)"
      ]
     },
     "execution_count": 7,
     "metadata": {},
     "output_type": "execute_result"
    }
   ],
   "source": [
    "# NumPy arrays into tensors\n",
    "X = tf.cast(tf.constant(X), dtype = tf.float32)\n",
    "y = tf.cast(tf.constant(y), dtype = tf.float32)\n",
    "\n",
    "X, y"
   ]
  },
  {
   "cell_type": "code",
   "execution_count": 8,
   "metadata": {},
   "outputs": [
    {
     "data": {
      "text/plain": [
       "(TensorShape([]), TensorShape([]))"
      ]
     },
     "execution_count": 8,
     "metadata": {},
     "output_type": "execute_result"
    }
   ],
   "source": [
    "input_shape = X[0].shape\n",
    "output_shape = y[0].shape\n",
    "\n",
    "input_shape, output_shape\n"
   ]
  },
  {
   "cell_type": "code",
   "execution_count": 9,
   "metadata": {},
   "outputs": [
    {
     "data": {
      "text/plain": [
       "<matplotlib.collections.PathCollection at 0x1f06ce3f6a0>"
      ]
     },
     "execution_count": 9,
     "metadata": {},
     "output_type": "execute_result"
    },
    {
     "data": {
      "image/png": "[encoded data removed]",
      "text/plain": [
       "<Figure size 640x480 with 1 Axes>"
      ]
     },
     "metadata": {},
     "output_type": "display_data"
    }
   ],
   "source": [
    "plt.scatter(X, y)"
   ]
  },
  {
   "cell_type": "markdown",
   "metadata": {},
   "source": [
    "#### **Steps in modelling with TensorFlow**"
   ]
  },
  {
   "cell_type": "markdown",
   "metadata": {},
   "source": [
    "**Note:**\n",
    "\n",
    "**Dense Layers** are fully connected layers which means that each unit/neuron in the Dense layer connect to all the unit/neurons in the next layer"
   ]
  },
  {
   "cell_type": "markdown",
   "metadata": {},
   "source": [
    "1. **Create model**\n",
    "   1. Defines for the Deep Learning Model:\n",
    "      1. *Input Layer(s)*\n",
    "      2. *Hidden Layer(s)*\n",
    "      3. *Output Layer(s)*\n",
    "\n",
    "2. **Compiling a model**\n",
    "   1. Defines:\n",
    "      1. *Loss function*\n",
    "      2. *Optimizer to improve the patterns*\n",
    "      3. *Evaluation metrics*\n",
    "3. **Fitting the model**\n",
    "   1. Letting the model try to find patterns between X and y (Features and Labels)\n",
    "   2. Defines:\n",
    "      1. *Epochs* (How many times the model will go through all of the training samples)\n",
    "4. Evaluate the model on the test data"
   ]
  },
  {
   "cell_type": "markdown",
   "metadata": {},
   "source": [
    "**Note:** \n",
    "\n",
    "You might see this error\n",
    "\n",
    "```\n",
    "ValueError: Exception encountered when calling layer \"sequential\" (type Sequential).\n",
    "    \n",
    "    Input 0 of layer \"dense\" is incompatible with the layer: expected min_ndim=2, found ndim=1. Full shape received: (None,)\n",
    "    \n",
    "    Call arguments received:\n",
    "      • inputs=tf.Tensor(shape=(None,), dtype=float32)\n",
    "      • training=True\n",
    "      • mask=None\n",
    "```\n",
    "This happens because `model.fit()` no longer automatically upscales inputs from shape `(batch_size, )` to `(batch_size, 1)`.\n",
    "\n",
    "This results in a shape error (remember one of most common errors in deep learning is input and output shapes).\n",
    "\n",
    "**You can add an extra dimension to your input data by using:** \n",
    "* `tf.expand_dims(input_data, axis = -1)`\n",
    "\n",
    "**The code adds an extra dimension to X on the last axis, turning it ndim=1 to ndim=2 (what the model requires).**\n"
   ]
  },
  {
   "cell_type": "code",
   "execution_count": 10,
   "metadata": {},
   "outputs": [
    {
     "name": "stdout",
     "output_type": "stream",
     "text": [
      "Epoch 1/5\n"
     ]
    },
    {
     "name": "stdout",
     "output_type": "stream",
     "text": [
      "1/1 [==============================] - 1s 688ms/step - loss: 19.7584 - mae: 19.7584\n",
      "Epoch 2/5\n",
      "1/1 [==============================] - 0s 4ms/step - loss: 19.4771 - mae: 19.4771\n",
      "Epoch 3/5\n",
      "1/1 [==============================] - 0s 3ms/step - loss: 19.1959 - mae: 19.1959\n",
      "Epoch 4/5\n",
      "1/1 [==============================] - 0s 4ms/step - loss: 18.9146 - mae: 18.9146\n",
      "Epoch 5/5\n",
      "1/1 [==============================] - 0s 4ms/step - loss: 18.6334 - mae: 18.6334\n"
     ]
    },
    {
     "data": {
      "text/plain": [
       "<keras.callbacks.History at 0x1f00fa67940>"
      ]
     },
     "execution_count": 10,
     "metadata": {},
     "output_type": "execute_result"
    }
   ],
   "source": [
    "# Random seed\n",
    "tf.random.set_seed(42)\n",
    "\n",
    "# Create a model using the Sequential API\n",
    "model = tf.keras.Sequential(\n",
    "    [\n",
    "        tf.keras.layers.Dense(1)\n",
    "    ]\n",
    ")\n",
    "\n",
    "# 2. Compile the model\n",
    "model.compile(\n",
    "    loss = tf.keras.losses.mae, # Mean Absolute Error loss = mean(abs(y_true - y_pred), axis = 1)\n",
    "    optimizer = tf.keras.optimizers.SGD(), # Stochastic gradient descent\n",
    "    metrics = ['mae'] \n",
    ")\n",
    "\n",
    "# Fit the model \n",
    "model.fit(\n",
    "    tf.expand_dims(X, axis= -1),\n",
    "    y,\n",
    "    epochs=5\n",
    ")"
   ]
  },
  {
   "cell_type": "code",
   "execution_count": 11,
   "metadata": {},
   "outputs": [
    {
     "data": {
      "text/plain": [
       "(<tf.Tensor: shape=(8,), dtype=float32, numpy=array([-7., -4., -1.,  2.,  5.,  8., 11., 14.], dtype=float32)>,\n",
       " <tf.Tensor: shape=(8,), dtype=float32, numpy=array([ 3.,  6.,  9., 12., 15., 18., 21., 24.], dtype=float32)>)"
      ]
     },
     "execution_count": 11,
     "metadata": {},
     "output_type": "execute_result"
    }
   ],
   "source": [
    "# Let's check X and y\n",
    "X, y"
   ]
  },
  {
   "cell_type": "code",
   "execution_count": 12,
   "metadata": {},
   "outputs": [
    {
     "name": "stdout",
     "output_type": "stream",
     "text": [
      "1/1 [==============================] - 0s 77ms/step\n"
     ]
    },
    {
     "data": {
      "text/plain": [
       "array([[-18.193813]], dtype=float32)"
      ]
     },
     "execution_count": 12,
     "metadata": {},
     "output_type": "execute_result"
    }
   ],
   "source": [
    "# Make a prediction using the model\n",
    "y_pred = model.predict([17.0])\n",
    "y_pred"
   ]
  },
  {
   "cell_type": "code",
   "execution_count": 13,
   "metadata": {},
   "outputs": [
    {
     "name": "stdout",
     "output_type": "stream",
     "text": [
      "1/1 [==============================] - 0s 33ms/step\n"
     ]
    },
    {
     "data": {
      "text/plain": [
       "array([[4.327221]], dtype=float32)"
      ]
     },
     "execution_count": 13,
     "metadata": {},
     "output_type": "execute_result"
    }
   ],
   "source": [
    "model.predict([-4.])"
   ]
  },
  {
   "cell_type": "code",
   "execution_count": 14,
   "metadata": {},
   "outputs": [
    {
     "data": {
      "text/plain": [
       "array([[-9.288114]], dtype=float32)"
      ]
     },
     "execution_count": 14,
     "metadata": {},
     "output_type": "execute_result"
    }
   ],
   "source": [
    "y_pred + 8.9057"
   ]
  },
  {
   "cell_type": "markdown",
   "metadata": {},
   "source": [
    "### 45 - 47. Improving a Model"
   ]
  },
  {
   "cell_type": "markdown",
   "metadata": {},
   "source": [
    "#### 45. Steps in improving a model with TensorFlow - Part 1"
   ]
  },
  {
   "cell_type": "markdown",
   "metadata": {},
   "source": [
    "We can improve our model by altering the steps we took to create a model\n",
    "\n",
    "1. **Creating a Model:** We might add layers, increase the hidden units within the hidden layers, change the activation function of each layer\n",
    "2. **Compiling a Model:** Here we might change the optimization function or perhaps the **learning rate** of the optimization function\n",
    "3. **Fitting a Model:** Here we might fit a model for more **epochs** (leave it training longer) or on more data (give the model more examples to learn from)"
   ]
  },
  {
   "cell_type": "code",
   "execution_count": 15,
   "metadata": {},
   "outputs": [
    {
     "name": "stdout",
     "output_type": "stream",
     "text": [
      "Epoch 1/100\n"
     ]
    },
    {
     "name": "stdout",
     "output_type": "stream",
     "text": [
      "1/1 [==============================] - 0s 203ms/step - loss: 21.1307 - mae: 21.1307\n",
      "Epoch 2/100\n",
      "1/1 [==============================] - 0s 5ms/step - loss: 20.7376 - mae: 20.7376\n",
      "Epoch 3/100\n",
      "1/1 [==============================] - 0s 15ms/step - loss: 20.3860 - mae: 20.3860\n",
      "Epoch 4/100\n",
      "1/1 [==============================] - 0s 5ms/step - loss: 20.1048 - mae: 20.1048\n",
      "Epoch 5/100\n",
      "1/1 [==============================] - 0s 17ms/step - loss: 19.8235 - mae: 19.8235\n",
      "Epoch 6/100\n",
      "1/1 [==============================] - 0s 6ms/step - loss: 19.5423 - mae: 19.5423\n",
      "Epoch 7/100\n",
      "1/1 [==============================] - 0s 15ms/step - loss: 19.2610 - mae: 19.2610\n",
      "Epoch 8/100\n",
      "1/1 [==============================] - 0s 5ms/step - loss: 18.9798 - mae: 18.9798\n",
      "Epoch 9/100\n",
      "1/1 [==============================] - 0s 17ms/step - loss: 18.6985 - mae: 18.6985\n",
      "Epoch 10/100\n",
      "1/1 [==============================] - 0s 4ms/step - loss: 18.4173 - mae: 18.4173\n",
      "Epoch 11/100\n",
      "1/1 [==============================] - 0s 4ms/step - loss: 18.1360 - mae: 18.1360\n",
      "Epoch 12/100\n",
      "1/1 [==============================] - 0s 4ms/step - loss: 17.8548 - mae: 17.8548\n",
      "Epoch 13/100\n",
      "1/1 [==============================] - 0s 4ms/step - loss: 17.5735 - mae: 17.5735\n",
      "Epoch 14/100\n",
      "1/1 [==============================] - 0s 4ms/step - loss: 17.2923 - mae: 17.2923\n",
      "Epoch 15/100\n",
      "1/1 [==============================] - 0s 3ms/step - loss: 17.0110 - mae: 17.0110\n",
      "Epoch 16/100\n",
      "1/1 [==============================] - 0s 4ms/step - loss: 16.7298 - mae: 16.7298\n",
      "Epoch 17/100\n",
      "1/1 [==============================] - 0s 4ms/step - loss: 16.4485 - mae: 16.4485\n",
      "Epoch 18/100\n",
      "1/1 [==============================] - 0s 4ms/step - loss: 16.1673 - mae: 16.1673\n",
      "Epoch 19/100\n",
      "1/1 [==============================] - 0s 4ms/step - loss: 15.8860 - mae: 15.8860\n",
      "Epoch 20/100\n",
      "1/1 [==============================] - 0s 5ms/step - loss: 15.6048 - mae: 15.6048\n",
      "Epoch 21/100\n",
      "1/1 [==============================] - 0s 4ms/step - loss: 15.3235 - mae: 15.3235\n",
      "Epoch 22/100\n",
      "1/1 [==============================] - 0s 3ms/step - loss: 15.0423 - mae: 15.0423\n",
      "Epoch 23/100\n",
      "1/1 [==============================] - 0s 4ms/step - loss: 14.7610 - mae: 14.7610\n",
      "Epoch 24/100\n",
      "1/1 [==============================] - 0s 5ms/step - loss: 14.5694 - mae: 14.5694\n",
      "Epoch 25/100\n",
      "1/1 [==============================] - 0s 4ms/step - loss: 14.4369 - mae: 14.4369\n",
      "Epoch 26/100\n",
      "1/1 [==============================] - 0s 5ms/step - loss: 14.3044 - mae: 14.3044\n",
      "Epoch 27/100\n",
      "1/1 [==============================] - 0s 3ms/step - loss: 14.1719 - mae: 14.1719\n",
      "Epoch 28/100\n",
      "1/1 [==============================] - 0s 4ms/step - loss: 14.0394 - mae: 14.0394\n",
      "Epoch 29/100\n",
      "1/1 [==============================] - 0s 4ms/step - loss: 13.9069 - mae: 13.9069\n",
      "Epoch 30/100\n",
      "1/1 [==============================] - 0s 3ms/step - loss: 13.7744 - mae: 13.7744\n",
      "Epoch 31/100\n",
      "1/1 [==============================] - 0s 4ms/step - loss: 13.6419 - mae: 13.6419\n",
      "Epoch 32/100\n",
      "1/1 [==============================] - 0s 4ms/step - loss: 13.5094 - mae: 13.5094\n",
      "Epoch 33/100\n",
      "1/1 [==============================] - 0s 4ms/step - loss: 13.3769 - mae: 13.3769\n",
      "Epoch 34/100\n",
      "1/1 [==============================] - 0s 4ms/step - loss: 13.2444 - mae: 13.2444\n",
      "Epoch 35/100\n",
      "1/1 [==============================] - 0s 4ms/step - loss: 13.1119 - mae: 13.1119\n",
      "Epoch 36/100\n",
      "1/1 [==============================] - 0s 5ms/step - loss: 12.9794 - mae: 12.9794\n",
      "Epoch 37/100\n",
      "1/1 [==============================] - 0s 4ms/step - loss: 12.8469 - mae: 12.8469\n",
      "Epoch 38/100\n",
      "1/1 [==============================] - 0s 4ms/step - loss: 12.7144 - mae: 12.7144\n",
      "Epoch 39/100\n",
      "1/1 [==============================] - 0s 4ms/step - loss: 12.5819 - mae: 12.5819\n",
      "Epoch 40/100\n",
      "1/1 [==============================] - 0s 4ms/step - loss: 12.4494 - mae: 12.4494\n",
      "Epoch 41/100\n",
      "1/1 [==============================] - 0s 4ms/step - loss: 12.3169 - mae: 12.3169\n",
      "Epoch 42/100\n",
      "1/1 [==============================] - 0s 5ms/step - loss: 12.1844 - mae: 12.1844\n",
      "Epoch 43/100\n",
      "1/1 [==============================] - 0s 5ms/step - loss: 12.0519 - mae: 12.0519\n",
      "Epoch 44/100\n",
      "1/1 [==============================] - 0s 5ms/step - loss: 11.9194 - mae: 11.9194\n",
      "Epoch 45/100\n",
      "1/1 [==============================] - 0s 5ms/step - loss: 11.7869 - mae: 11.7869\n",
      "Epoch 46/100\n",
      "1/1 [==============================] - 0s 4ms/step - loss: 11.6544 - mae: 11.6544\n",
      "Epoch 47/100\n",
      "1/1 [==============================] - 0s 4ms/step - loss: 11.5219 - mae: 11.5219\n",
      "Epoch 48/100\n",
      "1/1 [==============================] - 0s 3ms/step - loss: 11.3894 - mae: 11.3894\n",
      "Epoch 49/100\n",
      "1/1 [==============================] - 0s 4ms/step - loss: 11.2569 - mae: 11.2569\n",
      "Epoch 50/100\n",
      "1/1 [==============================] - 0s 4ms/step - loss: 11.1244 - mae: 11.1244\n",
      "Epoch 51/100\n",
      "1/1 [==============================] - 0s 3ms/step - loss: 10.9919 - mae: 10.9919\n",
      "Epoch 52/100\n",
      "1/1 [==============================] - 0s 4ms/step - loss: 10.8594 - mae: 10.8594\n",
      "Epoch 53/100\n",
      "1/1 [==============================] - 0s 5ms/step - loss: 10.7269 - mae: 10.7269\n",
      "Epoch 54/100\n",
      "1/1 [==============================] - 0s 4ms/step - loss: 10.5944 - mae: 10.5944\n",
      "Epoch 55/100\n",
      "1/1 [==============================] - 0s 3ms/step - loss: 10.4619 - mae: 10.4619\n",
      "Epoch 56/100\n",
      "1/1 [==============================] - 0s 4ms/step - loss: 10.3294 - mae: 10.3294\n",
      "Epoch 57/100\n",
      "1/1 [==============================] - 0s 4ms/step - loss: 10.1969 - mae: 10.1969\n",
      "Epoch 58/100\n",
      "1/1 [==============================] - 0s 3ms/step - loss: 10.0644 - mae: 10.0644\n",
      "Epoch 59/100\n",
      "1/1 [==============================] - 0s 4ms/step - loss: 9.9319 - mae: 9.9319\n",
      "Epoch 60/100\n",
      "1/1 [==============================] - 0s 3ms/step - loss: 9.7994 - mae: 9.7994\n",
      "Epoch 61/100\n",
      "1/1 [==============================] - 0s 5ms/step - loss: 9.6669 - mae: 9.6669\n",
      "Epoch 62/100\n",
      "1/1 [==============================] - 0s 4ms/step - loss: 9.5344 - mae: 9.5344\n",
      "Epoch 63/100\n",
      "1/1 [==============================] - 0s 4ms/step - loss: 9.4019 - mae: 9.4019\n",
      "Epoch 64/100\n",
      "1/1 [==============================] - 0s 5ms/step - loss: 9.2694 - mae: 9.2694\n",
      "Epoch 65/100\n",
      "1/1 [==============================] - 0s 4ms/step - loss: 9.1369 - mae: 9.1369\n",
      "Epoch 66/100\n",
      "1/1 [==============================] - 0s 3ms/step - loss: 9.0044 - mae: 9.0044\n",
      "Epoch 67/100\n",
      "1/1 [==============================] - 0s 4ms/step - loss: 8.8719 - mae: 8.8719\n",
      "Epoch 68/100\n",
      "1/1 [==============================] - 0s 3ms/step - loss: 8.7394 - mae: 8.7394\n",
      "Epoch 69/100\n",
      "1/1 [==============================] - 0s 3ms/step - loss: 8.6069 - mae: 8.6069\n",
      "Epoch 70/100\n",
      "1/1 [==============================] - 0s 4ms/step - loss: 8.4744 - mae: 8.4744\n",
      "Epoch 71/100\n",
      "1/1 [==============================] - 0s 4ms/step - loss: 8.3419 - mae: 8.3419\n",
      "Epoch 72/100\n",
      "1/1 [==============================] - 0s 4ms/step - loss: 8.2094 - mae: 8.2094\n",
      "Epoch 73/100\n",
      "1/1 [==============================] - 0s 4ms/step - loss: 8.0769 - mae: 8.0769\n",
      "Epoch 74/100\n",
      "1/1 [==============================] - 0s 4ms/step - loss: 7.9444 - mae: 7.9444\n",
      "Epoch 75/100\n",
      "1/1 [==============================] - 0s 5ms/step - loss: 7.8119 - mae: 7.8119\n",
      "Epoch 76/100\n",
      "1/1 [==============================] - 0s 5ms/step - loss: 7.6794 - mae: 7.6794\n",
      "Epoch 77/100\n",
      "1/1 [==============================] - 0s 4ms/step - loss: 7.5469 - mae: 7.5469\n",
      "Epoch 78/100\n",
      "1/1 [==============================] - 0s 5ms/step - loss: 7.4144 - mae: 7.4144\n",
      "Epoch 79/100\n",
      "1/1 [==============================] - 0s 3ms/step - loss: 7.2819 - mae: 7.2819\n",
      "Epoch 80/100\n",
      "1/1 [==============================] - 0s 4ms/step - loss: 7.1494 - mae: 7.1494\n",
      "Epoch 81/100\n",
      "1/1 [==============================] - 0s 4ms/step - loss: 7.0170 - mae: 7.0170\n",
      "Epoch 82/100\n",
      "1/1 [==============================] - 0s 4ms/step - loss: 6.9394 - mae: 6.9394\n",
      "Epoch 83/100\n",
      "1/1 [==============================] - 0s 5ms/step - loss: 6.9338 - mae: 6.9338\n",
      "Epoch 84/100\n",
      "1/1 [==============================] - 0s 4ms/step - loss: 6.9281 - mae: 6.9281\n",
      "Epoch 85/100\n",
      "1/1 [==============================] - 0s 4ms/step - loss: 6.9225 - mae: 6.9225\n",
      "Epoch 86/100\n",
      "1/1 [==============================] - 0s 3ms/step - loss: 6.9169 - mae: 6.9169\n",
      "Epoch 87/100\n",
      "1/1 [==============================] - 0s 4ms/step - loss: 6.9113 - mae: 6.9113\n",
      "Epoch 88/100\n",
      "1/1 [==============================] - 0s 5ms/step - loss: 6.9056 - mae: 6.9056\n",
      "Epoch 89/100\n",
      "1/1 [==============================] - 0s 3ms/step - loss: 6.9000 - mae: 6.9000\n",
      "Epoch 90/100\n",
      "1/1 [==============================] - 0s 4ms/step - loss: 6.8944 - mae: 6.8944\n",
      "Epoch 91/100\n",
      "1/1 [==============================] - 0s 4ms/step - loss: 6.8888 - mae: 6.8888\n",
      "Epoch 92/100\n",
      "1/1 [==============================] - 0s 4ms/step - loss: 6.8831 - mae: 6.8831\n",
      "Epoch 93/100\n",
      "1/1 [==============================] - 0s 3ms/step - loss: 6.8775 - mae: 6.8775\n",
      "Epoch 94/100\n",
      "1/1 [==============================] - 0s 5ms/step - loss: 6.8719 - mae: 6.8719\n",
      "Epoch 95/100\n",
      "1/1 [==============================] - 0s 3ms/step - loss: 6.8663 - mae: 6.8663\n",
      "Epoch 96/100\n",
      "1/1 [==============================] - 0s 4ms/step - loss: 6.8606 - mae: 6.8606\n",
      "Epoch 97/100\n",
      "1/1 [==============================] - 0s 4ms/step - loss: 6.8550 - mae: 6.8550\n",
      "Epoch 98/100\n",
      "1/1 [==============================] - 0s 4ms/step - loss: 6.8494 - mae: 6.8494\n",
      "Epoch 99/100\n",
      "1/1 [==============================] - 0s 5ms/step - loss: 6.8438 - mae: 6.8438\n",
      "Epoch 100/100\n",
      "1/1 [==============================] - 0s 4ms/step - loss: 6.8381 - mae: 6.8381\n"
     ]
    },
    {
     "data": {
      "text/plain": [
       "<keras.callbacks.History at 0x1f015f6e7f0>"
      ]
     },
     "execution_count": 15,
     "metadata": {},
     "output_type": "execute_result"
    }
   ],
   "source": [
    "# 1. Creating a Model\n",
    "model = tf.keras.Sequential(\n",
    "    [\n",
    "        tf.keras.layers.Dense(1)\n",
    "    ]\n",
    ")\n",
    "\n",
    "# 2. Compile the Model - Optimization Function and Learning Rate\n",
    "model.compile(\n",
    "    loss = tf.keras.losses.mae,\n",
    "    optimizer = tf.keras.optimizers.SGD(), # Stochastic gradient descent\n",
    "    metrics = ['mae']\n",
    ")\n",
    "\n",
    "# 3. Fit the Model - More Epochs and Data\n",
    "model.fit(\n",
    "    tf.expand_dims(\n",
    "        X, \n",
    "        axis = -1\n",
    "    ), \n",
    "    y, \n",
    "    epochs=100\n",
    ") # Originally only 5 epochs"
   ]
  },
  {
   "cell_type": "code",
   "execution_count": 16,
   "metadata": {},
   "outputs": [
    {
     "name": "stdout",
     "output_type": "stream",
     "text": [
      "tf.Tensor([-7. -4. -1.  2.  5.  8. 11. 14.], shape=(8,), dtype=float32)\n",
      "tf.Tensor([ 3.  6.  9. 12. 15. 18. 21. 24.], shape=(8,), dtype=float32)\n"
     ]
    }
   ],
   "source": [
    "print(X)\n",
    "print(y)"
   ]
  },
  {
   "cell_type": "code",
   "execution_count": 17,
   "metadata": {},
   "outputs": [
    {
     "name": "stdout",
     "output_type": "stream",
     "text": [
      "1/1 [==============================] - 0s 54ms/step\n"
     ]
    },
    {
     "data": {
      "text/plain": [
       "array([[29.391958]], dtype=float32)"
      ]
     },
     "execution_count": 17,
     "metadata": {},
     "output_type": "execute_result"
    }
   ],
   "source": [
    "y_pred = model.predict(\n",
    "    [17.0]\n",
    ")\n",
    "y_pred"
   ]
  },
  {
   "cell_type": "markdown",
   "metadata": {},
   "source": [
    "#### 46. Steps in improving a model with TensorFlow - Part 2"
   ]
  },
  {
   "cell_type": "code",
   "execution_count": 18,
   "metadata": {},
   "outputs": [
    {
     "name": "stdout",
     "output_type": "stream",
     "text": [
      "Epoch 1/100\n"
     ]
    },
    {
     "name": "stdout",
     "output_type": "stream",
     "text": [
      "1/1 [==============================] - 0s 273ms/step - loss: 13.8842 - mae: 13.8842\n",
      "Epoch 2/100\n",
      "1/1 [==============================] - 0s 5ms/step - loss: 13.3591 - mae: 13.3591\n",
      "Epoch 3/100\n",
      "1/1 [==============================] - 0s 6ms/step - loss: 12.8307 - mae: 12.8307\n",
      "Epoch 4/100\n",
      "1/1 [==============================] - 0s 11ms/step - loss: 12.2952 - mae: 12.2952\n",
      "Epoch 5/100\n",
      "1/1 [==============================] - 0s 5ms/step - loss: 11.7186 - mae: 11.7186\n",
      "Epoch 6/100\n",
      "1/1 [==============================] - 0s 9ms/step - loss: 11.0637 - mae: 11.0637\n",
      "Epoch 7/100\n",
      "1/1 [==============================] - 0s 6ms/step - loss: 10.2628 - mae: 10.2628\n",
      "Epoch 8/100\n",
      "1/1 [==============================] - 0s 5ms/step - loss: 9.2806 - mae: 9.2806\n",
      "Epoch 9/100\n",
      "1/1 [==============================] - 0s 14ms/step - loss: 8.0289 - mae: 8.0289\n",
      "Epoch 10/100\n",
      "1/1 [==============================] - 0s 14ms/step - loss: 6.4360 - mae: 6.4360\n",
      "Epoch 11/100\n",
      "1/1 [==============================] - 0s 13ms/step - loss: 4.4957 - mae: 4.4957\n",
      "Epoch 12/100\n",
      "1/1 [==============================] - 0s 13ms/step - loss: 4.2785 - mae: 4.2785\n",
      "Epoch 13/100\n",
      "1/1 [==============================] - 0s 13ms/step - loss: 4.0422 - mae: 4.0422\n",
      "Epoch 14/100\n",
      "1/1 [==============================] - 0s 6ms/step - loss: 3.9318 - mae: 3.9318\n",
      "Epoch 15/100\n",
      "1/1 [==============================] - 0s 6ms/step - loss: 4.0525 - mae: 4.0525\n",
      "Epoch 16/100\n",
      "1/1 [==============================] - 0s 14ms/step - loss: 3.8835 - mae: 3.8835\n",
      "Epoch 17/100\n",
      "1/1 [==============================] - 0s 12ms/step - loss: 4.0648 - mae: 4.0648\n",
      "Epoch 18/100\n",
      "1/1 [==============================] - 0s 9ms/step - loss: 3.8507 - mae: 3.8507\n",
      "Epoch 19/100\n",
      "1/1 [==============================] - 0s 6ms/step - loss: 4.0464 - mae: 4.0464\n",
      "Epoch 20/100\n",
      "1/1 [==============================] - 0s 14ms/step - loss: 3.8629 - mae: 3.8629\n",
      "Epoch 21/100\n",
      "1/1 [==============================] - 0s 15ms/step - loss: 3.9971 - mae: 3.9971\n",
      "Epoch 22/100\n",
      "1/1 [==============================] - 0s 28ms/step - loss: 3.8755 - mae: 3.8755\n",
      "Epoch 23/100\n",
      "1/1 [==============================] - 0s 14ms/step - loss: 3.9467 - mae: 3.9467\n",
      "Epoch 24/100\n",
      "1/1 [==============================] - 0s 11ms/step - loss: 3.8900 - mae: 3.8900\n",
      "Epoch 25/100\n",
      "1/1 [==============================] - 0s 5ms/step - loss: 3.8940 - mae: 3.8940\n",
      "Epoch 26/100\n",
      "1/1 [==============================] - 0s 11ms/step - loss: 3.9058 - mae: 3.9058\n",
      "Epoch 27/100\n",
      "1/1 [==============================] - 0s 14ms/step - loss: 3.8396 - mae: 3.8396\n",
      "Epoch 28/100\n",
      "1/1 [==============================] - 0s 14ms/step - loss: 3.9229 - mae: 3.9229\n",
      "Epoch 29/100\n",
      "1/1 [==============================] - 0s 6ms/step - loss: 3.7833 - mae: 3.7833\n",
      "Epoch 30/100\n",
      "1/1 [==============================] - 0s 6ms/step - loss: 3.9410 - mae: 3.9410\n",
      "Epoch 31/100\n",
      "1/1 [==============================] - 0s 12ms/step - loss: 3.7362 - mae: 3.7362\n",
      "Epoch 32/100\n",
      "1/1 [==============================] - 0s 13ms/step - loss: 3.9612 - mae: 3.9612\n",
      "Epoch 33/100\n",
      "1/1 [==============================] - 0s 14ms/step - loss: 3.7908 - mae: 3.7908\n",
      "Epoch 34/100\n",
      "1/1 [==============================] - 0s 15ms/step - loss: 3.8535 - mae: 3.8535\n",
      "Epoch 35/100\n",
      "1/1 [==============================] - 0s 12ms/step - loss: 3.8097 - mae: 3.8097\n",
      "Epoch 36/100\n",
      "1/1 [==============================] - 0s 7ms/step - loss: 3.7942 - mae: 3.7942\n",
      "Epoch 37/100\n",
      "1/1 [==============================] - 0s 5ms/step - loss: 3.8294 - mae: 3.8294\n",
      "Epoch 38/100\n",
      "1/1 [==============================] - 0s 5ms/step - loss: 3.7335 - mae: 3.7335\n",
      "Epoch 39/100\n",
      "1/1 [==============================] - 0s 5ms/step - loss: 3.8512 - mae: 3.8512\n",
      "Epoch 40/100\n",
      "1/1 [==============================] - 0s 5ms/step - loss: 3.6702 - mae: 3.6702\n",
      "Epoch 41/100\n",
      "1/1 [==============================] - 0s 5ms/step - loss: 3.8746 - mae: 3.8746\n",
      "Epoch 42/100\n",
      "1/1 [==============================] - 0s 5ms/step - loss: 3.6735 - mae: 3.6735\n",
      "Epoch 43/100\n",
      "1/1 [==============================] - 0s 6ms/step - loss: 3.8381 - mae: 3.8381\n",
      "Epoch 44/100\n",
      "1/1 [==============================] - 0s 6ms/step - loss: 3.7340 - mae: 3.7340\n",
      "Epoch 45/100\n",
      "1/1 [==============================] - 0s 6ms/step - loss: 3.7274 - mae: 3.7274\n",
      "Epoch 46/100\n",
      "1/1 [==============================] - 0s 6ms/step - loss: 3.7568 - mae: 3.7568\n",
      "Epoch 47/100\n",
      "1/1 [==============================] - 0s 6ms/step - loss: 3.6605 - mae: 3.6605\n",
      "Epoch 48/100\n",
      "1/1 [==============================] - 0s 5ms/step - loss: 3.7811 - mae: 3.7811\n",
      "Epoch 49/100\n",
      "1/1 [==============================] - 0s 6ms/step - loss: 3.5913 - mae: 3.5913\n",
      "Epoch 50/100\n",
      "1/1 [==============================] - 0s 5ms/step - loss: 3.8078 - mae: 3.8078\n",
      "Epoch 51/100\n",
      "1/1 [==============================] - 0s 6ms/step - loss: 3.6106 - mae: 3.6106\n",
      "Epoch 52/100\n",
      "1/1 [==============================] - 0s 5ms/step - loss: 3.7387 - mae: 3.7387\n",
      "Epoch 53/100\n",
      "1/1 [==============================] - 0s 6ms/step - loss: 3.6739 - mae: 3.6739\n",
      "Epoch 54/100\n",
      "1/1 [==============================] - 0s 5ms/step - loss: 3.6361 - mae: 3.6361\n",
      "Epoch 55/100\n",
      "1/1 [==============================] - 0s 6ms/step - loss: 3.7001 - mae: 3.7001\n",
      "Epoch 56/100\n",
      "1/1 [==============================] - 0s 6ms/step - loss: 3.5627 - mae: 3.5627\n",
      "Epoch 57/100\n",
      "1/1 [==============================] - 0s 6ms/step - loss: 3.7278 - mae: 3.7278\n",
      "Epoch 58/100\n",
      "1/1 [==============================] - 0s 5ms/step - loss: 3.5364 - mae: 3.5364\n",
      "Epoch 59/100\n",
      "1/1 [==============================] - 0s 6ms/step - loss: 3.6945 - mae: 3.6945\n",
      "Epoch 60/100\n",
      "1/1 [==============================] - 0s 6ms/step - loss: 3.5643 - mae: 3.5643\n",
      "Epoch 61/100\n",
      "1/1 [==============================] - 0s 6ms/step - loss: 3.6195 - mae: 3.6195\n",
      "Epoch 62/100\n",
      "1/1 [==============================] - 0s 5ms/step - loss: 3.5927 - mae: 3.5927\n",
      "Epoch 63/100\n",
      "1/1 [==============================] - 0s 6ms/step - loss: 3.5421 - mae: 3.5421\n",
      "Epoch 64/100\n",
      "1/1 [==============================] - 0s 6ms/step - loss: 3.6217 - mae: 3.6217\n",
      "Epoch 65/100\n",
      "1/1 [==============================] - 0s 6ms/step - loss: 3.4662 - mae: 3.4662\n",
      "Epoch 66/100\n",
      "1/1 [==============================] - 0s 6ms/step - loss: 3.6918 - mae: 3.6918\n",
      "Epoch 67/100\n",
      "1/1 [==============================] - 0s 5ms/step - loss: 3.5005 - mae: 3.5005\n",
      "Epoch 68/100\n",
      "1/1 [==============================] - 0s 6ms/step - loss: 3.5628 - mae: 3.5628\n",
      "Epoch 69/100\n",
      "1/1 [==============================] - 0s 5ms/step - loss: 3.5305 - mae: 3.5305\n",
      "Epoch 70/100\n",
      "1/1 [==============================] - 0s 6ms/step - loss: 3.4813 - mae: 3.4813\n",
      "Epoch 71/100\n",
      "1/1 [==============================] - 0s 6ms/step - loss: 3.5632 - mae: 3.5632\n",
      "Epoch 72/100\n",
      "1/1 [==============================] - 0s 9ms/step - loss: 3.3970 - mae: 3.3970\n",
      "Epoch 73/100\n",
      "1/1 [==============================] - 0s 5ms/step - loss: 3.5975 - mae: 3.5975\n",
      "Epoch 74/100\n",
      "1/1 [==============================] - 0s 10ms/step - loss: 3.4131 - mae: 3.4131\n",
      "Epoch 75/100\n",
      "1/1 [==============================] - 0s 6ms/step - loss: 3.5225 - mae: 3.5225\n",
      "Epoch 76/100\n",
      "1/1 [==============================] - 0s 5ms/step - loss: 3.4841 - mae: 3.4841\n",
      "Epoch 77/100\n",
      "1/1 [==============================] - 0s 6ms/step - loss: 3.4061 - mae: 3.4061\n",
      "Epoch 78/100\n",
      "1/1 [==============================] - 0s 6ms/step - loss: 3.5177 - mae: 3.5177\n",
      "Epoch 79/100\n",
      "1/1 [==============================] - 0s 6ms/step - loss: 3.3392 - mae: 3.3392\n",
      "Epoch 80/100\n",
      "1/1 [==============================] - 0s 6ms/step - loss: 3.5182 - mae: 3.5182\n",
      "Epoch 81/100\n",
      "1/1 [==============================] - 0s 8ms/step - loss: 3.3724 - mae: 3.3724\n",
      "Epoch 82/100\n",
      "1/1 [==============================] - 0s 6ms/step - loss: 3.4298 - mae: 3.4298\n",
      "Epoch 83/100\n",
      "1/1 [==============================] - 0s 9ms/step - loss: 3.4071 - mae: 3.4071\n",
      "Epoch 84/100\n",
      "1/1 [==============================] - 0s 5ms/step - loss: 3.3380 - mae: 3.3380\n",
      "Epoch 85/100\n",
      "1/1 [==============================] - 0s 9ms/step - loss: 3.4437 - mae: 3.4437\n",
      "Epoch 86/100\n",
      "1/1 [==============================] - 0s 5ms/step - loss: 3.2689 - mae: 3.2689\n",
      "Epoch 87/100\n",
      "1/1 [==============================] - 0s 7ms/step - loss: 3.4523 - mae: 3.4523\n",
      "Epoch 88/100\n",
      "1/1 [==============================] - 0s 6ms/step - loss: 3.3404 - mae: 3.3404\n",
      "Epoch 89/100\n",
      "1/1 [==============================] - 0s 9ms/step - loss: 3.3255 - mae: 3.3255\n",
      "Epoch 90/100\n",
      "1/1 [==============================] - 0s 7ms/step - loss: 3.3762 - mae: 3.3762\n",
      "Epoch 91/100\n",
      "1/1 [==============================] - 0s 5ms/step - loss: 3.2270 - mae: 3.2270\n",
      "Epoch 92/100\n",
      "1/1 [==============================] - 0s 8ms/step - loss: 3.4144 - mae: 3.4144\n",
      "Epoch 93/100\n",
      "1/1 [==============================] - 0s 5ms/step - loss: 3.2377 - mae: 3.2377\n",
      "Epoch 94/100\n",
      "1/1 [==============================] - 0s 8ms/step - loss: 3.3280 - mae: 3.3280\n",
      "Epoch 95/100\n",
      "1/1 [==============================] - 0s 7ms/step - loss: 3.2751 - mae: 3.2751\n",
      "Epoch 96/100\n",
      "1/1 [==============================] - 0s 7ms/step - loss: 3.2269 - mae: 3.2269\n",
      "Epoch 97/100\n",
      "1/1 [==============================] - 0s 10ms/step - loss: 3.3133 - mae: 3.3133\n",
      "Epoch 98/100\n",
      "1/1 [==============================] - 0s 5ms/step - loss: 3.1442 - mae: 3.1442\n",
      "Epoch 99/100\n",
      "1/1 [==============================] - 0s 6ms/step - loss: 3.3189 - mae: 3.3189\n",
      "Epoch 100/100\n",
      "1/1 [==============================] - 0s 5ms/step - loss: 3.2155 - mae: 3.2155\n"
     ]
    },
    {
     "data": {
      "text/plain": [
       "<keras.callbacks.History at 0x1f015f82a00>"
      ]
     },
     "execution_count": 18,
     "metadata": {},
     "output_type": "execute_result"
    }
   ],
   "source": [
    "model = tf.keras.Sequential(\n",
    "    [\n",
    "        tf.keras.layers.Dense(100, activation = \"relu\"),\n",
    "        tf.keras.layers.Dense(100, activation = \"relu\"),\n",
    "        tf.keras.layers.Dense(100, activation = \"relu\"),\n",
    "        tf.keras.layers.Dense(1)\n",
    "    ]\n",
    ")\n",
    "\n",
    "model.compile(\n",
    "    loss = tf.keras.losses.mae,\n",
    "    optimizer = tf.keras.optimizers.SGD(),\n",
    "    metrics = ['mae']\n",
    ")\n",
    "\n",
    "model.fit(\n",
    "    tf.expand_dims(X, axis = -1),\n",
    "    y,\n",
    "    epochs = 100\n",
    ")"
   ]
  },
  {
   "cell_type": "code",
   "execution_count": 19,
   "metadata": {},
   "outputs": [
    {
     "name": "stdout",
     "output_type": "stream",
     "text": [
      "tf.Tensor([-7. -4. -1.  2.  5.  8. 11. 14.], shape=(8,), dtype=float32)\n",
      "tf.Tensor([ 3.  6.  9. 12. 15. 18. 21. 24.], shape=(8,), dtype=float32)\n"
     ]
    }
   ],
   "source": [
    "print(X)\n",
    "print(y)"
   ]
  },
  {
   "cell_type": "code",
   "execution_count": 20,
   "metadata": {},
   "outputs": [
    {
     "name": "stdout",
     "output_type": "stream",
     "text": [
      "1/1 [==============================] - 0s 68ms/step\n"
     ]
    },
    {
     "data": {
      "text/plain": [
       "array([[30.285944]], dtype=float32)"
      ]
     },
     "execution_count": 20,
     "metadata": {},
     "output_type": "execute_result"
    }
   ],
   "source": [
    "y_pred = model.predict([17.0])\n",
    "y_pred"
   ]
  },
  {
   "cell_type": "markdown",
   "metadata": {},
   "source": [
    "#### 47. Steps in improving a model with TensorFlow - Part 3"
   ]
  },
  {
   "cell_type": "code",
   "execution_count": 21,
   "metadata": {},
   "outputs": [
    {
     "name": "stdout",
     "output_type": "stream",
     "text": [
      "Epoch 1/100\n"
     ]
    },
    {
     "name": "stderr",
     "output_type": "stream",
     "text": [
      "c:\\Users\\diego\\miniconda3\\envs\\tf-dev-cert\\lib\\site-packages\\keras\\optimizers\\optimizer_v2\\adam.py:114: UserWarning: The `lr` argument is deprecated, use `learning_rate` instead.\n",
      "  super().__init__(name, **kwargs)\n"
     ]
    },
    {
     "name": "stdout",
     "output_type": "stream",
     "text": [
      "1/1 [==============================] - 0s 365ms/step - loss: 13.1453 - mae: 13.1453\n",
      "Epoch 2/100\n",
      "1/1 [==============================] - 0s 9ms/step - loss: 11.9864 - mae: 11.9864\n",
      "Epoch 3/100\n",
      "1/1 [==============================] - 0s 12ms/step - loss: 11.1691 - mae: 11.1691\n",
      "Epoch 4/100\n",
      "1/1 [==============================] - 0s 11ms/step - loss: 10.1301 - mae: 10.1301\n",
      "Epoch 5/100\n",
      "1/1 [==============================] - 0s 14ms/step - loss: 8.7187 - mae: 8.7187\n",
      "Epoch 6/100\n",
      "1/1 [==============================] - 0s 12ms/step - loss: 6.8842 - mae: 6.8842\n",
      "Epoch 7/100\n",
      "1/1 [==============================] - 0s 13ms/step - loss: 4.5537 - mae: 4.5537\n",
      "Epoch 8/100\n",
      "1/1 [==============================] - 0s 14ms/step - loss: 4.3292 - mae: 4.3292\n",
      "Epoch 9/100\n",
      "1/1 [==============================] - 0s 14ms/step - loss: 5.3532 - mae: 5.3532\n",
      "Epoch 10/100\n",
      "1/1 [==============================] - 0s 13ms/step - loss: 5.7362 - mae: 5.7362\n",
      "Epoch 11/100\n",
      "1/1 [==============================] - 0s 14ms/step - loss: 5.5674 - mae: 5.5674\n",
      "Epoch 12/100\n",
      "1/1 [==============================] - 0s 12ms/step - loss: 5.0324 - mae: 5.0324\n",
      "Epoch 13/100\n",
      "1/1 [==============================] - 0s 15ms/step - loss: 4.2541 - mae: 4.2541\n",
      "Epoch 14/100\n",
      "1/1 [==============================] - 0s 16ms/step - loss: 3.6963 - mae: 3.6963\n",
      "Epoch 15/100\n",
      "1/1 [==============================] - 0s 8ms/step - loss: 3.7025 - mae: 3.7025\n",
      "Epoch 16/100\n",
      "1/1 [==============================] - 0s 14ms/step - loss: 4.3198 - mae: 4.3198\n",
      "Epoch 17/100\n",
      "1/1 [==============================] - 0s 14ms/step - loss: 4.6053 - mae: 4.6053\n",
      "Epoch 18/100\n",
      "1/1 [==============================] - 0s 13ms/step - loss: 4.2243 - mae: 4.2243\n",
      "Epoch 19/100\n",
      "1/1 [==============================] - 0s 14ms/step - loss: 3.5006 - mae: 3.5006\n",
      "Epoch 20/100\n",
      "1/1 [==============================] - 0s 14ms/step - loss: 3.3207 - mae: 3.3207\n",
      "Epoch 21/100\n",
      "1/1 [==============================] - 0s 9ms/step - loss: 3.4225 - mae: 3.4225\n",
      "Epoch 22/100\n",
      "1/1 [==============================] - 0s 5ms/step - loss: 3.6141 - mae: 3.6141\n",
      "Epoch 23/100\n",
      "1/1 [==============================] - 0s 6ms/step - loss: 3.5268 - mae: 3.5268\n",
      "Epoch 24/100\n",
      "1/1 [==============================] - 0s 6ms/step - loss: 3.1947 - mae: 3.1947\n",
      "Epoch 25/100\n",
      "1/1 [==============================] - 0s 6ms/step - loss: 3.0145 - mae: 3.0145\n",
      "Epoch 26/100\n",
      "1/1 [==============================] - 0s 8ms/step - loss: 2.8166 - mae: 2.8166\n",
      "Epoch 27/100\n",
      "1/1 [==============================] - 0s 6ms/step - loss: 2.8604 - mae: 2.8604\n",
      "Epoch 28/100\n",
      "1/1 [==============================] - 0s 8ms/step - loss: 2.8883 - mae: 2.8883\n",
      "Epoch 29/100\n",
      "1/1 [==============================] - 0s 6ms/step - loss: 2.5780 - mae: 2.5780\n",
      "Epoch 30/100\n",
      "1/1 [==============================] - 0s 6ms/step - loss: 2.3344 - mae: 2.3344\n",
      "Epoch 31/100\n",
      "1/1 [==============================] - 0s 5ms/step - loss: 2.2438 - mae: 2.2438\n",
      "Epoch 32/100\n",
      "1/1 [==============================] - 0s 6ms/step - loss: 2.1643 - mae: 2.1643\n",
      "Epoch 33/100\n",
      "1/1 [==============================] - 0s 6ms/step - loss: 1.8940 - mae: 1.8940\n",
      "Epoch 34/100\n",
      "1/1 [==============================] - 0s 5ms/step - loss: 1.5678 - mae: 1.5678\n",
      "Epoch 35/100\n",
      "1/1 [==============================] - 0s 5ms/step - loss: 1.2352 - mae: 1.2352\n",
      "Epoch 36/100\n",
      "1/1 [==============================] - 0s 6ms/step - loss: 1.0280 - mae: 1.0280\n",
      "Epoch 37/100\n",
      "1/1 [==============================] - 0s 5ms/step - loss: 0.6178 - mae: 0.6178\n",
      "Epoch 38/100\n",
      "1/1 [==============================] - 0s 6ms/step - loss: 0.5736 - mae: 0.5736\n",
      "Epoch 39/100\n",
      "1/1 [==============================] - 0s 8ms/step - loss: 0.5812 - mae: 0.5812\n",
      "Epoch 40/100\n",
      "1/1 [==============================] - 0s 5ms/step - loss: 1.4781 - mae: 1.4781\n",
      "Epoch 41/100\n",
      "1/1 [==============================] - 0s 8ms/step - loss: 1.7475 - mae: 1.7475\n",
      "Epoch 42/100\n",
      "1/1 [==============================] - 0s 5ms/step - loss: 1.0016 - mae: 1.0016\n",
      "Epoch 43/100\n",
      "1/1 [==============================] - 0s 7ms/step - loss: 2.1332 - mae: 2.1332\n",
      "Epoch 44/100\n",
      "1/1 [==============================] - 0s 5ms/step - loss: 2.3618 - mae: 2.3618\n",
      "Epoch 45/100\n",
      "1/1 [==============================] - 0s 6ms/step - loss: 1.3372 - mae: 1.3372\n",
      "Epoch 46/100\n",
      "1/1 [==============================] - 0s 6ms/step - loss: 1.4198 - mae: 1.4198\n",
      "Epoch 47/100\n",
      "1/1 [==============================] - 0s 6ms/step - loss: 1.8755 - mae: 1.8755\n",
      "Epoch 48/100\n",
      "1/1 [==============================] - 0s 6ms/step - loss: 1.4652 - mae: 1.4652\n",
      "Epoch 49/100\n",
      "1/1 [==============================] - 0s 6ms/step - loss: 0.6075 - mae: 0.6075\n",
      "Epoch 50/100\n",
      "1/1 [==============================] - 0s 9ms/step - loss: 1.2941 - mae: 1.2941\n",
      "Epoch 51/100\n",
      "1/1 [==============================] - 0s 5ms/step - loss: 1.7419 - mae: 1.7419\n",
      "Epoch 52/100\n",
      "1/1 [==============================] - 0s 9ms/step - loss: 1.1399 - mae: 1.1399\n",
      "Epoch 53/100\n",
      "1/1 [==============================] - 0s 5ms/step - loss: 0.4385 - mae: 0.4385\n",
      "Epoch 54/100\n",
      "1/1 [==============================] - 0s 8ms/step - loss: 0.8763 - mae: 0.8763\n",
      "Epoch 55/100\n",
      "1/1 [==============================] - 0s 5ms/step - loss: 0.6214 - mae: 0.6214\n",
      "Epoch 56/100\n",
      "1/1 [==============================] - 0s 6ms/step - loss: 0.6260 - mae: 0.6260\n",
      "Epoch 57/100\n",
      "1/1 [==============================] - 0s 5ms/step - loss: 0.8966 - mae: 0.8966\n",
      "Epoch 58/100\n",
      "1/1 [==============================] - 0s 6ms/step - loss: 0.5531 - mae: 0.5531\n",
      "Epoch 59/100\n",
      "1/1 [==============================] - 0s 6ms/step - loss: 0.4035 - mae: 0.4035\n",
      "Epoch 60/100\n",
      "1/1 [==============================] - 0s 7ms/step - loss: 0.4866 - mae: 0.4866\n",
      "Epoch 61/100\n",
      "1/1 [==============================] - 0s 6ms/step - loss: 0.5254 - mae: 0.5254\n",
      "Epoch 62/100\n",
      "1/1 [==============================] - 0s 6ms/step - loss: 0.3629 - mae: 0.3629\n",
      "Epoch 63/100\n",
      "1/1 [==============================] - 0s 6ms/step - loss: 0.5795 - mae: 0.5795\n",
      "Epoch 64/100\n",
      "1/1 [==============================] - 0s 5ms/step - loss: 0.5431 - mae: 0.5431\n",
      "Epoch 65/100\n",
      "1/1 [==============================] - 0s 6ms/step - loss: 0.2603 - mae: 0.2603\n",
      "Epoch 66/100\n",
      "1/1 [==============================] - 0s 6ms/step - loss: 0.3758 - mae: 0.3758\n",
      "Epoch 67/100\n",
      "1/1 [==============================] - 0s 5ms/step - loss: 0.3047 - mae: 0.3047\n",
      "Epoch 68/100\n",
      "1/1 [==============================] - 0s 7ms/step - loss: 0.1387 - mae: 0.1387\n",
      "Epoch 69/100\n",
      "1/1 [==============================] - 0s 8ms/step - loss: 0.4048 - mae: 0.4048\n",
      "Epoch 70/100\n",
      "1/1 [==============================] - 0s 6ms/step - loss: 0.3370 - mae: 0.3370\n",
      "Epoch 71/100\n",
      "1/1 [==============================] - 0s 9ms/step - loss: 0.5913 - mae: 0.5913\n",
      "Epoch 72/100\n",
      "1/1 [==============================] - 0s 6ms/step - loss: 0.4190 - mae: 0.4190\n",
      "Epoch 73/100\n",
      "1/1 [==============================] - 0s 6ms/step - loss: 0.4436 - mae: 0.4436\n",
      "Epoch 74/100\n",
      "1/1 [==============================] - 0s 5ms/step - loss: 0.5607 - mae: 0.5607\n",
      "Epoch 75/100\n",
      "1/1 [==============================] - 0s 6ms/step - loss: 0.1848 - mae: 0.1848\n",
      "Epoch 76/100\n",
      "1/1 [==============================] - 0s 5ms/step - loss: 0.8035 - mae: 0.8035\n",
      "Epoch 77/100\n",
      "1/1 [==============================] - 0s 6ms/step - loss: 0.9301 - mae: 0.9301\n",
      "Epoch 78/100\n",
      "1/1 [==============================] - 0s 5ms/step - loss: 0.4746 - mae: 0.4746\n",
      "Epoch 79/100\n",
      "1/1 [==============================] - 0s 5ms/step - loss: 0.6071 - mae: 0.6071\n",
      "Epoch 80/100\n",
      "1/1 [==============================] - 0s 6ms/step - loss: 0.9079 - mae: 0.9079\n",
      "Epoch 81/100\n",
      "1/1 [==============================] - 0s 5ms/step - loss: 0.6816 - mae: 0.6816\n",
      "Epoch 82/100\n",
      "1/1 [==============================] - 0s 8ms/step - loss: 0.2259 - mae: 0.2259\n",
      "Epoch 83/100\n",
      "1/1 [==============================] - 0s 8ms/step - loss: 0.3942 - mae: 0.3942\n",
      "Epoch 84/100\n",
      "1/1 [==============================] - 0s 9ms/step - loss: 0.1701 - mae: 0.1701\n",
      "Epoch 85/100\n",
      "1/1 [==============================] - 0s 5ms/step - loss: 0.5038 - mae: 0.5038\n",
      "Epoch 86/100\n",
      "1/1 [==============================] - 0s 6ms/step - loss: 0.3914 - mae: 0.3914\n",
      "Epoch 87/100\n",
      "1/1 [==============================] - 0s 6ms/step - loss: 0.2945 - mae: 0.2945\n",
      "Epoch 88/100\n",
      "1/1 [==============================] - 0s 6ms/step - loss: 0.3009 - mae: 0.3009\n",
      "Epoch 89/100\n",
      "1/1 [==============================] - 0s 9ms/step - loss: 0.2930 - mae: 0.2930\n",
      "Epoch 90/100\n",
      "1/1 [==============================] - 0s 7ms/step - loss: 0.2408 - mae: 0.2408\n",
      "Epoch 91/100\n",
      "1/1 [==============================] - 0s 8ms/step - loss: 0.3822 - mae: 0.3822\n",
      "Epoch 92/100\n",
      "1/1 [==============================] - 0s 6ms/step - loss: 0.3320 - mae: 0.3320\n",
      "Epoch 93/100\n",
      "1/1 [==============================] - 0s 7ms/step - loss: 0.3233 - mae: 0.3233\n",
      "Epoch 94/100\n",
      "1/1 [==============================] - 0s 5ms/step - loss: 0.4056 - mae: 0.4056\n",
      "Epoch 95/100\n",
      "1/1 [==============================] - 0s 7ms/step - loss: 0.0659 - mae: 0.0659\n",
      "Epoch 96/100\n",
      "1/1 [==============================] - 0s 5ms/step - loss: 0.0880 - mae: 0.0880\n",
      "Epoch 97/100\n",
      "1/1 [==============================] - 0s 7ms/step - loss: 0.3519 - mae: 0.3519\n",
      "Epoch 98/100\n",
      "1/1 [==============================] - 0s 5ms/step - loss: 0.1293 - mae: 0.1293\n",
      "Epoch 99/100\n",
      "1/1 [==============================] - 0s 6ms/step - loss: 0.5692 - mae: 0.5692\n",
      "Epoch 100/100\n",
      "1/1 [==============================] - 0s 5ms/step - loss: 0.6579 - mae: 0.6579\n"
     ]
    },
    {
     "data": {
      "text/plain": [
       "<keras.callbacks.History at 0x1f0294128e0>"
      ]
     },
     "execution_count": 21,
     "metadata": {},
     "output_type": "execute_result"
    }
   ],
   "source": [
    "model = tf.keras.Sequential(\n",
    "    [\n",
    "        tf.keras.layers.Dense(50, activation = \"relu\"),\n",
    "        tf.keras.layers.Dense(50, activation = \"relu\"),\n",
    "        tf.keras.layers.Dense(50, activation = \"relu\"),\n",
    "        tf.keras.layers.Dense(1),\n",
    "    ]\n",
    ")\n",
    "\n",
    "model.compile(\n",
    "    loss = tf.keras.losses.mae,\n",
    "    optimizer = tf.keras.optimizers.Adam(lr=0.01),\n",
    "    metrics = ['mae']\n",
    ")\n",
    "\n",
    "model.fit(\n",
    "    tf.expand_dims(\n",
    "        X, \n",
    "        axis = -1\n",
    "    ),\n",
    "    y,\n",
    "    epochs = 100\n",
    ")"
   ]
  },
  {
   "cell_type": "code",
   "execution_count": 22,
   "metadata": {},
   "outputs": [
    {
     "name": "stdout",
     "output_type": "stream",
     "text": [
      "1/1 [==============================] - 0s 68ms/step\n"
     ]
    },
    {
     "data": {
      "text/plain": [
       "array([[26.513231]], dtype=float32)"
      ]
     },
     "execution_count": 22,
     "metadata": {},
     "output_type": "execute_result"
    }
   ],
   "source": [
    "y_pred = model.predict([17.0])\n",
    "y_pred"
   ]
  },
  {
   "cell_type": "markdown",
   "metadata": {},
   "source": [
    "### 48 - 55. Evaluating a TensorFlow Model"
   ]
  },
  {
   "cell_type": "markdown",
   "metadata": {},
   "source": [
    "In practice, a typical workflow we'll have to go through when building neural networks is:\n",
    "\n",
    "```\n",
    "Build mode -> Fit -> Evaluate -> tweak model -> Build mode -> Fit -> Evaluate -> tweak model -> Build mode -> Fit -> Evaluate -> tweak model -> ...\n",
    "```"
   ]
  },
  {
   "cell_type": "markdown",
   "metadata": {},
   "source": [
    "#### 48. \"Visualize, Visualize, Visualize\""
   ]
  },
  {
   "cell_type": "markdown",
   "metadata": {},
   "source": [
    "It's a good idea to visualize:\n",
    "* **Data** - What data are we working with? What does it look like?\n",
    "* **Model** - What does our model look like?\n",
    "* **Training of a Model** - How does a model perform while it learns?\n",
    "* **Predictions** - How do the predictions of a model line up against the groudn truth (original labels)?"
   ]
  },
  {
   "cell_type": "code",
   "execution_count": 4,
   "metadata": {},
   "outputs": [
    {
     "data": {
      "text/plain": [
       "(<tf.Tensor: shape=(50,), dtype=int32, numpy=\n",
       " array([-100,  -96,  -92,  -88,  -84,  -80,  -76,  -72,  -68,  -64,  -60,\n",
       "         -56,  -52,  -48,  -44,  -40,  -36,  -32,  -28,  -24,  -20,  -16,\n",
       "         -12,   -8,   -4,    0,    4,    8,   12,   16,   20,   24,   28,\n",
       "          32,   36,   40,   44,   48,   52,   56,   60,   64,   68,   72,\n",
       "          76,   80,   84,   88,   92,   96])>,\n",
       " <tf.Tensor: shape=(50,), dtype=int32, numpy=\n",
       " array([-90, -86, -82, -78, -74, -70, -66, -62, -58, -54, -50, -46, -42,\n",
       "        -38, -34, -30, -26, -22, -18, -14, -10,  -6,  -2,   2,   6,  10,\n",
       "         14,  18,  22,  26,  30,  34,  38,  42,  46,  50,  54,  58,  62,\n",
       "         66,  70,  74,  78,  82,  86,  90,  94,  98, 102, 106])>)"
      ]
     },
     "execution_count": 4,
     "metadata": {},
     "output_type": "execute_result"
    }
   ],
   "source": [
    "# Make bigger dataset\n",
    "X = tf.range(-100, 100, 4)\n",
    "y = (X + 10)\n",
    "\n",
    "X, y"
   ]
  },
  {
   "cell_type": "code",
   "execution_count": 24,
   "metadata": {},
   "outputs": [
    {
     "data": {
      "text/plain": [
       "<matplotlib.collections.PathCollection at 0x1f0293e97f0>"
      ]
     },
     "execution_count": 24,
     "metadata": {},
     "output_type": "execute_result"
    },
    {
     "data": {
      "image/png": "[encoded data removed]",
      "text/plain": [
       "<Figure size 640x480 with 1 Axes>"
      ]
     },
     "metadata": {},
     "output_type": "display_data"
    }
   ],
   "source": [
    "# Visualize the data\n",
    "plt.scatter(X, y)"
   ]
  },
  {
   "cell_type": "markdown",
   "metadata": {},
   "source": [
    "#### 49. The Three Datasets"
   ]
  },
  {
   "cell_type": "code",
   "execution_count": 5,
   "metadata": {},
   "outputs": [],
   "source": [
    "# Training | Validation(?) | Test\n",
    "X_train, X_test, y_train, y_test = train_test_split(\n",
    "    X.numpy(), \n",
    "    y.numpy(),\n",
    "    test_size = 0.2,\n",
    "    random_state = 42\n",
    ")\n",
    "\n",
    "X_train = tf.convert_to_tensor(X_train)\n",
    "X_test = tf.convert_to_tensor(X_test)\n",
    "y_train = tf.convert_to_tensor(y_train)\n",
    "y_test = tf.convert_to_tensor(y_test)"
   ]
  },
  {
   "cell_type": "code",
   "execution_count": 26,
   "metadata": {},
   "outputs": [
    {
     "data": {
      "image/png": "[encoded data removed]",
      "text/plain": [
       "<Figure size 1000x1000 with 3 Axes>"
      ]
     },
     "metadata": {},
     "output_type": "display_data"
    }
   ],
   "source": [
    "# Visualize splitted data\n",
    "fig, axes = plt.subplots(\n",
    "    figsize = (10, 10),\n",
    "    nrows=3,\n",
    "    ncols  = 1\n",
    ")\n",
    "\n",
    "# Plot training data\n",
    "axes[0].scatter(X_train, y_train, color='blue', label='Training data')\n",
    "axes[0].scatter(X_test, y_test, color='red', label='Testing data')\n",
    "axes[0].set_title('All Data')\n",
    "axes[0].set_xlabel('X')\n",
    "axes[0].set_ylabel('y')\n",
    "axes[0].legend()\n",
    "\n",
    "# Plot training data\n",
    "axes[1].scatter(X_train, y_train, color='blue', label='Training data')\n",
    "axes[1].set_title('Training Data')\n",
    "axes[1].set_xlabel('X')\n",
    "axes[1].set_ylabel('y')\n",
    "axes[1].legend()\n",
    "\n",
    "# Plot testing data\n",
    "axes[2].scatter(X_test, y_test, color='red', label='Testing data')\n",
    "axes[2].set_title('Testing Data')\n",
    "axes[2].set_xlabel('X')\n",
    "axes[2].set_ylabel('y')\n",
    "axes[2].legend()\n",
    "\n",
    "# Adjust layout\n",
    "plt.tight_layout()\n",
    "\n",
    "# Show plot\n",
    "plt.show()"
   ]
  },
  {
   "cell_type": "markdown",
   "metadata": {},
   "source": [
    "#### 50. Getting a model summary"
   ]
  },
  {
   "cell_type": "code",
   "execution_count": 27,
   "metadata": {},
   "outputs": [],
   "source": [
    "# Let's build a neural network for our new data\n",
    "\n",
    "# Create model\n",
    "model = tf.keras.Sequential(\n",
    "    [\n",
    "        tf.keras.layers.Dense(1)\n",
    "    ]\n",
    ")\n",
    "\n",
    "# Compile Model\n",
    "model.compile(\n",
    "    loss = tf.keras.losses.mae,\n",
    "    optimizer = tf.keras.optimizers.SGD(),\n",
    "    metrics = ['mae']\n",
    ")\n",
    "\n",
    "# Fit Model\n",
    "# model.fit(\n",
    "#     tf.expand_dims(X_train, axis = -1), \n",
    "#     y_train, \n",
    "#     epochs = 100\n",
    "# )"
   ]
  },
  {
   "cell_type": "code",
   "execution_count": 28,
   "metadata": {},
   "outputs": [
    {
     "ename": "ValueError",
     "evalue": "This model has not yet been built. Build the model first by calling `build()` or by calling the model on a batch of data.",
     "output_type": "error",
     "traceback": [
      "\u001b[1;31m---------------------------------------------------------------------------\u001b[0m",
      "\u001b[1;31mValueError\u001b[0m                                Traceback (most recent call last)",
      "Cell \u001b[1;32mIn[28], line 1\u001b[0m\n\u001b[1;32m----> 1\u001b[0m \u001b[43mmodel\u001b[49m\u001b[38;5;241;43m.\u001b[39;49m\u001b[43msummary\u001b[49m\u001b[43m(\u001b[49m\u001b[43m)\u001b[49m\n",
      "File \u001b[1;32mc:\\Users\\diego\\miniconda3\\envs\\tf-dev-cert\\lib\\site-packages\\keras\\engine\\training.py:3214\u001b[0m, in \u001b[0;36mModel.summary\u001b[1;34m(self, line_length, positions, print_fn, expand_nested, show_trainable, layer_range)\u001b[0m\n\u001b[0;32m   3184\u001b[0m \u001b[38;5;250m\u001b[39m\u001b[38;5;124;03m\"\"\"Prints a string summary of the network.\u001b[39;00m\n\u001b[0;32m   3185\u001b[0m \n\u001b[0;32m   3186\u001b[0m \u001b[38;5;124;03mArgs:\u001b[39;00m\n\u001b[1;32m   (...)\u001b[0m\n\u001b[0;32m   3211\u001b[0m \u001b[38;5;124;03m    ValueError: if `summary()` is called before the model is built.\u001b[39;00m\n\u001b[0;32m   3212\u001b[0m \u001b[38;5;124;03m\"\"\"\u001b[39;00m\n\u001b[0;32m   3213\u001b[0m \u001b[38;5;28;01mif\u001b[39;00m \u001b[38;5;129;01mnot\u001b[39;00m \u001b[38;5;28mself\u001b[39m\u001b[38;5;241m.\u001b[39mbuilt:\n\u001b[1;32m-> 3214\u001b[0m     \u001b[38;5;28;01mraise\u001b[39;00m \u001b[38;5;167;01mValueError\u001b[39;00m(\n\u001b[0;32m   3215\u001b[0m         \u001b[38;5;124m\"\u001b[39m\u001b[38;5;124mThis model has not yet been built. \u001b[39m\u001b[38;5;124m\"\u001b[39m\n\u001b[0;32m   3216\u001b[0m         \u001b[38;5;124m\"\u001b[39m\u001b[38;5;124mBuild the model first by calling `build()` or by calling \u001b[39m\u001b[38;5;124m\"\u001b[39m\n\u001b[0;32m   3217\u001b[0m         \u001b[38;5;124m\"\u001b[39m\u001b[38;5;124mthe model on a batch of data.\u001b[39m\u001b[38;5;124m\"\u001b[39m\n\u001b[0;32m   3218\u001b[0m     )\n\u001b[0;32m   3219\u001b[0m layer_utils\u001b[38;5;241m.\u001b[39mprint_summary(\n\u001b[0;32m   3220\u001b[0m     \u001b[38;5;28mself\u001b[39m,\n\u001b[0;32m   3221\u001b[0m     line_length\u001b[38;5;241m=\u001b[39mline_length,\n\u001b[1;32m   (...)\u001b[0m\n\u001b[0;32m   3226\u001b[0m     layer_range\u001b[38;5;241m=\u001b[39mlayer_range,\n\u001b[0;32m   3227\u001b[0m )\n",
      "\u001b[1;31mValueError\u001b[0m: This model has not yet been built. Build the model first by calling `build()` or by calling the model on a batch of data."
     ]
    }
   ],
   "source": [
    "model.summary()"
   ]
  },
  {
   "cell_type": "code",
   "execution_count": null,
   "metadata": {},
   "outputs": [
    {
     "name": "stdout",
     "output_type": "stream",
     "text": [
      "Model: \"sequential_5\"\n",
      "_________________________________________________________________\n",
      " Layer (type)                Output Shape              Param #   \n",
      "=================================================================\n",
      " dense_11 (Dense)            (None, 1)                 2         \n",
      "                                                                 \n",
      "=================================================================\n",
      "Total params: 2\n",
      "Trainable params: 2\n",
      "Non-trainable params: 0\n",
      "_________________________________________________________________\n"
     ]
    }
   ],
   "source": [
    "# Create a model that builds automatically by defining the input_shape argument in the first layer\n",
    "tf.random.set_seed(42)\n",
    "model = tf.keras.Sequential(\n",
    "    [\n",
    "        tf.keras.layers.Dense(1, input_shape = [1])\n",
    "    ]\n",
    ")\n",
    "\n",
    "model.compile(\n",
    "    loss = tf.keras.losses.mae,\n",
    "    optimizer = tf.keras.optimizers.SGD(),\n",
    "    metrics = ['mae']\n",
    ")\n",
    "\n",
    "model.summary()"
   ]
  },
  {
   "cell_type": "markdown",
   "metadata": {},
   "source": [
    "| Param Type    | Description          |\n",
    "| :-----------: | -------------------- |\n",
    "| Total         | Total numbers of parameters in the model (How many diff patterns our model is going to try to learn within the relationship between X and y data) |\n",
    "| Trainable     | These are the params (patterns) the model can update as it trains |\n",
    "| Non-trainable | Non-trainable params - Aren't updated during training (Typically when you bring in already learn patterns or param from other models during **Transfer Learning**) |\n",
    "\n",
    "\n",
    "| Resources   |\n",
    "| :---------: |\n",
    "| [What are primary trainable parameters of a neural network?](https://medium.com/@kavita_gupta/what-are-primary-trainable-parameters-of-a-neural-network-6b99f887957c#:~:text=Trainable%20parameters%20means%20the%20parameters,impact%20network's%20accuracy%20and%20performance.) |\n",
    "| [Weights and Bias](https://medium.com/fintechexplained/neural-networks-bias-and-weights-10b53e6285da) |\n",
    "| [What's a non-trainable parameter?](https://www.baeldung.com/cs/non-trainable-parameter) |"
   ]
  },
  {
   "cell_type": "markdown",
   "metadata": {},
   "source": [
    "##### **50. Exercise**"
   ]
  },
  {
   "cell_type": "code",
   "execution_count": 29,
   "metadata": {},
   "outputs": [
    {
     "name": "stdout",
     "output_type": "stream",
     "text": [
      "0 units/neurons\n",
      "Model: \"sequential_5\"\n",
      "_________________________________________________________________\n",
      " Layer (type)                Output Shape              Param #   \n",
      "=================================================================\n",
      " dense_11 (Dense)            (None, 0)                 0         \n",
      "                                                                 \n",
      "=================================================================\n",
      "Total params: 0\n",
      "Trainable params: 0\n",
      "Non-trainable params: 0\n",
      "_________________________________________________________________\n",
      "1 units/neurons\n",
      "Model: \"sequential_6\"\n",
      "_________________________________________________________________\n",
      " Layer (type)                Output Shape              Param #   \n",
      "=================================================================\n",
      " dense_12 (Dense)            (None, 1)                 2         \n",
      "                                                                 \n",
      "=================================================================\n",
      "Total params: 2\n",
      "Trainable params: 2\n",
      "Non-trainable params: 0\n",
      "_________________________________________________________________\n",
      "2 units/neurons\n",
      "Model: \"sequential_7\"\n",
      "_________________________________________________________________\n",
      " Layer (type)                Output Shape              Param #   \n",
      "=================================================================\n",
      " dense_13 (Dense)            (None, 2)                 4         \n",
      "                                                                 \n",
      "=================================================================\n",
      "Total params: 4\n",
      "Trainable params: 4\n",
      "Non-trainable params: 0\n",
      "_________________________________________________________________\n",
      "3 units/neurons\n",
      "Model: \"sequential_8\"\n",
      "_________________________________________________________________\n",
      " Layer (type)                Output Shape              Param #   \n",
      "=================================================================\n",
      " dense_14 (Dense)            (None, 3)                 6         \n",
      "                                                                 \n",
      "=================================================================\n",
      "Total params: 6\n",
      "Trainable params: 6\n",
      "Non-trainable params: 0\n",
      "_________________________________________________________________\n"
     ]
    },
    {
     "name": "stdout",
     "output_type": "stream",
     "text": [
      "4 units/neurons\n",
      "Model: \"sequential_9\"\n",
      "_________________________________________________________________\n",
      " Layer (type)                Output Shape              Param #   \n",
      "=================================================================\n",
      " dense_15 (Dense)            (None, 4)                 8         \n",
      "                                                                 \n",
      "=================================================================\n",
      "Total params: 8\n",
      "Trainable params: 8\n",
      "Non-trainable params: 0\n",
      "_________________________________________________________________\n",
      "5 units/neurons\n",
      "Model: \"sequential_10\"\n",
      "_________________________________________________________________\n",
      " Layer (type)                Output Shape              Param #   \n",
      "=================================================================\n",
      " dense_16 (Dense)            (None, 5)                 10        \n",
      "                                                                 \n",
      "=================================================================\n",
      "Total params: 10\n",
      "Trainable params: 10\n",
      "Non-trainable params: 0\n",
      "_________________________________________________________________\n",
      "6 units/neurons\n",
      "Model: \"sequential_11\"\n",
      "_________________________________________________________________\n",
      " Layer (type)                Output Shape              Param #   \n",
      "=================================================================\n",
      " dense_17 (Dense)            (None, 6)                 12        \n",
      "                                                                 \n",
      "=================================================================\n",
      "Total params: 12\n",
      "Trainable params: 12\n",
      "Non-trainable params: 0\n",
      "_________________________________________________________________\n",
      "7 units/neurons\n",
      "Model: \"sequential_12\"\n",
      "_________________________________________________________________\n",
      " Layer (type)                Output Shape              Param #   \n",
      "=================================================================\n",
      " dense_18 (Dense)            (None, 7)                 14        \n",
      "                                                                 \n",
      "=================================================================\n",
      "Total params: 14\n",
      "Trainable params: 14\n",
      "Non-trainable params: 0\n",
      "_________________________________________________________________\n",
      "8 units/neurons\n",
      "Model: \"sequential_13\"\n",
      "_________________________________________________________________\n",
      " Layer (type)                Output Shape              Param #   \n",
      "=================================================================\n",
      " dense_19 (Dense)            (None, 8)                 16        \n",
      "                                                                 \n",
      "=================================================================\n",
      "Total params: 16\n",
      "Trainable params: 16\n",
      "Non-trainable params: 0\n",
      "_________________________________________________________________\n",
      "9 units/neurons\n",
      "Model: \"sequential_14\"\n",
      "_________________________________________________________________\n",
      " Layer (type)                Output Shape              Param #   \n",
      "=================================================================\n",
      " dense_20 (Dense)            (None, 9)                 18        \n",
      "                                                                 \n",
      "=================================================================\n",
      "Total params: 18\n",
      "Trainable params: 18\n",
      "Non-trainable params: 0\n",
      "_________________________________________________________________\n"
     ]
    }
   ],
   "source": [
    "# Play around with the number of hidden units/neurons in the dense layer, see how that affects the number of parameters (total and trainable) by calling `model.summary()`\n",
    "summaries = []\n",
    "for i in range(10):\n",
    "    print(f\"{i} units/neurons\")\n",
    "    model = tf.keras.Sequential(\n",
    "        [\n",
    "            tf.keras.layers.Dense(i, input_shape=[1])\n",
    "        ]\n",
    "    )\n",
    "\n",
    "    model.compile(\n",
    "        loss = tf.keras.losses.mae,\n",
    "        optimizer = tf.keras.optimizers.SGD(),\n",
    "        metrics = ['mae']\n",
    "    )\n",
    "\n",
    "    model.summary()"
   ]
  },
  {
   "cell_type": "markdown",
   "metadata": {},
   "source": [
    "Conclusion: Every time we add a unit to a single layer model, all inputs go to each unit, therefore this happens:\n",
    "\n",
    "If 2 params:\n",
    "* 1 unit - (params) * (units)\n",
    "* 2 units - (params) * (units)\n",
    "* 3 units - (params) * (units)\n",
    "* ...\n",
    "* N units - (params) * (units)"
   ]
  },
  {
   "cell_type": "markdown",
   "metadata": {},
   "source": [
    "#### 51. Visualizing a Model's Layer"
   ]
  },
  {
   "cell_type": "markdown",
   "metadata": {},
   "source": [
    "* [tf.keras.utils.plot_model](https://www.tensorflow.org/api_docs/python/tf/keras/utils/plot_model)"
   ]
  },
  {
   "cell_type": "markdown",
   "metadata": {},
   "source": [
    "Using `plot_model()` from `tensorflow.keras.utils` will allow us to visualize the models we created using **TensorFlow**, to use this function we need to install `pydot` and `graphviz`, either adding them to the `requirements.txt`, using `pip install pydot graphviz` or using conda-cli to install the packages \n",
    "\n",
    "`pydot` is needed to run the `plot_model` and `pydot` needs `graphviz` to work properly"
   ]
  },
  {
   "cell_type": "code",
   "execution_count": 33,
   "metadata": {},
   "outputs": [
    {
     "data": {
      "image/png": "[encoded data removed]",
      "text/plain": [
       "<IPython.core.display.Image object>"
      ]
     },
     "execution_count": 33,
     "metadata": {},
     "output_type": "execute_result"
    }
   ],
   "source": [
    "plot_model(model=model, show_shapes=True)"
   ]
  },
  {
   "cell_type": "markdown",
   "metadata": {},
   "source": [
    "#### 52. Visualizing a Model's Predictions"
   ]
  },
  {
   "cell_type": "markdown",
   "metadata": {},
   "source": [
    "To visualize predictions, it's a good idea to plot them against the ground truth labels.\n",
    "\n",
    "Often you'll see this in the form of `y_test` or `y_true` vs `y_pred` (fround truth versus your model's predictions)"
   ]
  },
  {
   "cell_type": "code",
   "execution_count": 50,
   "metadata": {},
   "outputs": [
    {
     "name": "stderr",
     "output_type": "stream",
     "text": [
      "c:\\Users\\diego\\miniconda3\\envs\\tf-dev-cert\\lib\\site-packages\\keras\\optimizers\\optimizer_v2\\adam.py:114: UserWarning: The `lr` argument is deprecated, use `learning_rate` instead.\n",
      "  super().__init__(name, **kwargs)\n"
     ]
    },
    {
     "data": {
      "text/plain": [
       "<keras.callbacks.History at 0x1f13f91f760>"
      ]
     },
     "execution_count": 50,
     "metadata": {},
     "output_type": "execute_result"
    }
   ],
   "source": [
    "model = tf.keras.Sequential(\n",
    "    [\n",
    "        tf.keras.layers.Dense(50, activation = 'relu'),\n",
    "        tf.keras.layers.Dense(50, activation = 'relu'),\n",
    "        tf.keras.layers.Dense(50, activation = 'relu'),\n",
    "        tf.keras.layers.Dense(1)\n",
    "    ]\n",
    ")\n",
    "\n",
    "model.compile(\n",
    "    loss = tf.keras.losses.mae,\n",
    "    optimizer = tf.keras.optimizers.Adam(lr=0.01),\n",
    "    metrics = ['mae']\n",
    ")\n",
    "\n",
    "model.fit(tf.expand_dims(X_train, axis=-1), y_train, epochs=100, verbose = 0)"
   ]
  },
  {
   "cell_type": "code",
   "execution_count": 51,
   "metadata": {},
   "outputs": [
    {
     "name": "stdout",
     "output_type": "stream",
     "text": [
      "1/1 [==============================] - 0s 54ms/step\n"
     ]
    },
    {
     "data": {
      "text/plain": [
       "array([[-43.005993],\n",
       "       [ 63.55314 ],\n",
       "       [ 28.187595],\n",
       "       [ 87.13017 ],\n",
       "       [-25.447376],\n",
       "       [ 98.91869 ],\n",
       "       [ 12.47102 ],\n",
       "       [  8.550303],\n",
       "       [ 36.046608],\n",
       "       [-16.636824]], dtype=float32)"
      ]
     },
     "execution_count": 51,
     "metadata": {},
     "output_type": "execute_result"
    }
   ],
   "source": [
    "# Make predictions\n",
    "y_pred = model.predict(X_test)\n",
    "y_pred"
   ]
  },
  {
   "cell_type": "code",
   "execution_count": 52,
   "metadata": {},
   "outputs": [
    {
     "data": {
      "text/plain": [
       "<tf.Tensor: shape=(10,), dtype=int32, numpy=array([-38,  66,  30,  90, -22, 102,  14,  10,  38, -14])>"
      ]
     },
     "execution_count": 52,
     "metadata": {},
     "output_type": "execute_result"
    }
   ],
   "source": [
    "y_test"
   ]
  },
  {
   "cell_type": "code",
   "execution_count": 11,
   "metadata": {},
   "outputs": [],
   "source": [
    "def check_predictions(predictions, train_data = X_train, train_labels = y_train, test_data = X_test, test_labels = y_test):\n",
    "    '''\n",
    "    Plots training and test data and compares predictions to ground truth labels\n",
    "    (train_data = X_train, train_labels = y_train, test_data = X_test, test_labels = y_test, predictions = y_pred)\n",
    "    '''\n",
    "    \n",
    "    plt.figure(figsize=(10,7))\n",
    "\n",
    "    # Training data in blue\n",
    "    plt.scatter(train_data, train_labels, c='b', label='Training Data')\n",
    "    # Test data in green\n",
    "    plt.scatter(test_data, test_labels, c='g', label='Testing Data')\n",
    "    # Predictions in red\n",
    "    plt.scatter(test_data, predictions, c='r', label='Predictions')\n",
    "\n",
    "    plt.legend()\n",
    "    plt.tight_layout()\n",
    "    plt.show()\n"
   ]
  },
  {
   "cell_type": "code",
   "execution_count": 55,
   "metadata": {},
   "outputs": [
    {
     "data": {
      "image/png": "[encoded data removed]",
      "text/plain": [
       "<Figure size 1000x700 with 1 Axes>"
      ]
     },
     "metadata": {},
     "output_type": "display_data"
    }
   ],
   "source": [
    "check_predictions(\n",
    "    train_data = X_train, \n",
    "    train_labels = y_train, \n",
    "    test_data = X_test, \n",
    "    test_labels = y_test, \n",
    "    predictions = y_pred\n",
    ")"
   ]
  },
  {
   "cell_type": "markdown",
   "metadata": {},
   "source": [
    "#### 53. Common Regression Evaluation Metrics"
   ]
  },
  {
   "cell_type": "markdown",
   "metadata": {},
   "source": [
    "Depending on the problem we work on there will be different evaluation metrics to evaluate your model's performance\n",
    "\n",
    "| Metric Name         | TensorFlow Code                                               | When to Use                            |\n",
    "| ------------------- | ------------------------------------------------------------- | -------------------------------------- |\n",
    "| Mean Absolute Error | `tf.keras.losses.MAE()` or `tf.metrics.mean_absolute_error()` | Starter metric for regression problems |\n",
    "| Mean Square Error   | `tf.keras.losses.MSE()` or `tf.metrics.mean_square_error()`   | When larger errors are more significant than smaller ones |\n",
    "| [Huber](https://en.wikipedia.org/wiki/Huber_loss) | `tf.keras.losses.Huber()`                                     | Combination of MSE and MAE. Less sensitive to outliers than MSE. |\n",
    "\n",
    "Since we're working on a regression, we have 2 main metrics:\n",
    "* [MAE - Mean Absolute Error](https://en.wikipedia.org/wiki/Mean_absolute_error)\n",
    "  > On average, how wrong is each of my model's predictions\n",
    "\n",
    "* [MSE - Mean Squared Error](https://en.wikipedia.org/wiki/Mean_squared_error)\n",
    "  > Square the average errors"
   ]
  },
  {
   "cell_type": "code",
   "execution_count": 56,
   "metadata": {},
   "outputs": [
    {
     "name": "stdout",
     "output_type": "stream",
     "text": [
      "1/1 [==============================] - 0s 133ms/step - loss: 2.6233 - mae: 2.6233\n"
     ]
    },
    {
     "data": {
      "text/plain": [
       "[2.6232659816741943, 2.6232659816741943]"
      ]
     },
     "execution_count": 56,
     "metadata": {},
     "output_type": "execute_result"
    }
   ],
   "source": [
    "# Evaluate the model on the test set\n",
    "model.evaluate(X_test, y_test)"
   ]
  },
  {
   "cell_type": "code",
   "execution_count": 59,
   "metadata": {},
   "outputs": [
    {
     "data": {
      "text/plain": [
       "(array([[-43.005993],\n",
       "        [ 63.55314 ],\n",
       "        [ 28.187595],\n",
       "        [ 87.13017 ],\n",
       "        [-25.447376],\n",
       "        [ 98.91869 ],\n",
       "        [ 12.47102 ],\n",
       "        [  8.550303],\n",
       "        [ 36.046608],\n",
       "        [-16.636824]], dtype=float32),\n",
       " <tf.Tensor: shape=(10,), dtype=int32, numpy=array([-38,  66,  30,  90, -22, 102,  14,  10,  38, -14])>)"
      ]
     },
     "execution_count": 59,
     "metadata": {},
     "output_type": "execute_result"
    }
   ],
   "source": [
    "y_pred, y_test"
   ]
  },
  {
   "cell_type": "markdown",
   "metadata": {},
   "source": [
    "#### 54. Mean Absolute Error"
   ]
  },
  {
   "cell_type": "code",
   "execution_count": 65,
   "metadata": {},
   "outputs": [
    {
     "data": {
      "text/plain": [
       "<tf.Tensor: shape=(), dtype=float32, numpy=2.623266>"
      ]
     },
     "execution_count": 65,
     "metadata": {},
     "output_type": "execute_result"
    }
   ],
   "source": [
    "tf.metrics.MAE(y_test, tf.squeeze(tf.constant(y_pred)))"
   ]
  },
  {
   "cell_type": "code",
   "execution_count": 19,
   "metadata": {},
   "outputs": [],
   "source": [
    "def mae_metric(y_true, y_pred):\n",
    "    return tf.metrics.MAE(y_test, tf.squeeze(tf.constant(y_pred)))"
   ]
  },
  {
   "cell_type": "markdown",
   "metadata": {},
   "source": [
    "#### 55. Mean Square Error"
   ]
  },
  {
   "cell_type": "code",
   "execution_count": 66,
   "metadata": {},
   "outputs": [
    {
     "data": {
      "text/plain": [
       "<tf.Tensor: shape=(), dtype=float32, numpy=7.915465>"
      ]
     },
     "execution_count": 66,
     "metadata": {},
     "output_type": "execute_result"
    }
   ],
   "source": [
    "tf.metrics.MSE(y_test, tf.squeeze(tf.constant(y_pred)))"
   ]
  },
  {
   "cell_type": "code",
   "execution_count": 18,
   "metadata": {},
   "outputs": [],
   "source": [
    "def mse_metric(y_true, y_pred):\n",
    "    return tf.metrics.MSE(y_test, tf.squeeze(tf.constant(y_pred)))"
   ]
  },
  {
   "cell_type": "markdown",
   "metadata": {},
   "source": [
    "### 56 - 57. Setting up Modelling Experiments"
   ]
  },
  {
   "cell_type": "markdown",
   "metadata": {},
   "source": [
    "The machine learning practicioner's motto would be:\n",
    "> Experiment, experiment, experiment\n",
    "\n",
    "**Options to improve our models:**\n",
    "* *Get more data* - Get more examples for your model to train on (more opportunities to learn patterns or relationships between features and labels).\n",
    "* *Make your model larger using a more complex model* - This might come in the form of more layers or more hidden units/neurons in each layer.\n",
    "* *Train for Longer* - Give your model more of a chance to find patterns in the data\n",
    "\n",
    "**Let's do 3 modelling experiments:**\n",
    "1. `model_1`\n",
    "    * 1 Layer\n",
    "    * 100 epochs\n",
    "2. `model_2` \n",
    "    * 2 layers\n",
    "    * 100 epochs\n",
    "3. `model_3`\n",
    "   * 2 layers\n",
    "   * 500 epochs\n",
    "4. `model_4`\n",
    "   * 2 layers\n",
    "   * 100 epochs\n",
    "   * Adam Optimizer\n",
    "5. `model_5`\n",
    "   * 4 layers [(50, 'relu'), (50, 'relu'), (50, 'relu'), 1]\n",
    "   * 100 epochs"
   ]
  },
  {
   "cell_type": "markdown",
   "metadata": {},
   "source": [
    "You want to start with small experiments (small models )and make sure they work, then increase their scale if needed"
   ]
  },
  {
   "cell_type": "code",
   "execution_count": 6,
   "metadata": {},
   "outputs": [
    {
     "data": {
      "text/plain": [
       "(<tf.Tensor: shape=(40,), dtype=int32, numpy=\n",
       " array([ -52,  -84,   48,  -68,  -88,  -76,   64,   84,   88,  -40,  -64,\n",
       "         -36,   -4,   36,   24, -100,   76,    8,   32,  -80,   16,  -56,\n",
       "          44,  -96,  -16,  -92,   72,   40,   -8,   60,  -60,  -12,  -28,\n",
       "          96,  -20,  -72,   68,  -44,   12,   52])>,\n",
       " <tf.Tensor: shape=(40,), dtype=int32, numpy=\n",
       " array([-42, -74,  58, -58, -78, -66,  74,  94,  98, -30, -54, -26,   6,\n",
       "         46,  34, -90,  86,  18,  42, -70,  26, -46,  54, -86,  -6, -82,\n",
       "         82,  50,   2,  70, -50,  -2, -18, 106, -10, -62,  78, -34,  22,\n",
       "         62])>)"
      ]
     },
     "execution_count": 6,
     "metadata": {},
     "output_type": "execute_result"
    }
   ],
   "source": [
    "X_train, y_train"
   ]
  },
  {
   "cell_type": "code",
   "execution_count": 35,
   "metadata": {},
   "outputs": [],
   "source": [
    "tf.random.set_seed(42)\n",
    "\n",
    "models = {\n",
    "    'model_1': tf.keras.Sequential(\n",
    "        [\n",
    "            tf.keras.layers.Dense(1)\n",
    "        ]\n",
    "    ),\n",
    "    'model_2': tf.keras.Sequential(\n",
    "        [\n",
    "            tf.keras.layers.Dense(10),\n",
    "            tf.keras.layers.Dense(1)\n",
    "        ]\n",
    "    ),\n",
    "    'model_3': tf.keras.Sequential(\n",
    "        [\n",
    "            tf.keras.layers.Dense(10),\n",
    "            tf.keras.layers.Dense(1)\n",
    "        ]\n",
    "    ),\n",
    "    'model_4': tf.keras.Sequential(\n",
    "        [\n",
    "            tf.keras.layers.Dense(50),\n",
    "            tf.keras.layers.Dense(1)\n",
    "        ]\n",
    "    ),\n",
    "    'model_5': tf.keras.Sequential(\n",
    "        [\n",
    "            tf.keras.layers.Dense(50, activation = 'relu'),\n",
    "            tf.keras.layers.Dense(50, activation = 'relu'),\n",
    "            tf.keras.layers.Dense(50, activation = 'relu'),\n",
    "            tf.keras.layers.Dense(1)\n",
    "        ]\n",
    "    ),\n",
    "}"
   ]
  },
  {
   "cell_type": "markdown",
   "metadata": {},
   "source": [
    "#### 56. Start with a Simple Model"
   ]
  },
  {
   "cell_type": "markdown",
   "metadata": {},
   "source": [
    "##### **Model_1**"
   ]
  },
  {
   "cell_type": "code",
   "execution_count": 27,
   "metadata": {},
   "outputs": [
    {
     "name": "stdout",
     "output_type": "stream",
     "text": [
      "1/1 [==============================] - 0s 36ms/step\n"
     ]
    },
    {
     "data": {
      "image/png": "[encoded data removed]",
      "text/plain": [
       "<Figure size 1000x700 with 1 Axes>"
      ]
     },
     "metadata": {},
     "output_type": "display_data"
    }
   ],
   "source": [
    "models['model_1'].compile(\n",
    "    loss = tf.keras.losses.mae,\n",
    "    optimizer = tf.keras.optimizers.SGD(),\n",
    "    metrics = ['mae']\n",
    ")\n",
    "\n",
    "models['model_1'].fit(\n",
    "    tf.expand_dims(X_train, axis=-1),\n",
    "    y_train,\n",
    "    epochs=100,\n",
    "    verbose = 0\n",
    ")\n",
    "\n",
    "y_pred_1 = models['model_1'].predict(X_test)\n",
    "\n",
    "check_predictions(predictions = y_pred_1)"
   ]
  },
  {
   "cell_type": "code",
   "execution_count": 28,
   "metadata": {},
   "outputs": [
    {
     "data": {
      "text/plain": [
       "(<tf.Tensor: shape=(), dtype=float32, numpy=19.73668>,\n",
       " <tf.Tensor: shape=(), dtype=float32, numpy=619.59045>)"
      ]
     },
     "execution_count": 28,
     "metadata": {},
     "output_type": "execute_result"
    }
   ],
   "source": [
    "mae_1 = mae_metric(y_test, y_pred_1)\n",
    "mse_1 = mse_metric(y_test, y_pred_1)\n",
    "\n",
    "mae_1, mse_1"
   ]
  },
  {
   "cell_type": "markdown",
   "metadata": {},
   "source": [
    "#### 57. Increasing Complexity"
   ]
  },
  {
   "cell_type": "markdown",
   "metadata": {},
   "source": [
    "##### **Model_2**"
   ]
  },
  {
   "cell_type": "code",
   "execution_count": 29,
   "metadata": {},
   "outputs": [
    {
     "name": "stdout",
     "output_type": "stream",
     "text": [
      "1/1 [==============================] - 0s 49ms/step\n"
     ]
    },
    {
     "data": {
      "image/png": "[encoded data removed]",
      "text/plain": [
       "<Figure size 1000x700 with 1 Axes>"
      ]
     },
     "metadata": {},
     "output_type": "display_data"
    }
   ],
   "source": [
    "models['model_2'].compile(\n",
    "    loss = tf.keras.losses.mae,\n",
    "    optimizer = tf.keras.optimizers.SGD(),\n",
    "    metrics = ['mae']\n",
    ")\n",
    "\n",
    "models['model_2'].fit(\n",
    "    tf.expand_dims(X_train, axis=-1),\n",
    "    y_train,\n",
    "    epochs=100,\n",
    "    verbose = 0\n",
    ")\n",
    "\n",
    "y_pred_2 = models['model_2'].predict(X_test)\n",
    "\n",
    "check_predictions(predictions = y_pred_2)"
   ]
  },
  {
   "cell_type": "code",
   "execution_count": 30,
   "metadata": {},
   "outputs": [
    {
     "data": {
      "text/plain": [
       "(<tf.Tensor: shape=(), dtype=float32, numpy=28.561665>,\n",
       " <tf.Tensor: shape=(), dtype=float32, numpy=1263.1437>)"
      ]
     },
     "execution_count": 30,
     "metadata": {},
     "output_type": "execute_result"
    }
   ],
   "source": [
    "mae_2 = mae_metric(y_test, y_pred_2)\n",
    "mse_2 = mse_metric(y_test, y_pred_2)\n",
    "\n",
    "mae_2, mse_2"
   ]
  },
  {
   "cell_type": "markdown",
   "metadata": {},
   "source": [
    "##### **Model_3**"
   ]
  },
  {
   "cell_type": "code",
   "execution_count": 33,
   "metadata": {},
   "outputs": [
    {
     "name": "stdout",
     "output_type": "stream",
     "text": [
      "WARNING:tensorflow:6 out of the last 6 calls to <function Model.make_predict_function.<locals>.predict_function at 0x000002F896143310> triggered tf.function retracing. Tracing is expensive and the excessive number of tracings could be due to (1) creating @tf.function repeatedly in a loop, (2) passing tensors with different shapes, (3) passing Python objects instead of tensors. For (1), please define your @tf.function outside of the loop. For (2), @tf.function has reduce_retracing=True option that can avoid unnecessary retracing. For (3), please refer to https://www.tensorflow.org/guide/function#controlling_retracing and https://www.tensorflow.org/api_docs/python/tf/function for  more details.\n",
      "1/1 [==============================] - 0s 40ms/step\n"
     ]
    },
    {
     "data": {
      "image/png": "[encoded data removed]",
      "text/plain": [
       "<Figure size 1000x700 with 1 Axes>"
      ]
     },
     "metadata": {},
     "output_type": "display_data"
    }
   ],
   "source": [
    "models['model_3'].compile(\n",
    "    loss = tf.keras.losses.mae,\n",
    "    optimizer = tf.keras.optimizers.SGD(),\n",
    "    metrics = ['mae']\n",
    ")\n",
    "\n",
    "models['model_3'].fit(\n",
    "    tf.expand_dims(X_train, axis=-1),\n",
    "    y_train,\n",
    "    epochs=500,\n",
    "    verbose = 0\n",
    ")\n",
    "\n",
    "y_pred_3 = models['model_3'].predict(X_test)\n",
    "\n",
    "check_predictions(predictions = y_pred_3)"
   ]
  },
  {
   "cell_type": "code",
   "execution_count": 32,
   "metadata": {},
   "outputs": [
    {
     "data": {
      "text/plain": [
       "(<tf.Tensor: shape=(), dtype=float32, numpy=40.044235>,\n",
       " <tf.Tensor: shape=(), dtype=float32, numpy=2481.85>)"
      ]
     },
     "execution_count": 32,
     "metadata": {},
     "output_type": "execute_result"
    }
   ],
   "source": [
    "mae_3 = mae_metric(y_test, y_pred_3)\n",
    "mse_3 = mse_metric(y_test, y_pred_3)\n",
    "\n",
    "mae_3, mse_3"
   ]
  },
  {
   "cell_type": "markdown",
   "metadata": {},
   "source": [
    "##### **Model_4**"
   ]
  },
  {
   "cell_type": "code",
   "execution_count": 36,
   "metadata": {},
   "outputs": [
    {
     "name": "stdout",
     "output_type": "stream",
     "text": [
      "1/1 [==============================] - 0s 42ms/step\n"
     ]
    },
    {
     "data": {
      "image/png": "[encoded data removed]",
      "text/plain": [
       "<Figure size 1000x700 with 1 Axes>"
      ]
     },
     "metadata": {},
     "output_type": "display_data"
    }
   ],
   "source": [
    "models['model_4'].compile(\n",
    "    loss = tf.keras.losses.mae,\n",
    "    optimizer = tf.keras.optimizers.SGD(),\n",
    "    metrics = ['mae']\n",
    ")\n",
    "\n",
    "models['model_4'].fit(\n",
    "    tf.expand_dims(X_train, axis=-1),\n",
    "    y_train,\n",
    "    epochs=100,\n",
    "    verbose = 0\n",
    ")\n",
    "\n",
    "y_pred_4 = models['model_4'].predict(X_test)\n",
    "\n",
    "mae_4 = mae_metric(y_test, y_pred_4)\n",
    "mse_4 = mse_metric(y_test, y_pred_4)\n",
    "\n",
    "check_predictions(predictions = y_pred_4)"
   ]
  },
  {
   "cell_type": "markdown",
   "metadata": {},
   "source": [
    "##### **Model_5**"
   ]
  },
  {
   "cell_type": "code",
   "execution_count": 38,
   "metadata": {},
   "outputs": [
    {
     "name": "stdout",
     "output_type": "stream",
     "text": [
      "1/1 [==============================] - 0s 56ms/step\n"
     ]
    },
    {
     "data": {
      "image/png": "[encoded data removed]",
      "text/plain": [
       "<Figure size 1000x700 with 1 Axes>"
      ]
     },
     "metadata": {},
     "output_type": "display_data"
    }
   ],
   "source": [
    "models['model_5'].compile(\n",
    "    loss = tf.keras.losses.mae,\n",
    "    optimizer = tf.keras.optimizers.Adam(),\n",
    "    metrics = ['mae']\n",
    ")\n",
    "\n",
    "models['model_5'].fit(\n",
    "    tf.expand_dims(X_train, axis=-1),\n",
    "    y_train,\n",
    "    epochs=100,\n",
    "    verbose = 0\n",
    ")\n",
    "\n",
    "y_pred_5 = models['model_5'].predict(X_test)\n",
    "\n",
    "mae_5 = mae_metric(y_test, y_pred_5)\n",
    "mse_5 = mse_metric(y_test, y_pred_5)\n",
    "\n",
    "check_predictions(predictions = y_pred_5)"
   ]
  },
  {
   "cell_type": "markdown",
   "metadata": {},
   "source": [
    "### 58. Comparing and tracking your TensorFlow modelling experiments"
   ]
  },
  {
   "cell_type": "code",
   "execution_count": null,
   "metadata": {},
   "outputs": [],
   "source": []
  },
  {
   "cell_type": "markdown",
   "metadata": {},
   "source": [
    "### 59. How to save a TensorFlow model"
   ]
  },
  {
   "cell_type": "code",
   "execution_count": null,
   "metadata": {},
   "outputs": [],
   "source": []
  },
  {
   "cell_type": "markdown",
   "metadata": {},
   "source": [
    "### 60. How to load and use a saved TensorFlow model"
   ]
  },
  {
   "cell_type": "code",
   "execution_count": null,
   "metadata": {},
   "outputs": [],
   "source": []
  },
  {
   "cell_type": "markdown",
   "metadata": {},
   "source": [
    "### 62 - 64. Putting together what we've learned"
   ]
  },
  {
   "cell_type": "markdown",
   "metadata": {},
   "source": [
    "#### 62. Preparing a Dataset"
   ]
  },
  {
   "cell_type": "code",
   "execution_count": null,
   "metadata": {},
   "outputs": [],
   "source": []
  },
  {
   "cell_type": "markdown",
   "metadata": {},
   "source": [
    "#### 63. Building a Regression Model"
   ]
  },
  {
   "cell_type": "code",
   "execution_count": null,
   "metadata": {},
   "outputs": [],
   "source": []
  },
  {
   "cell_type": "markdown",
   "metadata": {},
   "source": [
    "#### 64. Improving our Regression Model"
   ]
  },
  {
   "cell_type": "code",
   "execution_count": null,
   "metadata": {},
   "outputs": [],
   "source": []
  },
  {
   "cell_type": "markdown",
   "metadata": {},
   "source": [
    "### 65 - 67. Preprocessing data with Feature Scaling"
   ]
  },
  {
   "cell_type": "markdown",
   "metadata": {},
   "source": [
    "#### 65. What is Feature Scaling?"
   ]
  },
  {
   "cell_type": "code",
   "execution_count": null,
   "metadata": {},
   "outputs": [],
   "source": []
  },
  {
   "cell_type": "markdown",
   "metadata": {},
   "source": [
    "#### 66. Normalizing our Data"
   ]
  },
  {
   "cell_type": "code",
   "execution_count": null,
   "metadata": {},
   "outputs": [],
   "source": []
  },
  {
   "cell_type": "markdown",
   "metadata": {},
   "source": [
    "#### 67. Fitting a Model on Scaled Data"
   ]
  },
  {
   "cell_type": "markdown",
   "metadata": {},
   "source": []
  }
 ],
 "metadata": {
  "kernelspec": {
   "display_name": "tf-dev-cert",
   "language": "python",
   "name": "python3"
  },
  "language_info": {
   "codemirror_mode": {
    "name": "ipython",
    "version": 3
   },
   "file_extension": ".py",
   "mimetype": "text/x-python",
   "name": "python",
   "nbconvert_exporter": "python",
   "pygments_lexer": "ipython3",
   "version": "3.9.19"
  }
 },
 "nbformat": 4,
 "nbformat_minor": 2
}
